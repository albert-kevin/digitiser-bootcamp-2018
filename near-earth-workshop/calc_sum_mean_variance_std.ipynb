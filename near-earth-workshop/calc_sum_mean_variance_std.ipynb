{
 "cells": [
  {
   "cell_type": "code",
   "execution_count": 1,
   "metadata": {},
   "outputs": [],
   "source": [
    "def calc_sum(data_list):\n",
    "    \"\"\"\n",
    "    self written basic function to read a list of data and sum up all and output a total sum\n",
    "    data_list can be of the list type with either float or int values\n",
    "    \"\"\"\n",
    "    x = data_list[0]\n",
    "    for i in range(len(data_list)-1):\n",
    "        x += data_list[i+1]\n",
    "    return x"
   ]
  },
  {
   "cell_type": "code",
   "execution_count": 2,
   "metadata": {},
   "outputs": [
    {
     "name": "stdout",
     "output_type": "stream",
     "text": [
      "7.8 ns ± 0.0289 ns per loop (mean ± std. dev. of 7 runs, 100000000 loops each)\n"
     ]
    },
    {
     "data": {
      "text/plain": [
       "20.32"
      ]
     },
     "execution_count": 2,
     "metadata": {},
     "output_type": "execute_result"
    }
   ],
   "source": [
    "#test function\n",
    "%timeit 5\n",
    "data = [0.02, 5.0, 1, 2, 3, 4.3, 5]  #sample test data\n",
    "calc_sum(data)# == sum(data)"
   ]
  },
  {
   "cell_type": "code",
   "execution_count": 3,
   "metadata": {},
   "outputs": [],
   "source": [
    "import numpy as np"
   ]
  },
  {
   "cell_type": "code",
   "execution_count": 4,
   "metadata": {},
   "outputs": [
    {
     "name": "stdout",
     "output_type": "stream",
     "text": [
      "7.83 ns ± 0.0244 ns per loop (mean ± std. dev. of 7 runs, 100000000 loops each)\n"
     ]
    },
    {
     "data": {
      "text/plain": [
       "20.32"
      ]
     },
     "execution_count": 4,
     "metadata": {},
     "output_type": "execute_result"
    }
   ],
   "source": [
    "%timeit 5\n",
    "data = [0.02, 5.0, 1, 2, 3, 4.3, 5]  #sample test data\n",
    "np.sum(data)"
   ]
  },
  {
   "cell_type": "code",
   "execution_count": 5,
   "metadata": {},
   "outputs": [],
   "source": [
    "def calc_mean(data_list):\n",
    "    \"\"\"\n",
    "    self written basic function to read a list of data and calculate the mean\n",
    "    data_list can be of the list type with either float or int values\n",
    "    \"\"\"\n",
    "    return calc_sum(data_list) / len(data_list)"
   ]
  },
  {
   "cell_type": "code",
   "execution_count": 6,
   "metadata": {},
   "outputs": [
    {
     "name": "stdout",
     "output_type": "stream",
     "text": [
      "7.86 ns ± 0.0756 ns per loop (mean ± std. dev. of 7 runs, 100000000 loops each)\n"
     ]
    },
    {
     "data": {
      "text/plain": [
       "2.902857142857143"
      ]
     },
     "execution_count": 6,
     "metadata": {},
     "output_type": "execute_result"
    }
   ],
   "source": [
    "#test function\n",
    "%timeit 5\n",
    "data = [0.02, 5.0, 1, 2, 3, 4.3, 5]  #sample test data\n",
    "calc_mean(data)# == mean(data)"
   ]
  },
  {
   "cell_type": "code",
   "execution_count": 7,
   "metadata": {},
   "outputs": [
    {
     "name": "stdout",
     "output_type": "stream",
     "text": [
      "9.65 ns ± 0.0142 ns per loop (mean ± std. dev. of 7 runs, 100000000 loops each)\n"
     ]
    },
    {
     "data": {
      "text/plain": [
       "2.902857142857143"
      ]
     },
     "execution_count": 7,
     "metadata": {},
     "output_type": "execute_result"
    }
   ],
   "source": [
    "%timeit 5\n",
    "data = [0.02, 5.0, 1, 2, 3, 4.3, 5]  #sample test data\n",
    "np.mean(data)"
   ]
  },
  {
   "cell_type": "code",
   "execution_count": null,
   "metadata": {},
   "outputs": [],
   "source": [
    "def calc_sample_variance(data_list):\n",
    "    \"\"\"\n",
    "    self written basic function to read a list of data and calculate the variance\n",
    "    data_list can be of the list type with either float or int values\n",
    "    \"\"\"\n",
    "    n = len(data_list)  #number of sample values\n",
    "    sample_mean = calc_mean(data_list)  #sample mean of the sample values\n",
    "    difference = [(data_list[i] - sample_mean)*(data_list[i] - sample_mean) for i in range(len(data_list))]\n",
    "    return calc_sum(difference) / n"
   ]
  },
  {
   "cell_type": "code",
   "execution_count": null,
   "metadata": {},
   "outputs": [],
   "source": [
    "%timeit 5\n",
    "calc_sample_variance(data)"
   ]
  },
  {
   "cell_type": "code",
   "execution_count": null,
   "metadata": {},
   "outputs": [],
   "source": [
    "%timeit 5\n",
    "np.var(data)"
   ]
  },
  {
   "cell_type": "code",
   "execution_count": null,
   "metadata": {},
   "outputs": [],
   "source": [
    "from math import sqrt"
   ]
  },
  {
   "cell_type": "code",
   "execution_count": null,
   "metadata": {},
   "outputs": [],
   "source": [
    "def calc_sample_std(data_list):\n",
    "    \"\"\"\n",
    "    self written basic function to read a list of data and calculate the sample standard deviation\n",
    "    data_list can be of the list type with either float or int values\n",
    "    \"\"\"\n",
    "    return sqrt(calc_sample_variance(data_list))    "
   ]
  },
  {
   "cell_type": "code",
   "execution_count": null,
   "metadata": {},
   "outputs": [],
   "source": [
    "data = [0.02, 5.0, 1, 2, 3, 4.3, 5]  #sample test data"
   ]
  },
  {
   "cell_type": "code",
   "execution_count": null,
   "metadata": {},
   "outputs": [],
   "source": [
    "%timeit 5\n",
    "calc_sample_std(data)"
   ]
  },
  {
   "cell_type": "code",
   "execution_count": null,
   "metadata": {},
   "outputs": [],
   "source": [
    "%timeit 5\n",
    "np.std(data)"
   ]
  }
 ],
 "metadata": {
  "kernelspec": {
   "display_name": "Python 3",
   "language": "python",
   "name": "python3"
  },
  "language_info": {
   "codemirror_mode": {
    "name": "ipython",
    "version": 3
   },
   "file_extension": ".py",
   "mimetype": "text/x-python",
   "name": "python",
   "nbconvert_exporter": "python",
   "pygments_lexer": "ipython3",
   "version": "3.6.5"
  }
 },
 "nbformat": 4,
 "nbformat_minor": 2
}
