{
 "cells": [
  {
   "cell_type": "code",
   "execution_count": 7,
   "metadata": {},
   "outputs": [],
   "source": [
    "import random\n",
    "import numpy as np"
   ]
  },
  {
   "cell_type": "code",
   "execution_count": 34,
   "metadata": {},
   "outputs": [],
   "source": [
    "def initialize(p_zero, N):\n",
    "    # draw the intersection map, NxN adjacency matrix\n",
    "    # X_ij = amount of time to get from position i to j\n",
    "    # N: number of intersections\n",
    "    \n",
    "    the_map = np.zeros((N,N), dtype=int)\n",
    "    \n",
    "    for i in range(0, N):\n",
    "        for j in range(0, i):\n",
    "            if random.random() > p_zero:\n",
    "                the_map[i][j] = random.random() * 100\n",
    "                the_map[j][i] = the_map[i][j]\n",
    "        \n",
    "    return the_map"
   ]
  },
  {
   "cell_type": "code",
   "execution_count": 4,
   "metadata": {},
   "outputs": [],
   "source": [
    "def fitness(member):\n",
    "    # calc distance of a root\n",
    "    return 1"
   ]
  },
  {
   "cell_type": "code",
   "execution_count": 2,
   "metadata": {},
   "outputs": [],
   "source": [
    "def crossover(a, b):\n",
    "    # breed mix solutions\n",
    "    return a"
   ]
  },
  {
   "cell_type": "code",
   "execution_count": 3,
   "metadata": {},
   "outputs": [],
   "source": [
    "def mutate(member):\n",
    "    return member"
   ]
  },
  {
   "cell_type": "code",
   "execution_count": 5,
   "metadata": {},
   "outputs": [],
   "source": [
    "def create_new_member(the_map):\n",
    "    # creating route randomly\n",
    "    # route structure will be a vector of integers where each value is the enxt step in the route\n",
    "    # we need to go from 0 to end value and not pass zero's\n",
    "    N = len(the_map)\n",
    "       \n",
    "    route = np.zeros(1, dtype=int)\n",
    "    go = true\n",
    "    i = 1\n",
    "\n",
    "    while go:\n",
    "            possible_values = np.nonzero(the_map[route[i-1]])\n",
    "            proposed_value = random.randint(0, len(possible_values[0])-1)\n",
    "            route = np.append(route, possible_values[0][proposed_value])\n",
    "            \n",
    "            if route[i] == N-1:\n",
    "                go = False\n",
    "            else:\n",
    "                i += 1\n",
    "\n",
    "    print(route)    \n",
    "    return route"
   ]
  },
  {
   "cell_type": "code",
   "execution_count": 6,
   "metadata": {},
   "outputs": [],
   "source": [
    "def create_next_generation(population):\n",
    "    return population"
   ]
  },
  {
   "cell_type": "code",
   "execution_count": null,
   "metadata": {},
   "outputs": [],
   "source": [
    "def main(number_of _iterations):\n",
    "    return True"
   ]
  }
 ],
 "metadata": {
  "kernelspec": {
   "display_name": "Python 3",
   "language": "python",
   "name": "python3"
  },
  "language_info": {
   "codemirror_mode": {
    "name": "ipython",
    "version": 3
   },
   "file_extension": ".py",
   "mimetype": "text/x-python",
   "name": "python",
   "nbconvert_exporter": "python",
   "pygments_lexer": "ipython3",
   "version": "3.6.5"
  }
 },
 "nbformat": 4,
 "nbformat_minor": 2
}
