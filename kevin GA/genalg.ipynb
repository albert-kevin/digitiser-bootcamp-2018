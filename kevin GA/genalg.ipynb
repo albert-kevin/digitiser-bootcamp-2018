{
 "cells": [
  {
   "cell_type": "code",
   "execution_count": 53,
   "metadata": {},
   "outputs": [],
   "source": [
    "import random\n",
    "import numpy as np\n",
    "import pdb"
   ]
  },
  {
   "cell_type": "code",
   "execution_count": 37,
   "metadata": {},
   "outputs": [],
   "source": [
    "def initialize(p_zero, N):\n",
    "    # draw the intersection map, NxN adjacency matrix\n",
    "    # X_ij = amount of time to get from position i to j\n",
    "    # N: number of intersections\n",
    "    \n",
    "    the_map = np.zeros((N,N), dtype=int)\n",
    "    \n",
    "    for i in range(0, N):\n",
    "        for j in range(0, i):\n",
    "            if random.random() > p_zero:\n",
    "                the_map[i][j] = random.random() * 100\n",
    "                the_map[j][i] = the_map[i][j]\n",
    "        \n",
    "    return the_map"
   ]
  },
  {
   "cell_type": "code",
   "execution_count": 40,
   "metadata": {},
   "outputs": [
    {
     "data": {
      "text/plain": [
       "array([[ 0, 75, 15, 48, 13, 53, 41, 43,  9, 64],\n",
       "       [75,  0, 58, 37, 69, 68,  7, 63, 31, 75],\n",
       "       [15, 58,  0, 33,  5, 46, 57, 60, 32, 35],\n",
       "       [48, 37, 33,  0, 89, 76, 17, 26, 58, 89],\n",
       "       [13, 69,  5, 89,  0, 57, 70,  8, 34, 75],\n",
       "       [53, 68, 46, 76, 57,  0, 17, 84, 18, 26],\n",
       "       [41,  7, 57, 17, 70, 17,  0, 49, 92, 63],\n",
       "       [43, 63, 60, 26,  8, 84, 49,  0, 86, 79],\n",
       "       [ 9, 31, 32, 58, 34, 18, 92, 86,  0, 53],\n",
       "       [64, 75, 35, 89, 75, 26, 63, 79, 53,  0]])"
      ]
     },
     "execution_count": 40,
     "metadata": {},
     "output_type": "execute_result"
    }
   ],
   "source": [
    "initialize(p_zero=0, N=10)"
   ]
  },
  {
   "cell_type": "code",
   "execution_count": 84,
   "metadata": {},
   "outputs": [],
   "source": [
    "def fitness(member, the_map):\n",
    "    # calculate the distance of a route\n",
    "    pdb.set_trace()\n",
    "    score = 0\n",
    "    \n",
    "    for i in range(1, len(route)):\n",
    "        if (the_map[route[i-1]][route[i]] == 0) and i != len(the_map)-1:\n",
    "            print(\"WARNING: INVALID ROUTE\")\n",
    "            print(route)\n",
    "            print(the_map)\n",
    "        score = score + the_map[route[i-1]][route[i]]\n",
    "\n",
    "    return score"
   ]
  },
  {
   "cell_type": "code",
   "execution_count": 85,
   "metadata": {},
   "outputs": [
    {
     "name": "stdout",
     "output_type": "stream",
     "text": [
      "[0 9]\n",
      "> <ipython-input-84-a8f080c03ca2>(4)fitness()\n",
      "-> score = 0\n",
      "(Pdb) l\n",
      "  1  \tdef fitness(member, the_map):\n",
      "  2  \t    # calculate the distance of a route\n",
      "  3  \t    pdb.set_trace()\n",
      "  4  ->\t    score = 0\n",
      "  5  \t\n",
      "  6  \t    for i in range(1, len(route)):\n",
      "  7  \t        if (the_map[route[i-1]][route[i]] == 0) and i != len(the_map)-1:\n",
      "  8  \t            print(\"WARNING: INVALID ROUTE\")\n",
      "  9  \t            print(route)\n",
      " 10  \t            print(the_map)\n",
      " 11  \t        score = score + the_map[route[i-1]][route[i]]\n",
      "(Pdb) n\n",
      "> <ipython-input-84-a8f080c03ca2>(6)fitness()\n",
      "-> for i in range(1, len(route)):\n",
      "(Pdb) l\n",
      "  1  \tdef fitness(member, the_map):\n",
      "  2  \t    # calculate the distance of a route\n",
      "  3  \t    pdb.set_trace()\n",
      "  4  \t    score = 0\n",
      "  5  \t\n",
      "  6  ->\t    for i in range(1, len(route)):\n",
      "  7  \t        if (the_map[route[i-1]][route[i]] == 0) and i != len(the_map)-1:\n",
      "  8  \t            print(\"WARNING: INVALID ROUTE\")\n",
      "  9  \t            print(route)\n",
      " 10  \t            print(the_map)\n",
      " 11  \t        score = score + the_map[route[i-1]][route[i]]\n",
      "(Pdb) len(route)\n",
      "1\n",
      "(Pdb) route\n",
      "array([0])\n",
      "(Pdb) n\n",
      "> <ipython-input-84-a8f080c03ca2>(13)fitness()\n",
      "-> return score\n",
      "(Pdb) i\n",
      "*** NameError: name 'i' is not defined\n",
      "(Pdb) l\n",
      "  8  \t            print(\"WARNING: INVALID ROUTE\")\n",
      "  9  \t            print(route)\n",
      " 10  \t            print(the_map)\n",
      " 11  \t        score = score + the_map[route[i-1]][route[i]]\n",
      " 12  \t\n",
      " 13  ->\t    return score\n",
      "[EOF]\n",
      "(Pdb) quit()\n"
     ]
    },
    {
     "ename": "BdbQuit",
     "evalue": "",
     "output_type": "error",
     "traceback": [
      "\u001b[0;31m---------------------------------------------------------------------------\u001b[0m",
      "\u001b[0;31mBdbQuit\u001b[0m                                   Traceback (most recent call last)",
      "\u001b[0;32m<ipython-input-85-07b93d565b9f>\u001b[0m in \u001b[0;36m<module>\u001b[0;34m()\u001b[0m\n\u001b[1;32m      1\u001b[0m \u001b[0mthe_map\u001b[0m \u001b[0;34m=\u001b[0m \u001b[0minitialize\u001b[0m\u001b[0;34m(\u001b[0m\u001b[0mp_zero\u001b[0m\u001b[0;34m=\u001b[0m\u001b[0;36m0\u001b[0m\u001b[0;34m,\u001b[0m \u001b[0mN\u001b[0m\u001b[0;34m=\u001b[0m\u001b[0;36m10\u001b[0m\u001b[0;34m)\u001b[0m\u001b[0;34m\u001b[0m\u001b[0m\n\u001b[1;32m      2\u001b[0m \u001b[0mthe_map\u001b[0m\u001b[0;34m\u001b[0m\u001b[0m\n\u001b[0;32m----> 3\u001b[0;31m \u001b[0mfitness\u001b[0m\u001b[0;34m(\u001b[0m\u001b[0mmember\u001b[0m\u001b[0;34m=\u001b[0m\u001b[0mcreate_new_member\u001b[0m\u001b[0;34m(\u001b[0m\u001b[0mthe_map\u001b[0m\u001b[0;34m)\u001b[0m\u001b[0;34m,\u001b[0m \u001b[0mthe_map\u001b[0m\u001b[0;34m=\u001b[0m \u001b[0mthe_map\u001b[0m\u001b[0;34m)\u001b[0m\u001b[0;34m\u001b[0m\u001b[0m\n\u001b[0m",
      "\u001b[0;32m<ipython-input-84-a8f080c03ca2>\u001b[0m in \u001b[0;36mfitness\u001b[0;34m(member, the_map)\u001b[0m\n\u001b[1;32m     11\u001b[0m         \u001b[0mscore\u001b[0m \u001b[0;34m=\u001b[0m \u001b[0mscore\u001b[0m \u001b[0;34m+\u001b[0m \u001b[0mthe_map\u001b[0m\u001b[0;34m[\u001b[0m\u001b[0mroute\u001b[0m\u001b[0;34m[\u001b[0m\u001b[0mi\u001b[0m\u001b[0;34m-\u001b[0m\u001b[0;36m1\u001b[0m\u001b[0;34m]\u001b[0m\u001b[0;34m]\u001b[0m\u001b[0;34m[\u001b[0m\u001b[0mroute\u001b[0m\u001b[0;34m[\u001b[0m\u001b[0mi\u001b[0m\u001b[0;34m]\u001b[0m\u001b[0;34m]\u001b[0m\u001b[0;34m\u001b[0m\u001b[0m\n\u001b[1;32m     12\u001b[0m \u001b[0;34m\u001b[0m\u001b[0m\n\u001b[0;32m---> 13\u001b[0;31m     \u001b[0;32mreturn\u001b[0m \u001b[0mscore\u001b[0m\u001b[0;34m\u001b[0m\u001b[0m\n\u001b[0m",
      "\u001b[0;32m<ipython-input-84-a8f080c03ca2>\u001b[0m in \u001b[0;36mfitness\u001b[0;34m(member, the_map)\u001b[0m\n\u001b[1;32m     11\u001b[0m         \u001b[0mscore\u001b[0m \u001b[0;34m=\u001b[0m \u001b[0mscore\u001b[0m \u001b[0;34m+\u001b[0m \u001b[0mthe_map\u001b[0m\u001b[0;34m[\u001b[0m\u001b[0mroute\u001b[0m\u001b[0;34m[\u001b[0m\u001b[0mi\u001b[0m\u001b[0;34m-\u001b[0m\u001b[0;36m1\u001b[0m\u001b[0;34m]\u001b[0m\u001b[0;34m]\u001b[0m\u001b[0;34m[\u001b[0m\u001b[0mroute\u001b[0m\u001b[0;34m[\u001b[0m\u001b[0mi\u001b[0m\u001b[0;34m]\u001b[0m\u001b[0;34m]\u001b[0m\u001b[0;34m\u001b[0m\u001b[0m\n\u001b[1;32m     12\u001b[0m \u001b[0;34m\u001b[0m\u001b[0m\n\u001b[0;32m---> 13\u001b[0;31m     \u001b[0;32mreturn\u001b[0m \u001b[0mscore\u001b[0m\u001b[0;34m\u001b[0m\u001b[0m\n\u001b[0m",
      "\u001b[0;32m~/anaconda3/lib/python3.6/bdb.py\u001b[0m in \u001b[0;36mtrace_dispatch\u001b[0;34m(self, frame, event, arg)\u001b[0m\n\u001b[1;32m     49\u001b[0m             \u001b[0;32mreturn\u001b[0m \u001b[0;31m# None\u001b[0m\u001b[0;34m\u001b[0m\u001b[0m\n\u001b[1;32m     50\u001b[0m         \u001b[0;32mif\u001b[0m \u001b[0mevent\u001b[0m \u001b[0;34m==\u001b[0m \u001b[0;34m'line'\u001b[0m\u001b[0;34m:\u001b[0m\u001b[0;34m\u001b[0m\u001b[0m\n\u001b[0;32m---> 51\u001b[0;31m             \u001b[0;32mreturn\u001b[0m \u001b[0mself\u001b[0m\u001b[0;34m.\u001b[0m\u001b[0mdispatch_line\u001b[0m\u001b[0;34m(\u001b[0m\u001b[0mframe\u001b[0m\u001b[0;34m)\u001b[0m\u001b[0;34m\u001b[0m\u001b[0m\n\u001b[0m\u001b[1;32m     52\u001b[0m         \u001b[0;32mif\u001b[0m \u001b[0mevent\u001b[0m \u001b[0;34m==\u001b[0m \u001b[0;34m'call'\u001b[0m\u001b[0;34m:\u001b[0m\u001b[0;34m\u001b[0m\u001b[0m\n\u001b[1;32m     53\u001b[0m             \u001b[0;32mreturn\u001b[0m \u001b[0mself\u001b[0m\u001b[0;34m.\u001b[0m\u001b[0mdispatch_call\u001b[0m\u001b[0;34m(\u001b[0m\u001b[0mframe\u001b[0m\u001b[0;34m,\u001b[0m \u001b[0marg\u001b[0m\u001b[0;34m)\u001b[0m\u001b[0;34m\u001b[0m\u001b[0m\n",
      "\u001b[0;32m~/anaconda3/lib/python3.6/bdb.py\u001b[0m in \u001b[0;36mdispatch_line\u001b[0;34m(self, frame)\u001b[0m\n\u001b[1;32m     68\u001b[0m         \u001b[0;32mif\u001b[0m \u001b[0mself\u001b[0m\u001b[0;34m.\u001b[0m\u001b[0mstop_here\u001b[0m\u001b[0;34m(\u001b[0m\u001b[0mframe\u001b[0m\u001b[0;34m)\u001b[0m \u001b[0;32mor\u001b[0m \u001b[0mself\u001b[0m\u001b[0;34m.\u001b[0m\u001b[0mbreak_here\u001b[0m\u001b[0;34m(\u001b[0m\u001b[0mframe\u001b[0m\u001b[0;34m)\u001b[0m\u001b[0;34m:\u001b[0m\u001b[0;34m\u001b[0m\u001b[0m\n\u001b[1;32m     69\u001b[0m             \u001b[0mself\u001b[0m\u001b[0;34m.\u001b[0m\u001b[0muser_line\u001b[0m\u001b[0;34m(\u001b[0m\u001b[0mframe\u001b[0m\u001b[0;34m)\u001b[0m\u001b[0;34m\u001b[0m\u001b[0m\n\u001b[0;32m---> 70\u001b[0;31m             \u001b[0;32mif\u001b[0m \u001b[0mself\u001b[0m\u001b[0;34m.\u001b[0m\u001b[0mquitting\u001b[0m\u001b[0;34m:\u001b[0m \u001b[0;32mraise\u001b[0m \u001b[0mBdbQuit\u001b[0m\u001b[0;34m\u001b[0m\u001b[0m\n\u001b[0m\u001b[1;32m     71\u001b[0m         \u001b[0;32mreturn\u001b[0m \u001b[0mself\u001b[0m\u001b[0;34m.\u001b[0m\u001b[0mtrace_dispatch\u001b[0m\u001b[0;34m\u001b[0m\u001b[0m\n\u001b[1;32m     72\u001b[0m \u001b[0;34m\u001b[0m\u001b[0m\n",
      "\u001b[0;31mBdbQuit\u001b[0m: "
     ]
    }
   ],
   "source": [
    "the_map = initialize(p_zero=0, N=10)\n",
    "the_map\n",
    "fitness(member=create_new_member(the_map), the_map= the_map)"
   ]
  },
  {
   "cell_type": "code",
   "execution_count": 2,
   "metadata": {},
   "outputs": [],
   "source": [
    "def crossover(a, b):\n",
    "    # breed mix solutions\n",
    "    return a"
   ]
  },
  {
   "cell_type": "code",
   "execution_count": 3,
   "metadata": {},
   "outputs": [],
   "source": [
    "def mutate(member):\n",
    "    return member"
   ]
  },
  {
   "cell_type": "code",
   "execution_count": 56,
   "metadata": {},
   "outputs": [],
   "source": [
    "def create_new_member(the_map):\n",
    "    #pdb.set_trace()\n",
    "    # creating route randomly\n",
    "    # route structure will be a vector of integers where each value is the enxt step in the route\n",
    "    # we need to go from 0 to end value and not pass zero's\n",
    "    N = len(the_map)\n",
    "       \n",
    "    route = np.zeros(1, dtype=int)\n",
    "    go = True\n",
    "    i = 1\n",
    "\n",
    "    while go:\n",
    "        possible_values = np.nonzero(the_map[route[i-1]])\n",
    "        proposed_value = random.randint(0, len(possible_values[0])-1)\n",
    "        route = np.append(route, possible_values[0][proposed_value])\n",
    "            \n",
    "        if route[i] == N-1:\n",
    "            go = False\n",
    "        else:\n",
    "            i += 1\n",
    "\n",
    "    print(route)    \n",
    "    return route"
   ]
  },
  {
   "cell_type": "code",
   "execution_count": 57,
   "metadata": {},
   "outputs": [
    {
     "data": {
      "text/plain": [
       "array([[ 0, 80, 62,  8, 38, 54, 65,  3, 61, 96],\n",
       "       [80,  0, 93, 63, 39, 29, 68, 90,  1, 95],\n",
       "       [62, 93,  0, 83,  2, 43, 15, 45, 77, 76],\n",
       "       [ 8, 63, 83,  0, 53, 42, 76, 52, 92, 16],\n",
       "       [38, 39,  2, 53,  0, 46, 41, 49, 75, 10],\n",
       "       [54, 29, 43, 42, 46,  0, 32, 55, 65, 49],\n",
       "       [65, 68, 15, 76, 41, 32,  0, 41, 99,  7],\n",
       "       [ 3, 90, 45, 52, 49, 55, 41,  0, 18, 45],\n",
       "       [61,  1, 77, 92, 75, 65, 99, 18,  0, 83],\n",
       "       [96, 95, 76, 16, 10, 49,  7, 45, 83,  0]])"
      ]
     },
     "execution_count": 57,
     "metadata": {},
     "output_type": "execute_result"
    }
   ],
   "source": [
    "the_map = initialize(p_zero=0, N=10)\n",
    "the_map"
   ]
  },
  {
   "cell_type": "code",
   "execution_count": 72,
   "metadata": {},
   "outputs": [
    {
     "name": "stdout",
     "output_type": "stream",
     "text": [
      "[0 2 3 5 6 4 6 9]\n"
     ]
    },
    {
     "data": {
      "text/plain": [
       "array([0, 2, 3, 5, 6, 4, 6, 9])"
      ]
     },
     "execution_count": 72,
     "metadata": {},
     "output_type": "execute_result"
    }
   ],
   "source": [
    "create_new_member(the_map)"
   ]
  },
  {
   "cell_type": "code",
   "execution_count": 6,
   "metadata": {},
   "outputs": [],
   "source": [
    "def create_next_generation(population):\n",
    "    return population"
   ]
  },
  {
   "cell_type": "code",
   "execution_count": null,
   "metadata": {},
   "outputs": [],
   "source": [
    "def main(number_of _iterations):\n",
    "    return True"
   ]
  }
 ],
 "metadata": {
  "kernelspec": {
   "display_name": "Python 3",
   "language": "python",
   "name": "python3"
  },
  "language_info": {
   "codemirror_mode": {
    "name": "ipython",
    "version": 3
   },
   "file_extension": ".py",
   "mimetype": "text/x-python",
   "name": "python",
   "nbconvert_exporter": "python",
   "pygments_lexer": "ipython3",
   "version": "3.6.5"
  }
 },
 "nbformat": 4,
 "nbformat_minor": 2
}
