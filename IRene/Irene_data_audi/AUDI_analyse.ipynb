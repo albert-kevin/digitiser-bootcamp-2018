{
 "cells": [
  {
   "cell_type": "markdown",
   "metadata": {
    "heading_collapsed": true
   },
   "source": [
    "## Imports"
   ]
  },
  {
   "cell_type": "code",
   "execution_count": 6,
   "metadata": {
    "hidden": true
   },
   "outputs": [
    {
     "name": "stdout",
     "output_type": "stream",
     "text": [
      "The autoreload extension is already loaded. To reload it, use:\n",
      "  %reload_ext autoreload\n"
     ]
    }
   ],
   "source": [
    "%load_ext autoreload\n",
    "%autoreload 2\n",
    "\n",
    "%matplotlib inline"
   ]
  },
  {
   "cell_type": "code",
   "execution_count": 2,
   "metadata": {},
   "outputs": [
    {
     "ename": "ModuleNotFoundError",
     "evalue": "No module named 'pdpbox'",
     "output_type": "error",
     "traceback": [
      "\u001b[0;31m---------------------------------------------------------------------------\u001b[0m",
      "\u001b[0;31mModuleNotFoundError\u001b[0m                       Traceback (most recent call last)",
      "\u001b[0;32m<ipython-input-2-c99046110fa5>\u001b[0m in \u001b[0;36m<module>\u001b[0;34m()\u001b[0m\n\u001b[0;32m----> 1\u001b[0;31m \u001b[0;32mfrom\u001b[0m \u001b[0mpdpbox\u001b[0m \u001b[0;32mimport\u001b[0m \u001b[0mpdp\u001b[0m\u001b[0;34m\u001b[0m\u001b[0m\n\u001b[0m\u001b[1;32m      2\u001b[0m \u001b[0;32mfrom\u001b[0m \u001b[0mplotnine\u001b[0m \u001b[0;32mimport\u001b[0m \u001b[0;34m*\u001b[0m\u001b[0;34m\u001b[0m\u001b[0m\n",
      "\u001b[0;31mModuleNotFoundError\u001b[0m: No module named 'pdpbox'"
     ]
    }
   ],
   "source": [
    "from pdpbox import pdp\n",
    "from plotnine import *"
   ]
  },
  {
   "cell_type": "code",
   "execution_count": null,
   "metadata": {},
   "outputs": [],
   "source": [
    "import geopy.distance"
   ]
  },
  {
   "cell_type": "code",
   "execution_count": 5,
   "metadata": {
    "hidden": true
   },
   "outputs": [],
   "source": [
    "#from fastai.imports import *\n",
    "#from fastai.structured import *\n",
    "\n",
    "import pandas as pd\n",
    "\n",
    "#from pandas_summary import DataFrameSummary\n",
    "from sklearn.ensemble import RandomForestRegressor, RandomForestClassifier\n",
    "from IPython.display import display\n",
    "\n",
    "from sklearn import metrics"
   ]
  },
  {
   "cell_type": "code",
   "execution_count": null,
   "metadata": {
    "hidden": true
   },
   "outputs": [],
   "source": [
    "PATH = \"data/BDS_day4/\""
   ]
  },
  {
   "cell_type": "code",
   "execution_count": null,
   "metadata": {
    "hidden": true
   },
   "outputs": [],
   "source": [
    "!ls {PATH}"
   ]
  },
  {
   "cell_type": "markdown",
   "metadata": {
    "hidden": true
   },
   "source": [
    "*Question*\n",
    "\n",
    "estimate the Expected Delivery Time"
   ]
  },
  {
   "cell_type": "code",
   "execution_count": null,
   "metadata": {},
   "outputs": [],
   "source": [
    "def split_vals(a,n): return a[:n].copy(), a[n:].copy()\n",
    "def rmse(x,y): return math.sqrt(((x-y)**2).mean())\n",
    "\n",
    "def print_score(m):\n",
    "    res = [rmse(m.predict(X_train), y_train), rmse(m.predict(X_valid), y_valid),\n",
    "                m.score(X_train, y_train), m.score(X_valid, y_valid)]\n",
    "    if hasattr(m, 'oob_score_'): res.append(m.oob_score_)\n",
    "    print(res)\n",
    "    \n",
    "def plot_pdp(feat, clusters=None, feat_name=None):\n",
    "    feat_name = feat_name or feat\n",
    "    p = pdp.pdp_isolate(m, x, x.columns, feat)\n",
    "    return pdp.pdp_plot(p, feat_name, plot_lines=True, \n",
    "                        cluster=clusters is not None, n_cluster_centers=clusters)\n",
    "def plot_fi(fi): return fi.plot('cols', 'imp', 'barh', figsize=(12,7), legend=False)"
   ]
  },
  {
   "cell_type": "code",
   "execution_count": 4,
   "metadata": {},
   "outputs": [],
   "source": [
    "import pandas as pd\n",
    "\n",
    "df_raw = pd.read_excel('data_audi.xlsx', sheet_name='data', parse_dates=[\"DIMMFIR\", \"DIMMFIN\", \"DNAISSA\"])"
   ]
  },
  {
   "cell_type": "code",
   "execution_count": 7,
   "metadata": {},
   "outputs": [
    {
     "ename": "SyntaxError",
     "evalue": "EOL while scanning string literal (<ipython-input-7-edf5ac1a0c22>, line 1)",
     "output_type": "error",
     "traceback": [
      "\u001b[0;36m  File \u001b[0;32m\"<ipython-input-7-edf5ac1a0c22>\"\u001b[0;36m, line \u001b[0;32m1\u001b[0m\n\u001b[0;31m    add_datepart(df_raw, 'DIMMFIR\\')\u001b[0m\n\u001b[0m                                    ^\u001b[0m\n\u001b[0;31mSyntaxError\u001b[0m\u001b[0;31m:\u001b[0m EOL while scanning string literal\n"
     ]
    }
   ],
   "source": [
    "add_datepart(df_raw, 'DIMMFIR\\')"
   ]
  },
  {
   "cell_type": "code",
   "execution_count": null,
   "metadata": {},
   "outputs": [],
   "source": [
    "add_datepart(df_raw, 'DIMMFIN')"
   ]
  },
  {
   "cell_type": "code",
   "execution_count": 8,
   "metadata": {},
   "outputs": [
    {
     "ename": "NameError",
     "evalue": "name 'add_datepart' is not defined",
     "output_type": "error",
     "traceback": [
      "\u001b[0;31m---------------------------------------------------------------------------\u001b[0m",
      "\u001b[0;31mNameError\u001b[0m                                 Traceback (most recent call last)",
      "\u001b[0;32m<ipython-input-8-8c623a97574e>\u001b[0m in \u001b[0;36m<module>\u001b[0;34m()\u001b[0m\n\u001b[0;32m----> 1\u001b[0;31m \u001b[0madd_datepart\u001b[0m\u001b[0;34m(\u001b[0m\u001b[0mdf_raw\u001b[0m\u001b[0;34m,\u001b[0m \u001b[0;34m'DNAISSA'\u001b[0m\u001b[0;34m)\u001b[0m\u001b[0;34m\u001b[0m\u001b[0m\n\u001b[0m",
      "\u001b[0;31mNameError\u001b[0m: name 'add_datepart' is not defined"
     ]
    }
   ],
   "source": [
    "add_datepart(df_raw, 'DNAISSA')"
   ]
  },
  {
   "cell_type": "code",
   "execution_count": null,
   "metadata": {},
   "outputs": [],
   "source": [
    "train_cats(df_raw)"
   ]
  },
  {
   "cell_type": "code",
   "execution_count": null,
   "metadata": {},
   "outputs": [],
   "source": [
    "df, y, nas = proc_df(df_raw) #, max_n_cat=7)"
   ]
  },
  {
   "cell_type": "code",
   "execution_count": null,
   "metadata": {},
   "outputs": [],
   "source": [
    "n_trn = 5000"
   ]
  },
  {
   "cell_type": "code",
   "execution_count": null,
   "metadata": {},
   "outputs": [],
   "source": [
    "X_train, X_valid = split_vals(df, n_trn)"
   ]
  },
  {
   "cell_type": "code",
   "execution_count": null,
   "metadata": {},
   "outputs": [],
   "source": [
    "selFld = 'B2BB2C'\n",
    "print(df_raw[selFld].cat.categories)\n",
    "print(df_raw[selFld].describe())\n",
    "\n",
    "plt.show()\n",
    "plt.title(selFld)\n",
    "df[selFld].hist()"
   ]
  },
  {
   "cell_type": "code",
   "execution_count": null,
   "metadata": {},
   "outputs": [],
   "source": [
    "selFld = 'DNAISSAYear'\n",
    "print(df_raw[selFld].describe())\n",
    "\n",
    "plt.show()\n",
    "plt.title(selFld)\n",
    "df[selFld].hist()\n",
    "\n",
    "plt.show()\n",
    "plt.title(selFld+' - without errors')\n",
    "df[selFld][df[selFld]<2000].hist()"
   ]
  },
  {
   "cell_type": "code",
   "execution_count": null,
   "metadata": {},
   "outputs": [],
   "source": [
    "selFld = 'DNAISSAYear'\n",
    "selFld2 = 'B2BB2C'\n",
    "value2 = 1\n",
    "\n",
    " \n",
    "plt.show()\n",
    "plt.title(selFld+' - for '+selFld2+' = '+str(value2))\n",
    "df[selFld][df[selFld2]==value2].hist()\n",
    "\n",
    "value2 = 2\n",
    "\n",
    "plt.show()\n",
    "plt.title(selFld+' - for '+selFld2+' = '+str(value2))\n",
    "df[selFld][df[selFld2]==value2].hist()"
   ]
  },
  {
   "cell_type": "code",
   "execution_count": null,
   "metadata": {},
   "outputs": [],
   "source": [
    "selFld = 'CSEXEXX'\n",
    "print(df_raw[selFld].cat.categories)\n",
    "print(df_raw[selFld].describe())\n",
    "\n",
    "plt.show()\n",
    "plt.title(selFld)\n",
    "df[selFld].hist()"
   ]
  },
  {
   "cell_type": "code",
   "execution_count": null,
   "metadata": {},
   "outputs": [],
   "source": [
    "selFld = 'CSEXEXX'\n",
    "selFld2 = 'B2BB2C'\n",
    "value2 = 1\n",
    "\n",
    "plt.show()\n",
    "plt.title(selFld+' - for '+selFld2+' = '+str(value2))\n",
    "df[selFld][df[selFld2]==value2].hist()\n",
    "\n",
    "value2 = 2\n",
    "\n",
    "plt.show()\n",
    "plt.title(selFld+' - for '+selFld2+' = '+str(value2))\n",
    "df[selFld][df[selFld2]==value2].hist()"
   ]
  },
  {
   "cell_type": "code",
   "execution_count": null,
   "metadata": {},
   "outputs": [],
   "source": [
    "# predictF = 'CPOSTAL'\n",
    "\n",
    "# df_raw = pd.read_excel(f'{PATH}data_audi.xlsx', sheet_name='data', parse_dates=[\"DIMMFIR\", \"DIMMFIN\", \"DNAISSA\"])\n",
    "\n",
    "# df_raw[predictF] = np.log(df_raw[predictF])\n",
    "\n",
    "# add_datepart(df_raw, 'DIMMFIR')\n",
    "# add_datepart(df_raw, 'DIMMFIN')\n",
    "# add_datepart(df_raw, 'DNAISSA')\n",
    "\n",
    "# train_cats(df_raw)\n",
    "# df, y, nas = proc_df(df_raw, predictF) #, max_n_cat=7)\n",
    "\n",
    "# n_trn = 12000\n",
    "\n",
    "# X_train, X_valid = split_vals(df, n_trn)\n",
    "# y_train, y_valid = split_vals(y, n_trn)\n",
    "\n",
    "# m = RandomForestRegressor(n_estimators=140, min_samples_leaf=3, max_features=0.5, n_jobs=-1, oob_score=True)\n",
    "# m.fit(X_train, y_train)\n",
    "# print_score(m)"
   ]
  },
  {
   "cell_type": "code",
   "execution_count": null,
   "metadata": {},
   "outputs": [],
   "source": [
    "predictF = 'PRIX_DIFF_BASE_CAT'\n",
    "\n",
    "df_raw = pd.read_excel('data_audi.xlsx', sheet_name='data', parse_dates=[\"DIMMFIR\", \"DIMMFIN\", \"DNAISSA\"])\n",
    "\n",
    "# df_raw[predictF] = np.log(df_raw[predictF])\n",
    "\n",
    "df_raw.drop(['NCHASSI', 'ID', 'NCLIPRO', 'VPRICAT', 'VPRIBAS', 'VPRIFAC', 'PRIX_REDUCTION_INT', 'PRIX_REDUCTION'], axis=1, inplace=True)\n",
    "\n",
    "add_datepart(df_raw, 'DIMMFIR')\n",
    "add_datepart(df_raw, 'DIMMFIN')\n",
    "add_datepart(df_raw, 'DNAISSA')\n",
    "\n",
    "train_cats(df_raw)\n",
    "df, y, nas = proc_df(df_raw, predictF) #, max_n_cat=7)\n",
    "\n",
    "n_trn = 12000\n",
    "\n",
    "X_train, X_valid = split_vals(df, n_trn)\n",
    "y_train, y_valid = split_vals(y, n_trn)\n",
    "\n",
    "m = RandomForestRegressor(n_estimators=140, min_samples_leaf=3, max_features=0.5, n_jobs=-1, oob_score=True)\n",
    "m.fit(X_train, y_train)\n",
    "print_score(m)"
   ]
  },
  {
   "cell_type": "code",
   "execution_count": null,
   "metadata": {},
   "outputs": [],
   "source": [
    "fi = rf_feat_importance(m, df); fi[:10]"
   ]
  },
  {
   "cell_type": "code",
   "execution_count": null,
   "metadata": {},
   "outputs": [],
   "source": [
    "def plot_fi(fi): return fi.plot('cols', 'imp', 'barh', figsize=(12,7), legend=False)"
   ]
  },
  {
   "cell_type": "code",
   "execution_count": null,
   "metadata": {},
   "outputs": [],
   "source": [
    "plot_fi(fi[:10])"
   ]
  },
  {
   "cell_type": "code",
   "execution_count": null,
   "metadata": {},
   "outputs": [],
   "source": [
    "# predictF = 'PRIX_DIFF_BASE_CAT'\n",
    "\n",
    "# df_raw = pd.read_excel(f'{PATH}data_audi.xlsx', sheet_name='data', parse_dates=[\"DIMMFIR\", \"DIMMFIN\", \"DNAISSA\"])\n",
    "\n",
    "# add_datepart(df_raw, 'DIMMFIR')\n",
    "# add_datepart(df_raw, 'DIMMFIN')\n",
    "# add_datepart(df_raw, 'DNAISSA')\n",
    "\n",
    "# train_cats(df_raw)\n",
    "# df, y, nas = proc_df(df_raw, predictF) #, max_n_cat=7)\n",
    "\n",
    "# n_trn = 12000\n",
    "\n",
    "# X_train, X_valid = split_vals(df, n_trn)\n",
    "# y_train, y_valid = split_vals(y, n_trn)"
   ]
  },
  {
   "cell_type": "code",
   "execution_count": null,
   "metadata": {},
   "outputs": [],
   "source": [
    "df.plot('CTITJUR','PRIX_REDUCTION', 'scatter', title='Discount in percentage by juridic type ! redundancy NL/FR', alpha=0.01, figsize=(10,8));"
   ]
  },
  {
   "cell_type": "code",
   "execution_count": null,
   "metadata": {},
   "outputs": [],
   "source": [
    "df[(df['PRIX_REDUCTION']<0.6)&(df['PRIX_REDUCTION']>-0.1)].plot('TYPE_CLIENT','PRIX_REDUCTION', 'scatter', title='Discount vs Type_Client [LEA Part. Cond., LEA Soc. Locataire, LEA prop., Part. Cond., Part. prop., Soc. prop.]', alpha=0.01, figsize=(10,8));"
   ]
  },
  {
   "cell_type": "code",
   "execution_count": null,
   "metadata": {},
   "outputs": [],
   "source": [
    "selFld = 'TYPE_CLIENT'\n",
    "print(df_raw[selFld].cat.categories)\n",
    "print(df_raw[selFld].describe())\n",
    "\n",
    "plt.show()\n",
    "plt.title(selFld)\n",
    "df[selFld].hist()"
   ]
  },
  {
   "cell_type": "code",
   "execution_count": null,
   "metadata": {},
   "outputs": [],
   "source": [
    "df.plot('CMODPRO','PRIX_REDUCTION_INT', 'scatter', title='Discount in percentage (rounded) vs CAR Model', alpha=0.01, figsize=(10,8));"
   ]
  },
  {
   "cell_type": "code",
   "execution_count": null,
   "metadata": {},
   "outputs": [],
   "source": [
    "df[df['VPRIBAS']<60000].plot('CMODPRO','VPRIBAS', 'scatter', title='Catalog price, excluding options', alpha=0.5, figsize=(10,8));"
   ]
  },
  {
   "cell_type": "code",
   "execution_count": null,
   "metadata": {},
   "outputs": [],
   "source": [
    "selFld = 'CMODPRO'\n",
    "plt.show()\n",
    "plt.title(\"Amount of cars by model\")\n",
    "df[selFld].hist(bins=20)"
   ]
  },
  {
   "cell_type": "code",
   "execution_count": null,
   "metadata": {},
   "outputs": [],
   "source": [
    "selFld = 'VPRIBAS'\n",
    "plt.show()\n",
    "plt.title(\"Distribution of Price\")\n",
    "df[selFld].hist(bins=20)"
   ]
  },
  {
   "cell_type": "code",
   "execution_count": null,
   "metadata": {},
   "outputs": [],
   "source": [
    "fldSel2 = 'CENERGY'\n",
    "fldSel = 'CMODPRO'\n",
    "\n",
    "x_all = get_sample(df[df[fldSel]>-150], 8500)\n",
    "ggtitle(\"Energy by Car Mode\")\n",
    "ggplot(x_all, aes(fldSel, fldSel2))+stat_smooth(se=True, method='loess')"
   ]
  },
  {
   "cell_type": "code",
   "execution_count": null,
   "metadata": {},
   "outputs": [],
   "source": [
    "df.plot('CMODPRO','QCARKWS', 'scatter', alpha=0.01, figsize=(10,8));"
   ]
  },
  {
   "cell_type": "code",
   "execution_count": null,
   "metadata": {},
   "outputs": [],
   "source": [
    "fldSel2 = 'QCARKWS'\n",
    "fldSel = 'CMODPRO'\n",
    "x_all = get_sample(X_train[X_train[fldSel]>-150], 1500)\n",
    "ggplot(x_all, aes(fldSel, fldSel2))+stat_smooth(se=True, method='loess')"
   ]
  },
  {
   "cell_type": "code",
   "execution_count": null,
   "metadata": {},
   "outputs": [],
   "source": [
    "df.plot('CMODPRO','QCYLIND', 'scatter', alpha=0.01, figsize=(10,8));"
   ]
  },
  {
   "cell_type": "code",
   "execution_count": null,
   "metadata": {},
   "outputs": [],
   "source": [
    "fldSel2 = 'QCYLIND'\n",
    "fldSel = 'CMODPRO'\n",
    "x_all = get_sample(X_train[X_train[fldSel2]>2000], 8500)\n",
    "ggplot(x_all, aes(fldSel, fldSel2))+stat_smooth(se=True, method='loess')"
   ]
  },
  {
   "cell_type": "code",
   "execution_count": null,
   "metadata": {},
   "outputs": [],
   "source": [
    "df2, y2, nas2 = proc_df(df_raw, 'VPRIBAS', max_n_cat=7)\n",
    "\n",
    "fldSel2 = 'VPRIFAC'\n",
    "fldSel = 'CMODPRO'\n",
    "x_all = get_sample(df2[df2[fldSel]>-150], 1500)\n",
    "ggplot(x_all, aes(fldSel, fldSel2))+stat_smooth(se=True, method='loess')"
   ]
  },
  {
   "cell_type": "code",
   "execution_count": null,
   "metadata": {},
   "outputs": [],
   "source": []
  }
 ],
 "metadata": {
  "kernelspec": {
   "display_name": "Python 3",
   "language": "python",
   "name": "python3"
  },
  "language_info": {
   "codemirror_mode": {
    "name": "ipython",
    "version": 3
   },
   "file_extension": ".py",
   "mimetype": "text/x-python",
   "name": "python",
   "nbconvert_exporter": "python",
   "pygments_lexer": "ipython3",
   "version": "3.6.5"
  },
  "toc": {
   "colors": {
    "hover_highlight": "#DAA520",
    "navigate_num": "#000000",
    "navigate_text": "#333333",
    "running_highlight": "#FF0000",
    "selected_highlight": "#FFD700",
    "sidebar_border": "#EEEEEE",
    "wrapper_background": "#FFFFFF"
   },
   "moveMenuLeft": true,
   "nav_menu": {
    "height": "512px",
    "width": "252px"
   },
   "navigate_menu": true,
   "number_sections": true,
   "sideBar": true,
   "threshold": 4,
   "toc_cell": false,
   "toc_section_display": "block",
   "toc_window_display": false,
   "widenNotebook": false
  }
 },
 "nbformat": 4,
 "nbformat_minor": 2
}
