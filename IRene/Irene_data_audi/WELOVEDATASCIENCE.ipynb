{
 "cells": [
  {
   "cell_type": "code",
   "execution_count": 1,
   "metadata": {},
   "outputs": [],
   "source": [
    "import pandas as pd\n",
    "import matplotlib.pyplot as plt\n"
   ]
  },
  {
   "cell_type": "code",
   "execution_count": 10,
   "metadata": {},
   "outputs": [],
   "source": [
    "df = pd.read_excel('data_audi.xlsx', sheet_name='data')"
   ]
  },
  {
   "cell_type": "code",
   "execution_count": 5,
   "metadata": {},
   "outputs": [
    {
     "name": "stdout",
     "output_type": "stream",
     "text": [
      "   ID            NCHASSI    DIMMFIR DIMMFIN                LMODCOUF   VPRICAT  \\\n",
      "0   1  WAUZZZ4F07N091667 2007-01-16     NaT  A6 BERLINE TDI QUATTRO  47304.09   \n",
      "1   2  WAUZZZ4F07N093080 2007-01-26     NaT          A6 BERLINE TDI  31752.07   \n",
      "2   3  WAUZZZ4F07N094391 2007-01-03     NaT          A6 BERLINE TDI  33307.07   \n",
      "3   4  WAUZZZ4F07N094584 2007-01-10     NaT          A6 BERLINE TDI  29644.38   \n",
      "4   5  WAUZZZ4F07N094584 2007-01-10     NaT          A6 BERLINE TDI  29644.38   \n",
      "\n",
      "    VPRIBAS   VPRIFAC  QCYLIND  QCARKWS    ...     CSEXEXX  \\\n",
      "0  38289.26  42542.97     2967      155    ...           M   \n",
      "1  28396.69  28591.67     1968      100    ...           M   \n",
      "2  28074.38  29975.62     1968      100    ...           M   \n",
      "3  28074.38  26431.28     1968      100    ...         NaN   \n",
      "4  28074.38  26431.28     1968      100    ...         NaN   \n",
      "\n",
      "          TYPE_CLIENT  AUDI_AVANT PRIX_DIFF_BASE_CAT PRIX_REDUCTION B2BB2C  \\\n",
      "0     LEA Part. Cond.         NaN            9014.83       0.100649    B2C   \n",
      "1         Part. prop.         YES            3355.38       0.099534    B2C   \n",
      "2         Part. prop.         YES            5232.69       0.100022    B2C   \n",
      "3           LEA prop.         NaN            1570.00       0.108388    B2B   \n",
      "4  LEA Soc. Locataire         YES            1570.00       0.108388    B2B   \n",
      "\n",
      "   PRIX_REDUCTION_INT  IMMAT_YEAR IMMAT_YEARMONTH IMMAT_FIN  \n",
      "0                10.0        2007          2007/1         0  \n",
      "1                10.0        2007          2007/1         0  \n",
      "2                10.0        2007          2007/1         0  \n",
      "3                11.0        2007          2007/1         0  \n",
      "4                11.0        2007          2007/1         0  \n",
      "\n",
      "[5 rows x 30 columns]\n"
     ]
    }
   ],
   "source": [
    "print(df.head())"
   ]
  },
  {
   "cell_type": "code",
   "execution_count": 13,
   "metadata": {},
   "outputs": [
    {
     "name": "stdout",
     "output_type": "stream",
     "text": [
      "<class 'pandas.core.frame.DataFrame'>\n",
      "RangeIndex: 66735 entries, 0 to 66734\n",
      "Data columns (total 30 columns):\n",
      "ID                    66735 non-null int64\n",
      "NCHASSI               66735 non-null object\n",
      "DIMMFIR               66735 non-null datetime64[ns]\n",
      "DIMMFIN               4980 non-null datetime64[ns]\n",
      "LMODCOUF              66735 non-null object\n",
      "VPRICAT               66735 non-null float64\n",
      "VPRIBAS               66735 non-null float64\n",
      "VPRIFAC               66735 non-null float64\n",
      "QCYLIND               66735 non-null int64\n",
      "QCARKWS               66735 non-null int64\n",
      "CENERGY               66735 non-null int64\n",
      "CMODPRO               66735 non-null object\n",
      "NCLIPRO               66735 non-null int64\n",
      "FCLIPRO               66735 non-null object\n",
      "CCATCLI               25773 non-null object\n",
      "CTITJUR               65757 non-null object\n",
      "CLANGUE               66732 non-null float64\n",
      "CPOSTAL               66735 non-null int64\n",
      "CPAYSXX               66735 non-null object\n",
      "DNAISSA               6798 non-null object\n",
      "CSEXEXX               22638 non-null object\n",
      "TYPE_CLIENT           66735 non-null object\n",
      "AUDI_AVANT            19367 non-null object\n",
      "PRIX_DIFF_BASE_CAT    66735 non-null float64\n",
      "PRIX_REDUCTION        66719 non-null float64\n",
      "B2BB2C                66735 non-null object\n",
      "PRIX_REDUCTION_INT    66719 non-null float64\n",
      "IMMAT_YEAR            66735 non-null int64\n",
      "IMMAT_YEARMONTH       66735 non-null object\n",
      "IMMAT_FIN             66735 non-null int64\n",
      "dtypes: datetime64[ns](2), float64(7), int64(8), object(13)\n",
      "memory usage: 15.3+ MB\n"
     ]
    }
   ],
   "source": [
    "df.info()\n"
   ]
  },
  {
   "cell_type": "code",
   "execution_count": 45,
   "metadata": {},
   "outputs": [
    {
     "data": {
      "text/html": [
       "<div>\n",
       "<style scoped>\n",
       "    .dataframe tbody tr th:only-of-type {\n",
       "        vertical-align: middle;\n",
       "    }\n",
       "\n",
       "    .dataframe tbody tr th {\n",
       "        vertical-align: top;\n",
       "    }\n",
       "\n",
       "    .dataframe thead th {\n",
       "        text-align: right;\n",
       "    }\n",
       "</style>\n",
       "<table border=\"1\" class=\"dataframe\">\n",
       "  <thead>\n",
       "    <tr style=\"text-align: right;\">\n",
       "      <th></th>\n",
       "      <th>ID</th>\n",
       "      <th>VPRICAT</th>\n",
       "      <th>VPRIBAS</th>\n",
       "      <th>VPRIFAC</th>\n",
       "      <th>QCYLIND</th>\n",
       "      <th>QCARKWS</th>\n",
       "      <th>CENERGY</th>\n",
       "      <th>NCLIPRO</th>\n",
       "      <th>CLANGUE</th>\n",
       "      <th>CPOSTAL</th>\n",
       "      <th>PRIX_DIFF_BASE_CAT</th>\n",
       "      <th>PRIX_REDUCTION</th>\n",
       "      <th>PRIX_REDUCTION_INT</th>\n",
       "      <th>IMMAT_YEAR</th>\n",
       "      <th>IMMAT_FIN</th>\n",
       "    </tr>\n",
       "  </thead>\n",
       "  <tbody>\n",
       "    <tr>\n",
       "      <th>count</th>\n",
       "      <td>66735.000000</td>\n",
       "      <td>66735.000000</td>\n",
       "      <td>66735.000000</td>\n",
       "      <td>66735.000000</td>\n",
       "      <td>66735.000000</td>\n",
       "      <td>66735.000000</td>\n",
       "      <td>66735.000000</td>\n",
       "      <td>6.673500e+04</td>\n",
       "      <td>66732.000000</td>\n",
       "      <td>66735.000000</td>\n",
       "      <td>66735.000000</td>\n",
       "      <td>66719.000000</td>\n",
       "      <td>66719.000000</td>\n",
       "      <td>66735.000000</td>\n",
       "      <td>66735.000000</td>\n",
       "    </tr>\n",
       "    <tr>\n",
       "      <th>mean</th>\n",
       "      <td>33368.000000</td>\n",
       "      <td>32801.708668</td>\n",
       "      <td>27313.087226</td>\n",
       "      <td>30044.263586</td>\n",
       "      <td>2098.903724</td>\n",
       "      <td>103.780265</td>\n",
       "      <td>1.970615</td>\n",
       "      <td>2.235299e+09</td>\n",
       "      <td>1.603054</td>\n",
       "      <td>3534.371994</td>\n",
       "      <td>5488.621443</td>\n",
       "      <td>0.083378</td>\n",
       "      <td>8.346333</td>\n",
       "      <td>2007.952409</td>\n",
       "      <td>0.074624</td>\n",
       "    </tr>\n",
       "    <tr>\n",
       "      <th>std</th>\n",
       "      <td>19264.879444</td>\n",
       "      <td>9608.280287</td>\n",
       "      <td>6729.553377</td>\n",
       "      <td>8767.960697</td>\n",
       "      <td>370.207851</td>\n",
       "      <td>25.746490</td>\n",
       "      <td>0.169769</td>\n",
       "      <td>2.045875e+09</td>\n",
       "      <td>0.492991</td>\n",
       "      <td>2839.099004</td>\n",
       "      <td>4458.612849</td>\n",
       "      <td>0.026287</td>\n",
       "      <td>2.641318</td>\n",
       "      <td>0.736217</td>\n",
       "      <td>0.262785</td>\n",
       "    </tr>\n",
       "    <tr>\n",
       "      <th>min</th>\n",
       "      <td>1.000000</td>\n",
       "      <td>0.000000</td>\n",
       "      <td>0.000000</td>\n",
       "      <td>13754.190000</td>\n",
       "      <td>1390.000000</td>\n",
       "      <td>75.000000</td>\n",
       "      <td>1.000000</td>\n",
       "      <td>8.000000e+01</td>\n",
       "      <td>1.000000</td>\n",
       "      <td>1000.000000</td>\n",
       "      <td>-123361.320000</td>\n",
       "      <td>-0.316569</td>\n",
       "      <td>-32.000000</td>\n",
       "      <td>2007.000000</td>\n",
       "      <td>0.000000</td>\n",
       "    </tr>\n",
       "    <tr>\n",
       "      <th>25%</th>\n",
       "      <td>16684.500000</td>\n",
       "      <td>25961.900000</td>\n",
       "      <td>23185.950000</td>\n",
       "      <td>23978.170000</td>\n",
       "      <td>1968.000000</td>\n",
       "      <td>88.000000</td>\n",
       "      <td>2.000000</td>\n",
       "      <td>1.000639e+09</td>\n",
       "      <td>1.000000</td>\n",
       "      <td>1190.000000</td>\n",
       "      <td>2470.000000</td>\n",
       "      <td>0.065303</td>\n",
       "      <td>7.000000</td>\n",
       "      <td>2007.000000</td>\n",
       "      <td>0.000000</td>\n",
       "    </tr>\n",
       "    <tr>\n",
       "      <th>50%</th>\n",
       "      <td>33368.000000</td>\n",
       "      <td>31512.730000</td>\n",
       "      <td>25632.230000</td>\n",
       "      <td>28844.430000</td>\n",
       "      <td>1968.000000</td>\n",
       "      <td>100.000000</td>\n",
       "      <td>2.000000</td>\n",
       "      <td>1.001890e+09</td>\n",
       "      <td>2.000000</td>\n",
       "      <td>2180.000000</td>\n",
       "      <td>4740.000000</td>\n",
       "      <td>0.075014</td>\n",
       "      <td>8.000000</td>\n",
       "      <td>2008.000000</td>\n",
       "      <td>0.000000</td>\n",
       "    </tr>\n",
       "    <tr>\n",
       "      <th>75%</th>\n",
       "      <td>50051.500000</td>\n",
       "      <td>37548.265000</td>\n",
       "      <td>30458.680000</td>\n",
       "      <td>33944.835000</td>\n",
       "      <td>1968.000000</td>\n",
       "      <td>103.000000</td>\n",
       "      <td>2.000000</td>\n",
       "      <td>5.000032e+09</td>\n",
       "      <td>2.000000</td>\n",
       "      <td>4900.000000</td>\n",
       "      <td>7158.100000</td>\n",
       "      <td>0.099392</td>\n",
       "      <td>10.000000</td>\n",
       "      <td>2008.000000</td>\n",
       "      <td>0.000000</td>\n",
       "    </tr>\n",
       "    <tr>\n",
       "      <th>max</th>\n",
       "      <td>66735.000000</td>\n",
       "      <td>141533.880000</td>\n",
       "      <td>123361.320000</td>\n",
       "      <td>125379.700000</td>\n",
       "      <td>5934.000000</td>\n",
       "      <td>426.000000</td>\n",
       "      <td>3.000000</td>\n",
       "      <td>8.000017e+09</td>\n",
       "      <td>4.000000</td>\n",
       "      <td>9992.000000</td>\n",
       "      <td>102467.230000</td>\n",
       "      <td>0.675722</td>\n",
       "      <td>68.000000</td>\n",
       "      <td>2009.000000</td>\n",
       "      <td>1.000000</td>\n",
       "    </tr>\n",
       "  </tbody>\n",
       "</table>\n",
       "</div>"
      ],
      "text/plain": [
       "                 ID        VPRICAT        VPRIBAS        VPRIFAC  \\\n",
       "count  66735.000000   66735.000000   66735.000000   66735.000000   \n",
       "mean   33368.000000   32801.708668   27313.087226   30044.263586   \n",
       "std    19264.879444    9608.280287    6729.553377    8767.960697   \n",
       "min        1.000000       0.000000       0.000000   13754.190000   \n",
       "25%    16684.500000   25961.900000   23185.950000   23978.170000   \n",
       "50%    33368.000000   31512.730000   25632.230000   28844.430000   \n",
       "75%    50051.500000   37548.265000   30458.680000   33944.835000   \n",
       "max    66735.000000  141533.880000  123361.320000  125379.700000   \n",
       "\n",
       "            QCYLIND       QCARKWS       CENERGY       NCLIPRO       CLANGUE  \\\n",
       "count  66735.000000  66735.000000  66735.000000  6.673500e+04  66732.000000   \n",
       "mean    2098.903724    103.780265      1.970615  2.235299e+09      1.603054   \n",
       "std      370.207851     25.746490      0.169769  2.045875e+09      0.492991   \n",
       "min     1390.000000     75.000000      1.000000  8.000000e+01      1.000000   \n",
       "25%     1968.000000     88.000000      2.000000  1.000639e+09      1.000000   \n",
       "50%     1968.000000    100.000000      2.000000  1.001890e+09      2.000000   \n",
       "75%     1968.000000    103.000000      2.000000  5.000032e+09      2.000000   \n",
       "max     5934.000000    426.000000      3.000000  8.000017e+09      4.000000   \n",
       "\n",
       "            CPOSTAL  PRIX_DIFF_BASE_CAT  PRIX_REDUCTION  PRIX_REDUCTION_INT  \\\n",
       "count  66735.000000        66735.000000    66719.000000        66719.000000   \n",
       "mean    3534.371994         5488.621443        0.083378            8.346333   \n",
       "std     2839.099004         4458.612849        0.026287            2.641318   \n",
       "min     1000.000000      -123361.320000       -0.316569          -32.000000   \n",
       "25%     1190.000000         2470.000000        0.065303            7.000000   \n",
       "50%     2180.000000         4740.000000        0.075014            8.000000   \n",
       "75%     4900.000000         7158.100000        0.099392           10.000000   \n",
       "max     9992.000000       102467.230000        0.675722           68.000000   \n",
       "\n",
       "         IMMAT_YEAR     IMMAT_FIN  \n",
       "count  66735.000000  66735.000000  \n",
       "mean    2007.952409      0.074624  \n",
       "std        0.736217      0.262785  \n",
       "min     2007.000000      0.000000  \n",
       "25%     2007.000000      0.000000  \n",
       "50%     2008.000000      0.000000  \n",
       "75%     2008.000000      0.000000  \n",
       "max     2009.000000      1.000000  "
      ]
     },
     "execution_count": 45,
     "metadata": {},
     "output_type": "execute_result"
    }
   ],
   "source": [
    "df.describe()"
   ]
  },
  {
   "cell_type": "code",
   "execution_count": 21,
   "metadata": {},
   "outputs": [
    {
     "data": {
      "image/png": "[encoded data removed]",
      "text/plain": [
       "<matplotlib.figure.Figure at 0x4775da90>"
      ]
     },
     "metadata": {},
     "output_type": "display_data"
    }
   ],
   "source": [
    "from pylab import rcParams\n",
    "rcParams['figure.figsize'] = 10, 10\n",
    "\n",
    "plt.hist(df['TYPE_CLIENT'])\n",
    "plt.show()"
   ]
  },
  {
   "cell_type": "code",
   "execution_count": null,
   "metadata": {},
   "outputs": [],
   "source": [
    "plt.hist(df['TYPE_CLIENT'])\n",
    "plt.show()"
   ]
  },
  {
   "cell_type": "code",
   "execution_count": 66,
   "metadata": {},
   "outputs": [
    {
     "data": {
      "image/png": "[encoded data removed]",
      "text/plain": [
       "<matplotlib.figure.Figure at 0x3eccf550>"
      ]
     },
     "metadata": {},
     "output_type": "display_data"
    }
   ],
   "source": [
    "\n",
    "\n",
    "df_date = df.groupby(['IMMAT_YEARMONTH','CENERGY'])['NCHASSI'].nunique().reset_index()\n",
    "df_date.columns = ['IMMAT_YEARMONTH','CENERGY','amount']\n",
    "\n",
    "df_date.groupby('CENERGY')['amount'].sum().plot(kind='bar', x='CENERGY')\n",
    "\n",
    "plt.show()\n"
   ]
  },
  {
   "cell_type": "code",
   "execution_count": 67,
   "metadata": {},
   "outputs": [
    {
     "data": {
      "image/png": "[encoded data removed]",
      "text/plain": [
       "<matplotlib.figure.Figure at 0x40d4d2b0>"
      ]
     },
     "metadata": {},
     "output_type": "display_data"
    },
    {
     "data": {
      "image/png": "[encoded data removed]",
      "text/plain": [
       "<matplotlib.figure.Figure at 0x3d9a8390>"
      ]
     },
     "metadata": {},
     "output_type": "display_data"
    },
    {
     "data": {
      "image/png": "[encoded data removed]",
      "text/plain": [
       "<matplotlib.figure.Figure at 0x40dc6d30>"
      ]
     },
     "metadata": {},
     "output_type": "display_data"
    }
   ],
   "source": [
    "\n",
    "df_1 = df_date[df_date['CENERGY'] == 1][['IMMAT_YEARMONTH','amount']]\n",
    "df_2 = df_date[df_date['CENERGY'] == 2][['IMMAT_YEARMONTH','amount']]\n",
    "df_3 = df_date[df_date['CENERGY'] == 3][['IMMAT_YEARMONTH','amount']]\n",
    "\n",
    "\n",
    "\n",
    "df_1.plot(kind='line',x='IMMAT_YEARMONTH', y='amount', color='red')\n",
    "df_2.plot(kind='line',x='IMMAT_YEARMONTH', y='amount', color='blue')\n",
    "df_3.plot(kind='line',x='IMMAT_YEARMONTH', y='amount', color='blue')\n",
    "\n",
    "\n",
    "plt.show()"
   ]
  },
  {
   "cell_type": "code",
   "execution_count": 35,
   "metadata": {},
   "outputs": [],
   "source": [
    "df_date = df.groupby(['IMMAT_YEARMONTH','CENERGY'])['NCHASSI'].nunique().reset_index()\n"
   ]
  },
  {
   "cell_type": "code",
   "execution_count": 61,
   "metadata": {},
   "outputs": [
    {
     "name": "stdout",
     "output_type": "stream",
     "text": [
      "CENERGY\n",
      "2    40615\n",
      "Name: NCHASSI, dtype: int64\n"
     ]
    }
   ],
   "source": [
    "df_dies = df[df['LMODCOUF'].str.contains('TDI',regex=False)]\n",
    "print(df_dies.groupby('CENERGY')['NCHASSI'].nunique())"
   ]
  },
  {
   "cell_type": "code",
   "execution_count": 73,
   "metadata": {},
   "outputs": [
    {
     "name": "stdout",
     "output_type": "stream",
     "text": [
      "<class 'pandas.core.frame.DataFrame'>\n",
      "RangeIndex: 66735 entries, 0 to 66734\n",
      "Data columns (total 29 columns):\n",
      "ID                    66735 non-null int64\n",
      "NCHASSI               66735 non-null object\n",
      "DIMMFIR               66735 non-null datetime64[ns]\n",
      "DIMMFIN               4980 non-null datetime64[ns]\n",
      "LMODCOUF              66735 non-null object\n",
      "VPRICAT               66735 non-null float64\n",
      "VPRIBAS               66735 non-null float64\n",
      "VPRIFAC               66735 non-null float64\n",
      "QCYLIND               66735 non-null int64\n",
      "QCARKWS               66735 non-null int64\n",
      "CENERGY               66735 non-null int64\n",
      "CMODPRO               66735 non-null object\n",
      "NCLIPRO               66735 non-null int64\n",
      "FCLIPRO               66735 non-null object\n",
      "CCATCLI               25773 non-null object\n",
      "CTITJUR               65757 non-null object\n",
      "CLANGUE               66732 non-null float64\n",
      "CPOSTAL               66735 non-null int64\n",
      "CPAYSXX               66735 non-null object\n",
      "DNAISSA               6798 non-null object\n",
      "CSEXEXX               22638 non-null object\n",
      "TYPE_CLIENT           66735 non-null object\n",
      "AUDI_AVANT            19367 non-null object\n",
      "PRIX_DIFF_BASE_CAT    66735 non-null float64\n",
      "PRIX_REDUCTION        66719 non-null float64\n",
      "B2BB2C                66735 non-null object\n",
      "PRIX_REDUCTION_INT    66719 non-null float64\n",
      "IMMAT_YEAR            66735 non-null int64\n",
      "IMMAT_YEARMONTH       66735 non-null object\n",
      "dtypes: datetime64[ns](2), float64(7), int64(7), object(13)\n",
      "memory usage: 14.8+ MB\n"
     ]
    }
   ],
   "source": []
  },
  {
   "cell_type": "code",
   "execution_count": 136,
   "metadata": {},
   "outputs": [
    {
     "name": "stdout",
     "output_type": "stream",
     "text": [
      "<class 'pandas.core.frame.DataFrame'>\n",
      "RangeIndex: 37212 entries, 0 to 37211\n",
      "Data columns (total 2 columns):\n",
      "ID          37212 non-null int64\n",
      "last_buy    37212 non-null datetime64[ns]\n",
      "dtypes: datetime64[ns](1), int64(1)\n",
      "memory usage: 581.5 KB\n"
     ]
    },
    {
     "ename": "ValueError",
     "evalue": "Bin edges must be unique: array([  1.,   1.,   1.,   1., 584.]).\nYou can drop duplicate edges by setting the 'duplicates' kwarg",
     "output_type": "error",
     "traceback": [
      "\u001b[1;31m---------------------------------------------------------------------------\u001b[0m",
      "\u001b[1;31mValueError\u001b[0m                                Traceback (most recent call last)",
      "\u001b[1;32m<ipython-input-136-469e56683055>\u001b[0m in \u001b[0;36m<module>\u001b[1;34m()\u001b[0m\n\u001b[0;32m     23\u001b[0m \u001b[1;33m\u001b[0m\u001b[0m\n\u001b[0;32m     24\u001b[0m \u001b[0mperc_freq\u001b[0m \u001b[1;33m=\u001b[0m \u001b[0mdf_cust_f\u001b[0m\u001b[1;33m[\u001b[0m\u001b[1;34m'frequency'\u001b[0m\u001b[1;33m]\u001b[0m\u001b[1;33m.\u001b[0m\u001b[0mquantile\u001b[0m\u001b[1;33m(\u001b[0m\u001b[1;33m[\u001b[0m\u001b[1;36m0.2\u001b[0m\u001b[1;33m,\u001b[0m\u001b[1;36m0.4\u001b[0m\u001b[1;33m,\u001b[0m\u001b[1;36m0.6\u001b[0m\u001b[1;33m,\u001b[0m\u001b[1;36m0.8\u001b[0m\u001b[1;33m,\u001b[0m\u001b[1;36m1\u001b[0m\u001b[1;33m]\u001b[0m\u001b[1;33m)\u001b[0m\u001b[1;33m\u001b[0m\u001b[0m\n\u001b[1;32m---> 25\u001b[1;33m \u001b[0mdf_cust_f\u001b[0m\u001b[1;33m[\u001b[0m\u001b[1;34m'freq_score'\u001b[0m\u001b[1;33m]\u001b[0m \u001b[1;33m=\u001b[0m \u001b[0mpd\u001b[0m\u001b[1;33m.\u001b[0m\u001b[0mcut\u001b[0m\u001b[1;33m(\u001b[0m\u001b[0mdf_cust_f\u001b[0m\u001b[1;33m,\u001b[0m \u001b[0mbins\u001b[0m\u001b[1;33m=\u001b[0m \u001b[0mperc_freq\u001b[0m\u001b[1;33m,\u001b[0m \u001b[0mlabels\u001b[0m\u001b[1;33m=\u001b[0m\u001b[1;33m[\u001b[0m\u001b[1;34m'1'\u001b[0m\u001b[1;33m,\u001b[0m\u001b[1;34m'2'\u001b[0m\u001b[1;33m,\u001b[0m\u001b[1;34m'3'\u001b[0m\u001b[1;33m,\u001b[0m\u001b[1;34m'4'\u001b[0m\u001b[1;33m,\u001b[0m\u001b[1;34m'5'\u001b[0m\u001b[1;33m]\u001b[0m\u001b[1;33m)\u001b[0m\u001b[1;33m\u001b[0m\u001b[0m\n\u001b[0m\u001b[0;32m     26\u001b[0m \u001b[1;33m\u001b[0m\u001b[0m\n\u001b[0;32m     27\u001b[0m \u001b[1;33m\u001b[0m\u001b[0m\n",
      "\u001b[1;32m~\\AppData\\Local\\Continuum\\anaconda3\\lib\\site-packages\\pandas\\core\\reshape\\tile.py\u001b[0m in \u001b[0;36mcut\u001b[1;34m(x, bins, right, labels, retbins, precision, include_lowest)\u001b[0m\n\u001b[0;32m    134\u001b[0m                               \u001b[0mprecision\u001b[0m\u001b[1;33m=\u001b[0m\u001b[0mprecision\u001b[0m\u001b[1;33m,\u001b[0m\u001b[1;33m\u001b[0m\u001b[0m\n\u001b[0;32m    135\u001b[0m                               \u001b[0minclude_lowest\u001b[0m\u001b[1;33m=\u001b[0m\u001b[0minclude_lowest\u001b[0m\u001b[1;33m,\u001b[0m\u001b[1;33m\u001b[0m\u001b[0m\n\u001b[1;32m--> 136\u001b[1;33m                               dtype=dtype)\n\u001b[0m\u001b[0;32m    137\u001b[0m \u001b[1;33m\u001b[0m\u001b[0m\n\u001b[0;32m    138\u001b[0m     return _postprocess_for_cut(fac, bins, retbins, x_is_series,\n",
      "\u001b[1;32m~\\AppData\\Local\\Continuum\\anaconda3\\lib\\site-packages\\pandas\\core\\reshape\\tile.py\u001b[0m in \u001b[0;36m_bins_to_cuts\u001b[1;34m(x, bins, right, labels, precision, include_lowest, dtype, duplicates)\u001b[0m\n\u001b[0;32m    232\u001b[0m             raise ValueError(\"Bin edges must be unique: {bins!r}.\\nYou \"\n\u001b[0;32m    233\u001b[0m                              \u001b[1;34m\"can drop duplicate edges by setting \"\u001b[0m\u001b[1;33m\u001b[0m\u001b[0m\n\u001b[1;32m--> 234\u001b[1;33m                              \"the 'duplicates' kwarg\".format(bins=bins))\n\u001b[0m\u001b[0;32m    235\u001b[0m         \u001b[1;32melse\u001b[0m\u001b[1;33m:\u001b[0m\u001b[1;33m\u001b[0m\u001b[0m\n\u001b[0;32m    236\u001b[0m             \u001b[0mbins\u001b[0m \u001b[1;33m=\u001b[0m \u001b[0munique_bins\u001b[0m\u001b[1;33m\u001b[0m\u001b[0m\n",
      "\u001b[1;31mValueError\u001b[0m: Bin edges must be unique: array([  1.,   1.,   1.,   1., 584.]).\nYou can drop duplicate edges by setting the 'duplicates' kwarg"
     ]
    }
   ],
   "source": [
    "import datetime\n",
    "import numpy as np\n",
    "from sklearn.preprocessing import StandardScaler\n",
    "#\n",
    "df_cust_r = df.groupby('NCLIPRO')['DIMMFIR'].max().reset_index()\n",
    "df_cust_r.columns = ['ID','last_buy']\n",
    "df_cust_r.info()\n",
    "df_cust_r['recency'] = (datetime.datetime.now() - df_cust_r['last_buy'])\n",
    "df_cust_r['recency'] = df_cust_r['recency']\n",
    "df_cust_r['recency'] = pd.to_timedelta(df_cust_r['recency'])\n",
    "\n",
    "perc_rec = df_cust_r['recency'].quantile([0,0.2,0.4,0.6,0.8,1])\n",
    "df_cust_r['rec_score'] = pd.cut(df_cust_r, bins= perc_rec, labels=['1','2','3','4','5'])\n",
    "\n",
    "\n",
    "\n",
    "\n",
    "\n",
    "df_cust_f = df.groupby('NCLIPRO')['DIMMFIR'].nunique().reset_index()\n",
    "df_cust_f.columns = ['ID','frequency']\n",
    "\n",
    "perc_freq = df_cust_f['frequency'].quantile([0.2,0.4,0.6,0.8,1])\n",
    "df_cust_f['freq_score'] = pd.cut(df_cust_f, bins= perc_freq, labels=['1','2','3','4','5'])\n",
    "\n",
    "\n",
    "df_cust_m = df.groupby('NCLIPRO')['VPRICAT'].sum().reset_index()\n",
    "df_cust_m.columns = ['ID','monetary']\n",
    "\n",
    "rfm = pd.merge(pd.merge(df_cust_r,df_cust_f,on='ID'),df_cust_m,on='ID')\n",
    "\n",
    "\n"
   ]
  },
  {
   "cell_type": "code",
   "execution_count": 135,
   "metadata": {},
   "outputs": [],
   "source": [
    "\n",
    "perc_freq = df_cust_f['frequency'].quantile([0.2,0.4,0.6,0.8])"
   ]
  },
  {
   "cell_type": "code",
   "execution_count": null,
   "metadata": {},
   "outputs": [],
   "source": []
  }
 ],
 "metadata": {
  "kernelspec": {
   "display_name": "Python 3",
   "language": "python",
   "name": "python3"
  },
  "language_info": {
   "codemirror_mode": {
    "name": "ipython",
    "version": 3
   },
   "file_extension": ".py",
   "mimetype": "text/x-python",
   "name": "python",
   "nbconvert_exporter": "python",
   "pygments_lexer": "ipython3",
   "version": "3.6.5"
  }
 },
 "nbformat": 4,
 "nbformat_minor": 2
}
