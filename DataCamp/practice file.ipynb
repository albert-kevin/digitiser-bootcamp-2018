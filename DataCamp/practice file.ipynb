{
 "cells": [
  {
   "cell_type": "code",
   "execution_count": 259,
   "metadata": {},
   "outputs": [],
   "source": [
    "# Perform the necessary imports\n",
    "from sklearn.decomposition import PCA\n",
    "from sklearn.preprocessing import StandardScaler\n",
    "from sklearn.pipeline import make_pipeline\n",
    "import matplotlib.pyplot as plt\n",
    "%matplotlib inline"
   ]
  },
  {
   "cell_type": "code",
   "execution_count": 260,
   "metadata": {},
   "outputs": [],
   "source": [
    "# Create scaler: scaler\n",
    "scaler = StandardScaler()"
   ]
  },
  {
   "cell_type": "code",
   "execution_count": 261,
   "metadata": {},
   "outputs": [],
   "source": [
    "# Create a PCA instance: pca\n",
    "pca = PCA()"
   ]
  },
  {
   "cell_type": "code",
   "execution_count": 262,
   "metadata": {},
   "outputs": [],
   "source": [
    "# Create pipeline: pipeline\n",
    "pipeline = make_pipeline(scaler, pca)"
   ]
  },
  {
   "cell_type": "code",
   "execution_count": 263,
   "metadata": {},
   "outputs": [
    {
     "ename": "NameError",
     "evalue": "name 'samples' is not defined",
     "output_type": "error",
     "traceback": [
      "\u001b[0;31m---------------------------------------------------------------------------\u001b[0m",
      "\u001b[0;31mNameError\u001b[0m                                 Traceback (most recent call last)",
      "\u001b[0;32m<ipython-input-263-4c8e8acadd7b>\u001b[0m in \u001b[0;36m<module>\u001b[0;34m()\u001b[0m\n\u001b[1;32m      1\u001b[0m \u001b[0;31m# Fit the pipeline to 'samples'\u001b[0m\u001b[0;34m\u001b[0m\u001b[0;34m\u001b[0m\u001b[0m\n\u001b[0;32m----> 2\u001b[0;31m \u001b[0mpipeline\u001b[0m\u001b[0;34m.\u001b[0m\u001b[0mfit\u001b[0m\u001b[0;34m(\u001b[0m\u001b[0msamples\u001b[0m\u001b[0;34m)\u001b[0m\u001b[0;34m\u001b[0m\u001b[0m\n\u001b[0m",
      "\u001b[0;31mNameError\u001b[0m: name 'samples' is not defined"
     ]
    }
   ],
   "source": [
    "# Fit the pipeline to 'samples'\n",
    "pipeline.fit(samples)"
   ]
  },
  {
   "cell_type": "code",
   "execution_count": null,
   "metadata": {},
   "outputs": [],
   "source": [
    "# Plot the explained variances\n",
    "features = range(pca.n_components_)\n",
    "plt.bar(features, pca.explained_variance_)\n",
    "plt.xlabel('PCA feature')\n",
    "plt.ylabel('variance')\n",
    "plt.xticks(features)\n",
    "plt.show()"
   ]
  },
  {
   "cell_type": "code",
   "execution_count": null,
   "metadata": {},
   "outputs": [],
   "source": []
  },
  {
   "cell_type": "code",
   "execution_count": null,
   "metadata": {},
   "outputs": [],
   "source": []
  },
  {
   "cell_type": "code",
   "execution_count": 19,
   "metadata": {},
   "outputs": [],
   "source": [
    "import pandas as pd\n",
    "import numpy as np"
   ]
  },
  {
   "cell_type": "code",
   "execution_count": 32,
   "metadata": {},
   "outputs": [
    {
     "data": {
      "text/plain": [
       "array([ 1.49856930e+00, -7.48941124e-01, -4.37442917e-04, -1.76188783e+00,\n",
       "        1.91731092e-01,  8.86432837e-01, -1.85122987e-01,  6.65200699e-01,\n",
       "       -1.45616561e+00,  6.87431107e-01, -3.99358091e-01, -1.56578548e-01,\n",
       "        9.32636367e-02, -5.69171887e-01,  9.72618105e-01,  9.18848422e-01,\n",
       "        9.80981351e-01, -2.25180046e+00,  1.19667486e+00,  2.30572291e+00,\n",
       "        8.12107813e-01, -5.17580803e-04, -1.44824187e-01,  7.47174568e-01,\n",
       "       -7.24964243e-01, -4.35512916e-01, -8.51956445e-01,  5.62211652e-01,\n",
       "       -2.30113740e+00,  8.12710646e-01, -1.48207053e+00, -1.80211751e+00,\n",
       "        8.69226239e-01, -9.03295135e-02, -5.42479690e-01,  1.11703382e+00,\n",
       "       -1.16229552e+00, -5.75878030e-01, -1.58725761e+00,  4.63208441e-01,\n",
       "        1.38790484e+00, -1.17580463e+00, -1.07125485e+00,  1.21227951e-01,\n",
       "       -3.56431514e-01, -3.30705424e-01,  7.17841812e-01, -1.62745692e+00,\n",
       "        1.05799291e+00,  1.26723041e+00,  8.82066405e-01,  6.35376241e-01,\n",
       "        7.20323242e-01, -2.64718513e+00,  2.23692323e-01,  6.05022074e-01,\n",
       "       -7.22996935e-01, -2.11226761e+00, -2.04437834e-01, -9.02647130e-01,\n",
       "       -1.13317934e+00, -8.19365667e-01, -4.27799616e-02, -8.43568621e-01,\n",
       "        2.58406977e-01,  1.15213261e+00, -1.20722191e+00,  2.38757539e+00,\n",
       "       -7.63186388e-01, -1.34213735e+00,  3.58263112e-02, -1.63924783e+00,\n",
       "        6.99453792e-01, -5.53644456e-01, -2.36728903e+00,  8.86063403e-02,\n",
       "       -4.67374167e-01, -9.67208403e-01,  9.66835291e-01,  2.43812846e-01,\n",
       "       -1.23773688e+00,  8.99965672e-01,  4.58832017e-01,  1.09792597e-01,\n",
       "        9.05267255e-01, -1.74760124e+00,  4.05593821e-02,  8.22043933e-02,\n",
       "        1.97257466e-02,  1.63032669e-01,  3.16842929e-01, -3.67468125e-01,\n",
       "        3.12020333e+00,  1.49136356e-01, -1.40161242e+00, -7.83495803e-01,\n",
       "        1.29680537e-01, -2.27690377e+00, -7.82306415e-01,  9.95696938e-01])"
      ]
     },
     "execution_count": 32,
     "metadata": {},
     "output_type": "execute_result"
    }
   ],
   "source": [
    "np.random.randn(100)"
   ]
  },
  {
   "cell_type": "code",
   "execution_count": 183,
   "metadata": {},
   "outputs": [
    {
     "data": {
      "text/plain": [
       "array([-0.99710168, -0.19755454, -0.77753667,  0.74208901, -1.28226997,\n",
       "        0.34526179, -0.49558751, -1.38408014, -0.12781932, -1.47938553,\n",
       "       -0.18084134,  1.73409626,  0.62354596,  0.61436924, -0.99520729,\n",
       "        1.04171032,  1.43279338,  0.7198657 , -1.02658898,  0.59669146,\n",
       "       -1.28674965,  0.71879897,  1.19586553,  1.93549038,  0.75433463,\n",
       "       -0.1128283 , -2.30507173, -0.43177024,  0.89508371,  0.73576568,\n",
       "        1.24017857,  1.80342003,  0.67207437,  1.23091934,  0.77082819,\n",
       "        0.43478209, -1.27102026, -0.02884456,  0.19265436, -0.25964121,\n",
       "       -1.68757501,  0.70775117,  1.08373567,  0.18983354,  0.05675007,\n",
       "       -1.00732579,  0.69047664,  1.59764776, -1.28972302,  0.17798526,\n",
       "       -1.91241705,  0.22707641,  0.02719567,  0.64442262, -0.35850261,\n",
       "       -1.41912389, -0.67518056, -0.12449382, -0.69858439, -1.50779436,\n",
       "        0.84590496,  0.46662426, -0.5520294 ,  0.96951841, -1.69078216,\n",
       "       -1.20243315, -1.8245535 , -0.37858384,  0.54290018,  0.47804985,\n",
       "       -0.31487919,  0.08222075,  0.03690864, -1.32206933, -0.74856284,\n",
       "        1.4017635 ,  0.30621752,  0.54835909,  0.6402143 , -0.62906324,\n",
       "       -0.74158947,  0.28149898, -0.72188611, -0.42076837, -2.11899371,\n",
       "       -0.95191186,  0.19611556, -0.82782407, -1.5633831 , -0.82264036,\n",
       "        0.68945278, -0.66658826, -0.65145301, -1.62911043,  0.43574483,\n",
       "       -1.41336547,  1.43134355,  1.50599947,  1.17116634,  0.46057942])"
      ]
     },
     "execution_count": 183,
     "metadata": {},
     "output_type": "execute_result"
    }
   ],
   "source": [
    "x = np.random.randn(100)\n",
    "x"
   ]
  },
  {
   "cell_type": "code",
   "execution_count": 184,
   "metadata": {},
   "outputs": [
    {
     "data": {
      "text/plain": [
       "array([0.99710168, 0.19755454, 0.77753667, 0.74208901, 1.28226997,\n",
       "       0.34526179, 0.49558751, 1.38408014, 0.12781932, 1.47938553,\n",
       "       0.18084134, 1.73409626, 0.62354596, 0.61436924, 0.99520729,\n",
       "       1.04171032, 1.43279338, 0.7198657 , 1.02658898, 0.59669146,\n",
       "       1.28674965, 0.71879897, 1.19586553, 1.93549038, 0.75433463,\n",
       "       0.1128283 , 2.30507173, 0.43177024, 0.89508371, 0.73576568,\n",
       "       1.24017857, 1.80342003, 0.67207437, 1.23091934, 0.77082819,\n",
       "       0.43478209, 1.27102026, 0.02884456, 0.19265436, 0.25964121,\n",
       "       1.68757501, 0.70775117, 1.08373567, 0.18983354, 0.05675007,\n",
       "       1.00732579, 0.69047664, 1.59764776, 1.28972302, 0.17798526,\n",
       "       1.91241705, 0.22707641, 0.02719567, 0.64442262, 0.35850261,\n",
       "       1.41912389, 0.67518056, 0.12449382, 0.69858439, 1.50779436,\n",
       "       0.84590496, 0.46662426, 0.5520294 , 0.96951841, 1.69078216,\n",
       "       1.20243315, 1.8245535 , 0.37858384, 0.54290018, 0.47804985,\n",
       "       0.31487919, 0.08222075, 0.03690864, 1.32206933, 0.74856284,\n",
       "       1.4017635 , 0.30621752, 0.54835909, 0.6402143 , 0.62906324,\n",
       "       0.74158947, 0.28149898, 0.72188611, 0.42076837, 2.11899371,\n",
       "       0.95191186, 0.19611556, 0.82782407, 1.5633831 , 0.82264036,\n",
       "       0.68945278, 0.66658826, 0.65145301, 1.62911043, 0.43574483,\n",
       "       1.41336547, 1.43134355, 1.50599947, 1.17116634, 0.46057942])"
      ]
     },
     "execution_count": 184,
     "metadata": {},
     "output_type": "execute_result"
    }
   ],
   "source": [
    "y = np.abs(x)\n",
    "y"
   ]
  },
  {
   "cell_type": "code",
   "execution_count": null,
   "metadata": {},
   "outputs": [],
   "source": []
  },
  {
   "cell_type": "code",
   "execution_count": 185,
   "metadata": {},
   "outputs": [
    {
     "data": {
      "text/plain": [
       "(array([15., 14., 18., 14.,  8., 11., 10.,  6.,  2.,  2.]),\n",
       " array([0.02719567, 0.25498327, 0.48277088, 0.71055848, 0.93834609,\n",
       "        1.1661337 , 1.3939213 , 1.62170891, 1.84949651, 2.07728412,\n",
       "        2.30507173]),\n",
       " <a list of 10 Patch objects>)"
      ]
     },
     "execution_count": 185,
     "metadata": {},
     "output_type": "execute_result"
    },
    {
     "data": {
      "image/png": "[encoded data removed]",
      "text/plain": [
       "<Figure size 432x288 with 1 Axes>"
      ]
     },
     "metadata": {},
     "output_type": "display_data"
    }
   ],
   "source": [
    "plt.hist(x)\n",
    "plt.hist(y)"
   ]
  },
  {
   "cell_type": "code",
   "execution_count": 37,
   "metadata": {},
   "outputs": [],
   "source": [
    "import seaborn as sns"
   ]
  },
  {
   "cell_type": "code",
   "execution_count": 173,
   "metadata": {},
   "outputs": [
    {
     "data": {
      "text/plain": [
       "<matplotlib.collections.PathCollection at 0x7f55a3edb0b8>"
      ]
     },
     "execution_count": 173,
     "metadata": {},
     "output_type": "execute_result"
    },
    {
     "data": {
      "image/png": "[encoded data removed]",
      "text/plain": [
       "<Figure size 432x288 with 1 Axes>"
      ]
     },
     "metadata": {},
     "output_type": "display_data"
    }
   ],
   "source": [
    "plt.scatter(range(100), x, alpha=0.5)\n",
    "plt.scatter(range(100), y, alpha=0.5)"
   ]
  },
  {
   "cell_type": "code",
   "execution_count": null,
   "metadata": {},
   "outputs": [],
   "source": []
  },
  {
   "cell_type": "code",
   "execution_count": 181,
   "metadata": {},
   "outputs": [],
   "source": [
    "df = pd.DataFrame({'x':x+y})"
   ]
  },
  {
   "cell_type": "code",
   "execution_count": 52,
   "metadata": {},
   "outputs": [
    {
     "data": {
      "text/html": [
       "<div>\n",
       "<style scoped>\n",
       "    .dataframe tbody tr th:only-of-type {\n",
       "        vertical-align: middle;\n",
       "    }\n",
       "\n",
       "    .dataframe tbody tr th {\n",
       "        vertical-align: top;\n",
       "    }\n",
       "\n",
       "    .dataframe thead th {\n",
       "        text-align: right;\n",
       "    }\n",
       "</style>\n",
       "<table border=\"1\" class=\"dataframe\">\n",
       "  <thead>\n",
       "    <tr style=\"text-align: right;\">\n",
       "      <th></th>\n",
       "      <th>x</th>\n",
       "    </tr>\n",
       "  </thead>\n",
       "  <tbody>\n",
       "    <tr>\n",
       "      <th>0</th>\n",
       "      <td>0.543372</td>\n",
       "    </tr>\n",
       "    <tr>\n",
       "      <th>1</th>\n",
       "      <td>0.388496</td>\n",
       "    </tr>\n",
       "    <tr>\n",
       "      <th>2</th>\n",
       "      <td>1.007618</td>\n",
       "    </tr>\n",
       "    <tr>\n",
       "      <th>3</th>\n",
       "      <td>0.229755</td>\n",
       "    </tr>\n",
       "    <tr>\n",
       "      <th>4</th>\n",
       "      <td>0.000000</td>\n",
       "    </tr>\n",
       "  </tbody>\n",
       "</table>\n",
       "</div>"
      ],
      "text/plain": [
       "          x\n",
       "0  0.543372\n",
       "1  0.388496\n",
       "2  1.007618\n",
       "3  0.229755\n",
       "4  0.000000"
      ]
     },
     "execution_count": 52,
     "metadata": {},
     "output_type": "execute_result"
    }
   ],
   "source": [
    "df.head()"
   ]
  },
  {
   "cell_type": "code",
   "execution_count": 182,
   "metadata": {},
   "outputs": [
    {
     "data": {
      "text/plain": [
       "(100, 1)"
      ]
     },
     "execution_count": 182,
     "metadata": {},
     "output_type": "execute_result"
    }
   ],
   "source": [
    "df.shape"
   ]
  },
  {
   "cell_type": "code",
   "execution_count": 78,
   "metadata": {},
   "outputs": [
    {
     "data": {
      "text/plain": [
       "x    50\n",
       "dtype: int64"
      ]
     },
     "execution_count": 78,
     "metadata": {},
     "output_type": "execute_result"
    }
   ],
   "source": [
    "df.nunique()"
   ]
  },
  {
   "cell_type": "code",
   "execution_count": 85,
   "metadata": {},
   "outputs": [],
   "source": [
    "df1 = df.groupby(['x']).apply(lambda x: np.round(x,1))"
   ]
  },
  {
   "cell_type": "code",
   "execution_count": 88,
   "metadata": {},
   "outputs": [
    {
     "data": {
      "text/plain": [
       "x    26\n",
       "dtype: int64"
      ]
     },
     "execution_count": 88,
     "metadata": {},
     "output_type": "execute_result"
    }
   ],
   "source": [
    "df1.nunique()"
   ]
  },
  {
   "cell_type": "code",
   "execution_count": 179,
   "metadata": {},
   "outputs": [
    {
     "data": {
      "text/plain": [
       "(array([ 5.,  7., 11., 14., 17., 24., 28., 31., 32., 34., 35., 37., 37.,\n",
       "        39., 41., 43., 43., 44., 44., 45.]),\n",
       " array([0.1  , 0.295, 0.49 , 0.685, 0.88 , 1.075, 1.27 , 1.465, 1.66 ,\n",
       "        1.855, 2.05 , 2.245, 2.44 , 2.635, 2.83 , 3.025, 3.22 , 3.415,\n",
       "        3.61 , 3.805, 4.   ]),\n",
       " <a list of 1 Patch objects>)"
      ]
     },
     "execution_count": 179,
     "metadata": {},
     "output_type": "execute_result"
    },
    {
     "data": {
      "image/png": "[encoded data removed]",
      "text/plain": [
       "<Figure size 432x288 with 1 Axes>"
      ]
     },
     "metadata": {},
     "output_type": "display_data"
    }
   ],
   "source": [
    "plt.hist(df1[\"x\"], histtype='step', bins=20, cumulative=True, range=(0.1,4))"
   ]
  },
  {
   "cell_type": "code",
   "execution_count": 90,
   "metadata": {},
   "outputs": [
    {
     "data": {
      "text/plain": [
       "<matplotlib.axes._subplots.AxesSubplot at 0x7f55a57b4fd0>"
      ]
     },
     "execution_count": 90,
     "metadata": {},
     "output_type": "execute_result"
    },
    {
     "data": {
      "image/png": "[encoded data removed]",
      "text/plain": [
       "<Figure size 432x288 with 1 Axes>"
      ]
     },
     "metadata": {},
     "output_type": "display_data"
    }
   ],
   "source": [
    "df1.plot.hist()"
   ]
  },
  {
   "cell_type": "code",
   "execution_count": 93,
   "metadata": {},
   "outputs": [
    {
     "data": {
      "text/plain": [
       "x    0.776\n",
       "dtype: float64"
      ]
     },
     "execution_count": 93,
     "metadata": {},
     "output_type": "execute_result"
    }
   ],
   "source": [
    "np.mean(df1)"
   ]
  },
  {
   "cell_type": "code",
   "execution_count": 108,
   "metadata": {},
   "outputs": [],
   "source": [
    "data = df1.groupby([\"x\"], axis=\"rows\")"
   ]
  },
  {
   "cell_type": "code",
   "execution_count": 128,
   "metadata": {},
   "outputs": [
    {
     "data": {
      "text/plain": [
       "-0.34063570520315517"
      ]
     },
     "execution_count": 128,
     "metadata": {},
     "output_type": "execute_result"
    }
   ],
   "source": [
    "np.random.normal()"
   ]
  },
  {
   "cell_type": "code",
   "execution_count": 138,
   "metadata": {},
   "outputs": [],
   "source": [
    "f = (np.random.randint(low=60, high=80, size=1000)) * (np.random.normal(loc=0, scale=1, size=1000))"
   ]
  },
  {
   "cell_type": "code",
   "execution_count": 171,
   "metadata": {},
   "outputs": [
    {
     "data": {
      "text/plain": [
       "(array([10., 18., 31., 34., 56., 52., 65., 71., 71., 91., 90., 77., 72.,\n",
       "        65., 50., 41., 24., 21., 12.,  8.]),\n",
       " array([-150., -135., -120., -105.,  -90.,  -75.,  -60.,  -45.,  -30.,\n",
       "         -15.,    0.,   15.,   30.,   45.,   60.,   75.,   90.,  105.,\n",
       "         120.,  135.,  150.]),\n",
       " <a list of 20 Patch objects>)"
      ]
     },
     "execution_count": 171,
     "metadata": {},
     "output_type": "execute_result"
    },
    {
     "data": {
      "image/png": "[encoded data removed]",
      "text/plain": [
       "<Figure size 432x288 with 1 Axes>"
      ]
     },
     "metadata": {},
     "output_type": "display_data"
    }
   ],
   "source": [
    "plt.hist(f, bins=20, range=(-150,150))"
   ]
  },
  {
   "cell_type": "code",
   "execution_count": 133,
   "metadata": {},
   "outputs": [
    {
     "data": {
      "text/plain": [
       "(1000,)"
      ]
     },
     "execution_count": 133,
     "metadata": {},
     "output_type": "execute_result"
    }
   ],
   "source": [
    "f.shape"
   ]
  },
  {
   "cell_type": "code",
   "execution_count": null,
   "metadata": {},
   "outputs": [],
   "source": []
  },
  {
   "cell_type": "code",
   "execution_count": 149,
   "metadata": {},
   "outputs": [
    {
     "data": {
      "image/png": "[encoded data removed]",
      "text/plain": [
       "<Figure size 432x288 with 9 Axes>"
      ]
     },
     "metadata": {},
     "output_type": "display_data"
    }
   ],
   "source": [
    "axes = plt.subplots(3,3)\n",
    "plt.tight_layout()"
   ]
  },
  {
   "cell_type": "code",
   "execution_count": 150,
   "metadata": {},
   "outputs": [
    {
     "data": {
      "image/png": "[encoded data removed]",
      "text/plain": [
       "<Figure size 432x288 with 9 Axes>"
      ]
     },
     "execution_count": 150,
     "metadata": {},
     "output_type": "execute_result"
    }
   ],
   "source": [
    "axes[0]"
   ]
  },
  {
   "cell_type": "code",
   "execution_count": null,
   "metadata": {},
   "outputs": [],
   "source": []
  },
  {
   "cell_type": "code",
   "execution_count": 158,
   "metadata": {},
   "outputs": [
    {
     "data": {
      "text/plain": [
       "0.0    52\n",
       "1.1     4\n",
       "1.3     4\n",
       "1.6     3\n",
       "0.1     3\n",
       "0.8     3\n",
       "1.2     3\n",
       "0.2     2\n",
       "1.0     2\n",
       "2.0     2\n",
       "0.6     2\n",
       "2.4     2\n",
       "4.1     2\n",
       "0.4     2\n",
       "3.2     2\n",
       "0.5     2\n",
       "2.1     1\n",
       "2.9     1\n",
       "1.7     1\n",
       "3.9     1\n",
       "0.9     1\n",
       "2.7     1\n",
       "3.5     1\n",
       "4.6     1\n",
       "3.0     1\n",
       "2.8     1\n",
       "Name: x, dtype: int64"
      ]
     },
     "execution_count": 158,
     "metadata": {},
     "output_type": "execute_result"
    }
   ],
   "source": [
    "df1[\"x\"].value_counts()"
   ]
  },
  {
   "cell_type": "code",
   "execution_count": null,
   "metadata": {},
   "outputs": [],
   "source": []
  },
  {
   "cell_type": "code",
   "execution_count": 161,
   "metadata": {},
   "outputs": [],
   "source": [
    "s = np.array([[1,0,0],[0,0,1],[1,0,1]])"
   ]
  },
  {
   "cell_type": "code",
   "execution_count": 162,
   "metadata": {},
   "outputs": [
    {
     "data": {
      "text/plain": [
       "array([[1, 0, 0],\n",
       "       [0, 0, 1],\n",
       "       [1, 0, 1]])"
      ]
     },
     "execution_count": 162,
     "metadata": {},
     "output_type": "execute_result"
    }
   ],
   "source": [
    "s"
   ]
  },
  {
   "cell_type": "code",
   "execution_count": 167,
   "metadata": {},
   "outputs": [
    {
     "data": {
      "text/plain": [
       "array([0.66666667, 0.        , 0.66666667])"
      ]
     },
     "execution_count": 167,
     "metadata": {},
     "output_type": "execute_result"
    }
   ],
   "source": [
    "np.mean(s, axis=0)"
   ]
  },
  {
   "cell_type": "code",
   "execution_count": 168,
   "metadata": {},
   "outputs": [
    {
     "data": {
      "text/plain": [
       "0.4444444444444444"
      ]
     },
     "execution_count": 168,
     "metadata": {},
     "output_type": "execute_result"
    }
   ],
   "source": [
    "np.mean(s)"
   ]
  },
  {
   "cell_type": "code",
   "execution_count": null,
   "metadata": {},
   "outputs": [],
   "source": []
  },
  {
   "cell_type": "code",
   "execution_count": null,
   "metadata": {},
   "outputs": [],
   "source": []
  },
  {
   "cell_type": "code",
   "execution_count": 180,
   "metadata": {},
   "outputs": [
    {
     "data": {
      "text/plain": [
       "<Figure size 432x288 with 0 Axes>"
      ]
     },
     "metadata": {},
     "output_type": "display_data"
    }
   ],
   "source": [
    "fig = plt.figure()"
   ]
  },
  {
   "cell_type": "code",
   "execution_count": null,
   "metadata": {},
   "outputs": [],
   "source": []
  },
  {
   "cell_type": "code",
   "execution_count": 253,
   "metadata": {},
   "outputs": [],
   "source": [
    "col1 = np.random.randn(100)\n",
    "col2 = np.random.randn(100)\n",
    "df = pd.DataFrame({'col1':np.round(np.abs(col1),0), 'col2':np.round(np.abs(col2),0)})"
   ]
  },
  {
   "cell_type": "code",
   "execution_count": 254,
   "metadata": {},
   "outputs": [
    {
     "data": {
      "text/html": [
       "<div>\n",
       "<style scoped>\n",
       "    .dataframe tbody tr th:only-of-type {\n",
       "        vertical-align: middle;\n",
       "    }\n",
       "\n",
       "    .dataframe tbody tr th {\n",
       "        vertical-align: top;\n",
       "    }\n",
       "\n",
       "    .dataframe thead th {\n",
       "        text-align: right;\n",
       "    }\n",
       "</style>\n",
       "<table border=\"1\" class=\"dataframe\">\n",
       "  <thead>\n",
       "    <tr style=\"text-align: right;\">\n",
       "      <th></th>\n",
       "      <th>col1</th>\n",
       "      <th>col2</th>\n",
       "    </tr>\n",
       "  </thead>\n",
       "  <tbody>\n",
       "    <tr>\n",
       "      <th>0</th>\n",
       "      <td>0.0</td>\n",
       "      <td>1.0</td>\n",
       "    </tr>\n",
       "    <tr>\n",
       "      <th>1</th>\n",
       "      <td>1.0</td>\n",
       "      <td>1.0</td>\n",
       "    </tr>\n",
       "    <tr>\n",
       "      <th>2</th>\n",
       "      <td>2.0</td>\n",
       "      <td>1.0</td>\n",
       "    </tr>\n",
       "    <tr>\n",
       "      <th>3</th>\n",
       "      <td>1.0</td>\n",
       "      <td>0.0</td>\n",
       "    </tr>\n",
       "    <tr>\n",
       "      <th>4</th>\n",
       "      <td>0.0</td>\n",
       "      <td>0.0</td>\n",
       "    </tr>\n",
       "  </tbody>\n",
       "</table>\n",
       "</div>"
      ],
      "text/plain": [
       "   col1  col2\n",
       "0   0.0   1.0\n",
       "1   1.0   1.0\n",
       "2   2.0   1.0\n",
       "3   1.0   0.0\n",
       "4   0.0   0.0"
      ]
     },
     "execution_count": 254,
     "metadata": {},
     "output_type": "execute_result"
    }
   ],
   "source": [
    "df.head()"
   ]
  },
  {
   "cell_type": "code",
   "execution_count": 255,
   "metadata": {},
   "outputs": [
    {
     "data": {
      "text/plain": [
       "col1    77.0\n",
       "col2    82.0\n",
       "dtype: float64"
      ]
     },
     "execution_count": 255,
     "metadata": {},
     "output_type": "execute_result"
    }
   ],
   "source": [
    "df.apply(lambda x: np.sum(x), axis=0)"
   ]
  },
  {
   "cell_type": "code",
   "execution_count": 256,
   "metadata": {},
   "outputs": [
    {
     "data": {
      "text/plain": [
       "col1    3.0\n",
       "col2    2.0\n",
       "dtype: float64"
      ]
     },
     "execution_count": 256,
     "metadata": {},
     "output_type": "execute_result"
    }
   ],
   "source": [
    "df[[\"col1\",\"col2\"]].apply(lambda x: x[1] + x[2], axis=0)"
   ]
  },
  {
   "cell_type": "code",
   "execution_count": 257,
   "metadata": {},
   "outputs": [],
   "source": [
    "df[\"col3\"] = df.apply(lambda x: np.sum(x), axis=1)"
   ]
  },
  {
   "cell_type": "code",
   "execution_count": 258,
   "metadata": {},
   "outputs": [
    {
     "data": {
      "text/html": [
       "<div>\n",
       "<style scoped>\n",
       "    .dataframe tbody tr th:only-of-type {\n",
       "        vertical-align: middle;\n",
       "    }\n",
       "\n",
       "    .dataframe tbody tr th {\n",
       "        vertical-align: top;\n",
       "    }\n",
       "\n",
       "    .dataframe thead th {\n",
       "        text-align: right;\n",
       "    }\n",
       "</style>\n",
       "<table border=\"1\" class=\"dataframe\">\n",
       "  <thead>\n",
       "    <tr style=\"text-align: right;\">\n",
       "      <th></th>\n",
       "      <th>col1</th>\n",
       "      <th>col2</th>\n",
       "      <th>col3</th>\n",
       "    </tr>\n",
       "  </thead>\n",
       "  <tbody>\n",
       "    <tr>\n",
       "      <th>0</th>\n",
       "      <td>0.0</td>\n",
       "      <td>1.0</td>\n",
       "      <td>1.0</td>\n",
       "    </tr>\n",
       "    <tr>\n",
       "      <th>1</th>\n",
       "      <td>1.0</td>\n",
       "      <td>1.0</td>\n",
       "      <td>2.0</td>\n",
       "    </tr>\n",
       "    <tr>\n",
       "      <th>2</th>\n",
       "      <td>2.0</td>\n",
       "      <td>1.0</td>\n",
       "      <td>3.0</td>\n",
       "    </tr>\n",
       "    <tr>\n",
       "      <th>3</th>\n",
       "      <td>1.0</td>\n",
       "      <td>0.0</td>\n",
       "      <td>1.0</td>\n",
       "    </tr>\n",
       "    <tr>\n",
       "      <th>4</th>\n",
       "      <td>0.0</td>\n",
       "      <td>0.0</td>\n",
       "      <td>0.0</td>\n",
       "    </tr>\n",
       "  </tbody>\n",
       "</table>\n",
       "</div>"
      ],
      "text/plain": [
       "   col1  col2  col3\n",
       "0   0.0   1.0   1.0\n",
       "1   1.0   1.0   2.0\n",
       "2   2.0   1.0   3.0\n",
       "3   1.0   0.0   1.0\n",
       "4   0.0   0.0   0.0"
      ]
     },
     "execution_count": 258,
     "metadata": {},
     "output_type": "execute_result"
    }
   ],
   "source": [
    "df.head()"
   ]
  },
  {
   "cell_type": "code",
   "execution_count": null,
   "metadata": {},
   "outputs": [],
   "source": []
  },
  {
   "cell_type": "code",
   "execution_count": null,
   "metadata": {},
   "outputs": [],
   "source": []
  },
  {
   "cell_type": "code",
   "execution_count": null,
   "metadata": {},
   "outputs": [],
   "source": []
  },
  {
   "cell_type": "code",
   "execution_count": null,
   "metadata": {},
   "outputs": [],
   "source": []
  }
 ],
 "metadata": {
  "kernelspec": {
   "display_name": "Python 3",
   "language": "python",
   "name": "python3"
  },
  "language_info": {
   "codemirror_mode": {
    "name": "ipython",
    "version": 3
   },
   "file_extension": ".py",
   "mimetype": "text/x-python",
   "name": "python",
   "nbconvert_exporter": "python",
   "pygments_lexer": "ipython3",
   "version": "3.6.5"
  }
 },
 "nbformat": 4,
 "nbformat_minor": 2
}
