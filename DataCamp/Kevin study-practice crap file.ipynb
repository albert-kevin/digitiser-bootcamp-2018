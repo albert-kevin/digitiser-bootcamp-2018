{
 "cells": [
  {
   "cell_type": "code",
   "execution_count": 11,
   "metadata": {},
   "outputs": [
    {
     "name": "stdout",
     "output_type": "stream",
     "text": [
      "t e x t "
     ]
    }
   ],
   "source": [
    "for i in \"text\":\n",
    "    print(\"{} \".format(i), end=\"\")"
   ]
  },
  {
   "cell_type": "code",
   "execution_count": 12,
   "metadata": {},
   "outputs": [],
   "source": [
    "mygen = (x*x for x in range(3))"
   ]
  },
  {
   "cell_type": "code",
   "execution_count": 15,
   "metadata": {},
   "outputs": [
    {
     "data": {
      "text/plain": [
       "<generator object <genexpr> at 0x7f175c165d00>"
      ]
     },
     "execution_count": 15,
     "metadata": {},
     "output_type": "execute_result"
    }
   ],
   "source": [
    "mygen"
   ]
  },
  {
   "cell_type": "code",
   "execution_count": 16,
   "metadata": {},
   "outputs": [
    {
     "data": {
      "text/plain": [
       "0"
      ]
     },
     "execution_count": 16,
     "metadata": {},
     "output_type": "execute_result"
    }
   ],
   "source": [
    "next(mygen)"
   ]
  },
  {
   "cell_type": "code",
   "execution_count": 17,
   "metadata": {},
   "outputs": [
    {
     "data": {
      "text/plain": [
       "1"
      ]
     },
     "execution_count": 17,
     "metadata": {},
     "output_type": "execute_result"
    }
   ],
   "source": [
    "next(mygen)"
   ]
  },
  {
   "cell_type": "code",
   "execution_count": 18,
   "metadata": {},
   "outputs": [
    {
     "data": {
      "text/plain": [
       "4"
      ]
     },
     "execution_count": 18,
     "metadata": {},
     "output_type": "execute_result"
    }
   ],
   "source": [
    "next(mygen)"
   ]
  },
  {
   "cell_type": "code",
   "execution_count": 20,
   "metadata": {},
   "outputs": [],
   "source": [
    "import math"
   ]
  },
  {
   "cell_type": "code",
   "execution_count": 22,
   "metadata": {},
   "outputs": [
    {
     "data": {
      "text/plain": [
       "['__doc__',\n",
       " '__file__',\n",
       " '__loader__',\n",
       " '__name__',\n",
       " '__package__',\n",
       " '__spec__',\n",
       " 'acos',\n",
       " 'acosh',\n",
       " 'asin',\n",
       " 'asinh',\n",
       " 'atan',\n",
       " 'atan2',\n",
       " 'atanh',\n",
       " 'ceil',\n",
       " 'copysign',\n",
       " 'cos',\n",
       " 'cosh',\n",
       " 'degrees',\n",
       " 'e',\n",
       " 'erf',\n",
       " 'erfc',\n",
       " 'exp',\n",
       " 'expm1',\n",
       " 'fabs',\n",
       " 'factorial',\n",
       " 'floor',\n",
       " 'fmod',\n",
       " 'frexp',\n",
       " 'fsum',\n",
       " 'gamma',\n",
       " 'gcd',\n",
       " 'hypot',\n",
       " 'inf',\n",
       " 'isclose',\n",
       " 'isfinite',\n",
       " 'isinf',\n",
       " 'isnan',\n",
       " 'ldexp',\n",
       " 'lgamma',\n",
       " 'log',\n",
       " 'log10',\n",
       " 'log1p',\n",
       " 'log2',\n",
       " 'modf',\n",
       " 'nan',\n",
       " 'pi',\n",
       " 'pow',\n",
       " 'radians',\n",
       " 'sin',\n",
       " 'sinh',\n",
       " 'sqrt',\n",
       " 'tan',\n",
       " 'tanh',\n",
       " 'tau',\n",
       " 'trunc']"
      ]
     },
     "execution_count": 22,
     "metadata": {},
     "output_type": "execute_result"
    }
   ],
   "source": [
    "dir(math)"
   ]
  },
  {
   "cell_type": "code",
   "execution_count": 23,
   "metadata": {},
   "outputs": [],
   "source": [
    "from collections import Counter"
   ]
  },
  {
   "cell_type": "code",
   "execution_count": 24,
   "metadata": {},
   "outputs": [],
   "source": [
    "string = \"dit is een text met een woord dubbel\""
   ]
  },
  {
   "cell_type": "code",
   "execution_count": 26,
   "metadata": {},
   "outputs": [],
   "source": [
    "output = Counter(string.split())"
   ]
  },
  {
   "cell_type": "code",
   "execution_count": 27,
   "metadata": {},
   "outputs": [
    {
     "data": {
      "text/plain": [
       "Counter({'dit': 1,\n",
       "         'is': 1,\n",
       "         'een': 2,\n",
       "         'text': 1,\n",
       "         'met': 1,\n",
       "         'woord': 1,\n",
       "         'dubbel': 1})"
      ]
     },
     "execution_count": 27,
     "metadata": {},
     "output_type": "execute_result"
    }
   ],
   "source": [
    "output"
   ]
  },
  {
   "cell_type": "code",
   "execution_count": 32,
   "metadata": {},
   "outputs": [
    {
     "data": {
      "text/plain": [
       "'lebbud droow nee tem txet nee si tid'"
      ]
     },
     "execution_count": 32,
     "metadata": {},
     "output_type": "execute_result"
    }
   ],
   "source": [
    "string[::-1]"
   ]
  },
  {
   "cell_type": "code",
   "execution_count": 38,
   "metadata": {},
   "outputs": [
    {
     "name": "stdout",
     "output_type": "stream",
     "text": [
      "lebbud droow nee tem txet nee si tid\n"
     ]
    }
   ],
   "source": [
    "print (\"\".join(reversed(string)))"
   ]
  },
  {
   "cell_type": "code",
   "execution_count": 41,
   "metadata": {},
   "outputs": [],
   "source": [
    "from time import strftime"
   ]
  },
  {
   "cell_type": "code",
   "execution_count": 43,
   "metadata": {},
   "outputs": [
    {
     "data": {
      "text/plain": [
       "'09/22/18'"
      ]
     },
     "execution_count": 43,
     "metadata": {},
     "output_type": "execute_result"
    }
   ],
   "source": [
    "strftime(\"%x\")"
   ]
  },
  {
   "cell_type": "code",
   "execution_count": 44,
   "metadata": {},
   "outputs": [],
   "source": [
    "set1 = {2,3,1,5,6,8}\n",
    "set2 = {3,1,7,5,6,8}"
   ]
  },
  {
   "cell_type": "code",
   "execution_count": 45,
   "metadata": {},
   "outputs": [
    {
     "data": {
      "text/plain": [
       "{2}"
      ]
     },
     "execution_count": 45,
     "metadata": {},
     "output_type": "execute_result"
    }
   ],
   "source": [
    "set1.difference(set2)"
   ]
  },
  {
   "cell_type": "code",
   "execution_count": 54,
   "metadata": {},
   "outputs": [],
   "source": [
    "binary1 = bin(4)"
   ]
  },
  {
   "cell_type": "code",
   "execution_count": 55,
   "metadata": {},
   "outputs": [
    {
     "data": {
      "text/plain": [
       "'0b100'"
      ]
     },
     "execution_count": 55,
     "metadata": {},
     "output_type": "execute_result"
    }
   ],
   "source": [
    "binary1"
   ]
  },
  {
   "cell_type": "code",
   "execution_count": 56,
   "metadata": {},
   "outputs": [
    {
     "data": {
      "text/plain": [
       "str"
      ]
     },
     "execution_count": 56,
     "metadata": {},
     "output_type": "execute_result"
    }
   ],
   "source": [
    "type(binary1)"
   ]
  },
  {
   "cell_type": "code",
   "execution_count": 57,
   "metadata": {},
   "outputs": [],
   "source": [
    "savings = 100\n",
    "factor = 1.1\n",
    "desc = \"compound interest\""
   ]
  },
  {
   "cell_type": "code",
   "execution_count": 58,
   "metadata": {},
   "outputs": [
    {
     "data": {
      "text/plain": [
       "'compound interestcompound interest'"
      ]
     },
     "execution_count": 58,
     "metadata": {},
     "output_type": "execute_result"
    }
   ],
   "source": [
    "desc + desc"
   ]
  },
  {
   "cell_type": "code",
   "execution_count": 60,
   "metadata": {},
   "outputs": [
    {
     "name": "stdout",
     "output_type": "stream",
     "text": [
      "I started with $100 and now have $. Awesome!\n"
     ]
    }
   ],
   "source": [
    "print(\"I started with $\" + str(savings) + \" and now have $\" + \". Awesome!\")"
   ]
  },
  {
   "cell_type": "code",
   "execution_count": 61,
   "metadata": {},
   "outputs": [],
   "source": [
    "hall = 11.25\n",
    "kit = 18.0\n",
    "liv = 20.0\n",
    "bed = 10.75\n",
    "bath = 9.50"
   ]
  },
  {
   "cell_type": "code",
   "execution_count": 62,
   "metadata": {},
   "outputs": [],
   "source": [
    "areas = [hall, kit, liv, bed, bath]"
   ]
  },
  {
   "cell_type": "code",
   "execution_count": 63,
   "metadata": {},
   "outputs": [],
   "source": [
    "house = [[\"hallway\", hall],\n",
    "         [\"kitchen\", kit],\n",
    "         [\"living room\", liv],\n",
    "         [\"bedroom\", bed],\n",
    "         [\"bathroom\", bath]]"
   ]
  },
  {
   "cell_type": "code",
   "execution_count": 64,
   "metadata": {},
   "outputs": [
    {
     "data": {
      "text/plain": [
       "[11.25, 18.0, 20.0, 10.75, 9.5]"
      ]
     },
     "execution_count": 64,
     "metadata": {},
     "output_type": "execute_result"
    }
   ],
   "source": [
    "areas"
   ]
  },
  {
   "cell_type": "code",
   "execution_count": 65,
   "metadata": {},
   "outputs": [
    {
     "data": {
      "text/plain": [
       "[['hallway', 11.25],\n",
       " ['kitchen', 18.0],\n",
       " ['living room', 20.0],\n",
       " ['bedroom', 10.75],\n",
       " ['bathroom', 9.5]]"
      ]
     },
     "execution_count": 65,
     "metadata": {},
     "output_type": "execute_result"
    }
   ],
   "source": [
    "house"
   ]
  },
  {
   "cell_type": "code",
   "execution_count": 66,
   "metadata": {},
   "outputs": [
    {
     "data": {
      "text/plain": [
       "list"
      ]
     },
     "execution_count": 66,
     "metadata": {},
     "output_type": "execute_result"
    }
   ],
   "source": [
    "type(house)"
   ]
  },
  {
   "cell_type": "code",
   "execution_count": 67,
   "metadata": {},
   "outputs": [
    {
     "data": {
      "text/plain": [
       "[11.25, 18.0, 20.0, 10.75, 9.5]"
      ]
     },
     "execution_count": 67,
     "metadata": {},
     "output_type": "execute_result"
    }
   ],
   "source": [
    "areas"
   ]
  },
  {
   "cell_type": "code",
   "execution_count": 69,
   "metadata": {},
   "outputs": [
    {
     "data": {
      "text/plain": [
       "[9.5, 10.75, 20.0, 18.0, 11.25]"
      ]
     },
     "execution_count": 69,
     "metadata": {},
     "output_type": "execute_result"
    }
   ],
   "source": [
    "areas[::-1]"
   ]
  },
  {
   "cell_type": "code",
   "execution_count": 70,
   "metadata": {},
   "outputs": [
    {
     "data": {
      "text/plain": [
       "9.5"
      ]
     },
     "execution_count": 70,
     "metadata": {},
     "output_type": "execute_result"
    }
   ],
   "source": [
    "areas[-1]"
   ]
  },
  {
   "cell_type": "code",
   "execution_count": 72,
   "metadata": {},
   "outputs": [
    {
     "data": {
      "text/plain": [
       "9.5"
      ]
     },
     "execution_count": 72,
     "metadata": {},
     "output_type": "execute_result"
    }
   ],
   "source": [
    "areas[4]"
   ]
  },
  {
   "cell_type": "code",
   "execution_count": 73,
   "metadata": {},
   "outputs": [],
   "source": [
    "areas = [11.25, 18.0, 20.0, 10.75, 9.50]"
   ]
  },
  {
   "cell_type": "code",
   "execution_count": 74,
   "metadata": {},
   "outputs": [],
   "source": [
    "areas_copy = list(areas)"
   ]
  },
  {
   "cell_type": "code",
   "execution_count": 82,
   "metadata": {},
   "outputs": [
    {
     "data": {
      "text/plain": [
       "[10.0, 18.0, 20.0, 10.75, 9.5]"
      ]
     },
     "execution_count": 82,
     "metadata": {},
     "output_type": "execute_result"
    }
   ],
   "source": [
    "areas"
   ]
  },
  {
   "cell_type": "code",
   "execution_count": 83,
   "metadata": {},
   "outputs": [
    {
     "data": {
      "text/plain": [
       "[5.0, 18.0, 20.0, 10.75, 9.5]"
      ]
     },
     "execution_count": 83,
     "metadata": {},
     "output_type": "execute_result"
    }
   ],
   "source": [
    "areas_copy"
   ]
  },
  {
   "cell_type": "code",
   "execution_count": 77,
   "metadata": {},
   "outputs": [],
   "source": [
    "areas_copy[0] = 5.0"
   ]
  },
  {
   "cell_type": "code",
   "execution_count": 80,
   "metadata": {},
   "outputs": [],
   "source": [
    "areas_prot = areas"
   ]
  },
  {
   "cell_type": "code",
   "execution_count": 81,
   "metadata": {},
   "outputs": [],
   "source": [
    "areas_prot[0] = 10.0"
   ]
  },
  {
   "cell_type": "code",
   "execution_count": null,
   "metadata": {},
   "outputs": [],
   "source": []
  },
  {
   "cell_type": "code",
   "execution_count": 84,
   "metadata": {},
   "outputs": [
    {
     "name": "stdout",
     "output_type": "stream",
     "text": [
      "<class 'list'>\n",
      "4\n"
     ]
    }
   ],
   "source": [
    "# Familiar functions\n",
    "# Create variables var1 and var2\n",
    "var1 = [1, 2, 3, 4]\n",
    "var2 = True\n",
    "\n",
    "# Print out type of var1\n",
    "print(type(var1))\n",
    "\n",
    "# Print out length of var1\n",
    "print(len(var1))\n",
    "\n",
    "# Convert var2 to an integer: out2\n",
    "out2 = int(var2)"
   ]
  },
  {
   "cell_type": "code",
   "execution_count": 93,
   "metadata": {},
   "outputs": [
    {
     "name": "stdout",
     "output_type": "stream",
     "text": [
      "[20.0, 18.0, 11.25, 10.75, 9.5]\n"
     ]
    }
   ],
   "source": [
    "first = [11.25, 18.0, 20.0]\n",
    "second = [10.75, 9.50]\n",
    "full = first + second\n",
    "# Sort full in descending order: full_sorted\n",
    "full_sorted = sorted(full, reverse = True)\n",
    "\n",
    "# Print out full_sorted\n",
    "print(full_sorted)"
   ]
  },
  {
   "cell_type": "code",
   "execution_count": 98,
   "metadata": {},
   "outputs": [],
   "source": [
    "abc = full.sort(reverse=True)"
   ]
  },
  {
   "cell_type": "code",
   "execution_count": 100,
   "metadata": {},
   "outputs": [
    {
     "name": "stdout",
     "output_type": "stream",
     "text": [
      "None\n"
     ]
    }
   ],
   "source": [
    "print (abc)"
   ]
  },
  {
   "cell_type": "code",
   "execution_count": 88,
   "metadata": {},
   "outputs": [
    {
     "data": {
      "text/plain": [
       "float"
      ]
     },
     "execution_count": 88,
     "metadata": {},
     "output_type": "execute_result"
    }
   ],
   "source": [
    "type(full[0])"
   ]
  },
  {
   "cell_type": "code",
   "execution_count": 89,
   "metadata": {},
   "outputs": [
    {
     "name": "stdout",
     "output_type": "stream",
     "text": [
      "poolhouse\n",
      "POOLHOUSE\n",
      "3\n"
     ]
    }
   ],
   "source": [
    "#String Methods\n",
    "# string to experiment with: room\n",
    "room = \"poolhouse\"\n",
    "\n",
    "# Use upper() on room: room_up\n",
    "room_up = room.upper()\n",
    "\n",
    "# Print out room and room_up\n",
    "print(room)\n",
    "print(room_up)\n",
    "\n",
    "# Print out the number of o's in room\n",
    "print(room.count(\"o\"))"
   ]
  },
  {
   "cell_type": "code",
   "execution_count": 101,
   "metadata": {},
   "outputs": [
    {
     "name": "stdout",
     "output_type": "stream",
     "text": [
      "2\n",
      "0\n"
     ]
    }
   ],
   "source": [
    "#List Methods\n",
    "# Create list areas\n",
    "areas = [11.25, 18.0, 20.0, 10.75, 9.50]\n",
    "\n",
    "# Print out the index of the element 20.0\n",
    "print(areas.index(20.0))\n",
    "\n",
    "# Print out how often 14.5 appears in areas\n",
    "print(areas.count(14.5))"
   ]
  },
  {
   "cell_type": "code",
   "execution_count": 102,
   "metadata": {},
   "outputs": [],
   "source": [
    "#List Methods (2)\n",
    "# Create list areas\n",
    "areas = [11.25, 18.0, 20.0, 10.75, 9.50]\n",
    "\n",
    "# Use append twice to add poolhouse and garage size\n",
    "areas.append(24.5)\n",
    "areas.append(15.45)"
   ]
  },
  {
   "cell_type": "code",
   "execution_count": 103,
   "metadata": {},
   "outputs": [
    {
     "name": "stdout",
     "output_type": "stream",
     "text": [
      "[11.25, 18.0, 20.0, 10.75, 9.5, 24.5, 15.45]\n",
      "[15.45, 24.5, 9.5, 10.75, 20.0, 18.0, 11.25]\n"
     ]
    }
   ],
   "source": [
    "# Print out areas\n",
    "print(areas)\n",
    "\n",
    "# Reverse the orders of the elements in areas\n",
    "areas.\n",
    "\n",
    "# Print out areas\n",
    "print(areas)"
   ]
  },
  {
   "cell_type": "code",
   "execution_count": 104,
   "metadata": {},
   "outputs": [],
   "source": [
    "#Import package\n",
    "# Definition of radius\n",
    "r = 0.43\n",
    "\n",
    "# Import the math package\n",
    "import math\n",
    "\n",
    "# Calculate C\n",
    "C = 2 * r * math.pi\n",
    "\n",
    "# Calculate A\n",
    "A = math.pi * r ** 2"
   ]
  },
  {
   "cell_type": "code",
   "execution_count": 105,
   "metadata": {},
   "outputs": [
    {
     "name": "stdout",
     "output_type": "stream",
     "text": [
      "Circumference: 2.701769682087222\n",
      "Area: 0.5808804816487527\n"
     ]
    }
   ],
   "source": [
    "# Build printout\n",
    "print(\"Circumference: \" + str(C))\n",
    "print(\"Area: \" + str(A))"
   ]
  },
  {
   "cell_type": "code",
   "execution_count": 106,
   "metadata": {},
   "outputs": [
    {
     "name": "stdout",
     "output_type": "stream",
     "text": [
      "40317.10572106901\n"
     ]
    }
   ],
   "source": [
    "#Selective import\n",
    "# Definition of radius\n",
    "r = 192500\n",
    "\n",
    "# Import radians function of math package\n",
    "from math import radians\n",
    "\n",
    "# Travel distance of Moon if 12 degrees. Store in dist.\n",
    "dist = r * radians(12)\n",
    "\n",
    "# Print out dist\n",
    "print(dist)"
   ]
  },
  {
   "cell_type": "code",
   "execution_count": null,
   "metadata": {},
   "outputs": [],
   "source": []
  },
  {
   "cell_type": "code",
   "execution_count": null,
   "metadata": {},
   "outputs": [],
   "source": []
  },
  {
   "cell_type": "code",
   "execution_count": null,
   "metadata": {},
   "outputs": [],
   "source": []
  },
  {
   "cell_type": "code",
   "execution_count": null,
   "metadata": {},
   "outputs": [],
   "source": []
  },
  {
   "cell_type": "code",
   "execution_count": null,
   "metadata": {},
   "outputs": [],
   "source": []
  },
  {
   "cell_type": "code",
   "execution_count": null,
   "metadata": {},
   "outputs": [],
   "source": []
  },
  {
   "cell_type": "code",
   "execution_count": null,
   "metadata": {},
   "outputs": [],
   "source": []
  },
  {
   "cell_type": "code",
   "execution_count": 107,
   "metadata": {},
   "outputs": [],
   "source": [
    "#Your First Numpy Array\n",
    "# Create list baseball\n",
    "baseball = [180, 215, 210, 210, 188, 176, 209, 200]\n",
    "\n",
    "# Import the numpy package as np\n",
    "import numpy as np\n"
   ]
  },
  {
   "cell_type": "code",
   "execution_count": 108,
   "metadata": {},
   "outputs": [
    {
     "name": "stdout",
     "output_type": "stream",
     "text": [
      "<class 'numpy.ndarray'>\n"
     ]
    }
   ],
   "source": [
    "\n",
    "# Create a Numpy array from baseball: np_baseball\n",
    "np_baseball = np.array(baseball)\n",
    "\n",
    "# Print out type of np_baseball\n",
    "print(type(np_baseball))"
   ]
  },
  {
   "cell_type": "code",
   "execution_count": 109,
   "metadata": {},
   "outputs": [
    {
     "ename": "NameError",
     "evalue": "name 'height' is not defined",
     "output_type": "error",
     "traceback": [
      "\u001b[0;31m---------------------------------------------------------------------------\u001b[0m",
      "\u001b[0;31mNameError\u001b[0m                                 Traceback (most recent call last)",
      "\u001b[0;32m<ipython-input-109-c4d97f4751a9>\u001b[0m in \u001b[0;36m<module>\u001b[0;34m()\u001b[0m\n\u001b[1;32m      6\u001b[0m \u001b[0;34m\u001b[0m\u001b[0m\n\u001b[1;32m      7\u001b[0m \u001b[0;31m# Create a Numpy array from height: np_height\u001b[0m\u001b[0;34m\u001b[0m\u001b[0;34m\u001b[0m\u001b[0m\n\u001b[0;32m----> 8\u001b[0;31m \u001b[0mnp_height\u001b[0m \u001b[0;34m=\u001b[0m \u001b[0mnp\u001b[0m\u001b[0;34m.\u001b[0m\u001b[0marray\u001b[0m\u001b[0;34m(\u001b[0m\u001b[0mheight\u001b[0m\u001b[0;34m)\u001b[0m\u001b[0;34m\u001b[0m\u001b[0m\n\u001b[0m\u001b[1;32m      9\u001b[0m \u001b[0;34m\u001b[0m\u001b[0m\n\u001b[1;32m     10\u001b[0m \u001b[0;31m# Print out np_height\u001b[0m\u001b[0;34m\u001b[0m\u001b[0;34m\u001b[0m\u001b[0m\n",
      "\u001b[0;31mNameError\u001b[0m: name 'height' is not defined"
     ]
    }
   ],
   "source": [
    "#Baseball players' height\n",
    "# height is available as a regular list\n",
    "\n",
    "# Import numpy\n",
    "import numpy as np\n",
    "\n",
    "# Create a Numpy array from height: np_height\n",
    "np_height = np.array(height)\n",
    "\n",
    "# Print out np_height\n",
    "print(np_height)\n",
    "\n",
    "# Convert np_height to m: np_height_m\n",
    "np_height_m = np_height * 0.0254\n",
    "\n",
    "# Print np_height_m\n",
    "print(np_height_m)"
   ]
  },
  {
   "cell_type": "code",
   "execution_count": 111,
   "metadata": {},
   "outputs": [
    {
     "name": "stdout",
     "output_type": "stream",
     "text": [
      "[105.46035092  50.777206    30.75926902  22.4982082 ]\n"
     ]
    }
   ],
   "source": [
    "#Baseball player's BMI\n",
    "# height and weight are available as a regular lists\n",
    "\n",
    "# Import numpy\n",
    "import numpy as np\n",
    "\n",
    "# Create array from height with correct units: np_height_m\n",
    "np_height_m = np.array([20,30,40,50]) * 0.0254\n",
    "\n",
    "# Create array from weight with correct units: np_weight_kg\n",
    "np_weight_kg = np.array([60,65,70,80]) * 0.453592\n",
    "\n",
    "# Calculate the BMI: bmi\n",
    "bmi = np_weight_kg / np_height_m ** 2\n",
    "\n",
    "# Print out bmi\n",
    "print(bmi)"
   ]
  },
  {
   "cell_type": "code",
   "execution_count": 112,
   "metadata": {},
   "outputs": [
    {
     "data": {
      "text/plain": [
       "array([0.508, 0.762, 1.016, 1.27 ])"
      ]
     },
     "execution_count": 112,
     "metadata": {},
     "output_type": "execute_result"
    }
   ],
   "source": [
    "np_height_m"
   ]
  },
  {
   "cell_type": "code",
   "execution_count": 113,
   "metadata": {},
   "outputs": [
    {
     "data": {
      "text/plain": [
       "0.508"
      ]
     },
     "execution_count": 113,
     "metadata": {},
     "output_type": "execute_result"
    }
   ],
   "source": [
    "20 * 0.0254"
   ]
  },
  {
   "cell_type": "code",
   "execution_count": null,
   "metadata": {},
   "outputs": [],
   "source": [
    "#Lightweight baseball players\n",
    "# height and weight are available as a regular lists\n",
    "\n",
    "# Import numpy\n",
    "import numpy as np\n",
    "\n",
    "# Calculate the BMI: bmi\n",
    "np_height_m = np.array(height) * 0.0254\n",
    "np_weight_kg = np.array(weight) * 0.453592\n",
    "bmi = np_weight_kg / np_height_m ** 2\n",
    "\n",
    "# Create the light array\n",
    "light = bmi < 21\n",
    "\n",
    "# Print out light\n",
    "print(light)"
   ]
  },
  {
   "cell_type": "code",
   "execution_count": null,
   "metadata": {},
   "outputs": [],
   "source": []
  },
  {
   "cell_type": "code",
   "execution_count": null,
   "metadata": {},
   "outputs": [],
   "source": []
  },
  {
   "cell_type": "code",
   "execution_count": 114,
   "metadata": {},
   "outputs": [],
   "source": [
    "#Your First 2D Numpy Array\n",
    "# Create baseball, a list of lists\n",
    "baseball = [[180, 78.4],\n",
    "            [215, 102.7],\n",
    "            [210, 98.5],\n",
    "            [188, 75.2]]\n",
    "\n",
    "# Import numpy\n",
    "import numpy as np"
   ]
  },
  {
   "cell_type": "code",
   "execution_count": 115,
   "metadata": {},
   "outputs": [
    {
     "name": "stdout",
     "output_type": "stream",
     "text": [
      "<class 'numpy.ndarray'>\n",
      "(4, 2)\n"
     ]
    }
   ],
   "source": [
    "# Create a 2D Numpy array from baseball: np_baseball\n",
    "np_baseball = np.array(baseball)\n",
    "\n",
    "# Print out the type of np_baseball\n",
    "print(type(np_baseball))\n",
    "\n",
    "# Print out the shape of np_baseball\n",
    "print(np_baseball.shape)"
   ]
  },
  {
   "cell_type": "code",
   "execution_count": 116,
   "metadata": {},
   "outputs": [
    {
     "data": {
      "text/plain": [
       "array([[180. ,  78.4],\n",
       "       [215. , 102.7],\n",
       "       [210. ,  98.5],\n",
       "       [188. ,  75.2]])"
      ]
     },
     "execution_count": 116,
     "metadata": {},
     "output_type": "execute_result"
    }
   ],
   "source": [
    "np_baseball"
   ]
  },
  {
   "cell_type": "code",
   "execution_count": 117,
   "metadata": {},
   "outputs": [
    {
     "name": "stdout",
     "output_type": "stream",
     "text": [
      "(4, 2)\n"
     ]
    }
   ],
   "source": [
    "#Baseball data in 2D form\n",
    "# baseball is available as a regular list of lists\n",
    "\n",
    "# Import numpy package\n",
    "import numpy as np\n",
    "\n",
    "# Create a 2D Numpy array from baseball: np_baseball\n",
    "np_baseball = np.array(baseball)\n",
    "\n",
    "# Print out the shape of np_baseball\n",
    "print(np_baseball.shape)"
   ]
  },
  {
   "cell_type": "code",
   "execution_count": null,
   "metadata": {},
   "outputs": [],
   "source": [
    "np.corrcoef()"
   ]
  },
  {
   "cell_type": "code",
   "execution_count": null,
   "metadata": {},
   "outputs": [],
   "source": [
    "np.corr()"
   ]
  },
  {
   "cell_type": "code",
   "execution_count": 172,
   "metadata": {},
   "outputs": [
    {
     "data": {
      "text/plain": [
       "array([[1.        , 0.81543901],\n",
       "       [0.81543901, 1.        ]])"
      ]
     },
     "execution_count": 172,
     "metadata": {},
     "output_type": "execute_result"
    }
   ],
   "source": [
    "import numpy as np\n",
    "\n",
    "np.random.seed(1)\n",
    "\n",
    "# 1000 random integers between 0 and 50\n",
    "x = np.random.randint(0, 50, 1000)\n",
    "\n",
    "# Positive Correlation with some noise\n",
    "y = x + np.random.normal(0, 10, 1000)\n",
    "\n",
    "np.corrcoef(x, y)"
   ]
  },
  {
   "cell_type": "code",
   "execution_count": 122,
   "metadata": {},
   "outputs": [
    {
     "data": {
      "text/plain": [
       "array([37, 43, 12,  8,  9, 11,  5, 15,  0, 16,  1, 12,  7, 45,  6, 25, 20,\n",
       "       37, 18, 20, 11, 42, 28, 29, 14,  4, 23, 23, 41, 49, 30, 32, 22, 13,\n",
       "       41,  9,  7, 22,  1,  0, 17,  8, 24, 13, 47, 42,  8, 30,  7,  3,  6,\n",
       "       21, 49,  3,  4, 24, 49, 43, 12, 26, 16, 45, 41, 18, 15,  0,  4, 25,\n",
       "       47, 34, 23,  7, 26, 25, 40, 22,  9,  3, 39, 23, 36, 27, 37, 19, 38,\n",
       "        8, 32, 34, 10, 23, 15, 47, 23, 25,  7, 28, 10, 46, 32, 24, 23,  1,\n",
       "       49, 13,  3,  0, 13,  6, 21,  6,  2, 12, 27, 21, 11,  7, 13,  8, 11,\n",
       "       12, 43, 20, 30, 36, 39,  7, 45,  4, 48, 18, 32, 13, 10, 23, 17,  7,\n",
       "       24, 10, 28, 20, 32, 12,  1, 30, 41, 24, 18, 33,  2, 44, 28, 39, 34,\n",
       "       10, 32, 41, 18, 22,  6,  2,  7, 39, 48, 15,  5, 17, 42, 20, 48, 22,\n",
       "       37, 13, 49, 33, 20, 10, 32, 25, 21, 39, 32, 19, 25, 49, 14, 13, 20,\n",
       "       43,  6, 13, 15, 24,  9,  2,  7,  5, 36, 37, 21, 40, 13, 27, 49, 49,\n",
       "       47, 13, 40, 14, 45, 23, 16, 28, 42, 45,  3,  2, 14, 46,  0, 29, 11,\n",
       "       35, 29, 33,  2, 20, 19, 48, 32, 28, 18, 31, 28, 30, 10,  8, 45, 35,\n",
       "       32,  8, 20, 13, 15, 41,  0, 44, 19, 24, 49, 42, 20, 44, 15, 30, 27,\n",
       "       14, 19, 26, 43, 22,  7, 35, 47, 46, 34, 36, 36, 32, 19,  3, 24, 19,\n",
       "       37, 30, 38, 47, 39,  5, 15, 49, 23, 32, 42, 10,  2, 24, 34, 30, 17,\n",
       "        4,  0, 14, 17, 39, 35, 17, 28, 22, 38, 41, 10, 13,  6, 25, 38, 48,\n",
       "       48, 44, 41,  0, 22, 16, 19,  9, 48, 28, 47, 10,  4, 23, 14, 21, 46,\n",
       "        3, 24, 16, 46, 15,  7, 14, 13, 15, 25, 20, 21, 46, 29, 44, 37, 22,\n",
       "       27, 12, 12, 26, 12,  7, 23, 39, 43, 12, 38, 27, 48,  5, 34, 33, 43,\n",
       "       26,  5,  9, 25, 27, 43,  1, 18, 30, 32, 26, 20, 30, 39,  0, 22, 34,\n",
       "        3,  6, 12, 39, 38, 19, 47, 48,  6, 13, 36, 23, 22,  2, 28, 42, 31,\n",
       "        9, 41, 24, 45, 29, 12, 18, 42, 11, 41, 36, 48, 16, 30, 42, 20, 35,\n",
       "       41, 17,  2, 21, 29, 36, 45, 46, 16, 27,  8, 28,  2, 35, 13, 41, 36,\n",
       "       36, 40, 18, 33, 38, 46, 40, 25, 39, 48, 37,  2, 34, 28, 14, 11, 42,\n",
       "       26, 40, 21, 16, 28, 37, 41, 45, 40, 42, 11, 22,  6, 32, 14, 36, 23,\n",
       "       11, 35, 32, 46, 27, 49, 38,  0, 22, 33,  6, 36, 18, 27, 28, 37, 38,\n",
       "       30, 46,  7, 21, 16, 39, 29, 11, 14, 40, 30,  8, 40, 48, 30, 23,  2,\n",
       "       28,  0, 39, 12, 17, 33, 10, 28, 41, 11,  5, 17,  5, 42, 22, 14, 23,\n",
       "       17, 10,  8, 48, 19, 12, 25, 13, 16,  4, 24, 27,  4,  3, 12,  2, 12,\n",
       "       32, 32, 15, 36, 10, 12, 18, 30,  5, 16, 31, 32, 43, 44, 31, 43, 35,\n",
       "       44, 24, 15, 21, 19, 13, 33,  4, 39,  3, 34, 34, 42, 14, 18, 38, 38,\n",
       "       48, 17,  5, 38, 27,  8, 40,  5,  5,  7, 14, 37, 41, 14, 33, 27, 13,\n",
       "       30, 43, 46,  9,  3,  3,  3, 33, 35, 16, 28, 37,  0, 37, 29, 18, 14,\n",
       "       39,  6, 28, 10, 32, 46, 29, 18, 36, 29, 39, 28, 29, 39, 26, 27, 42,\n",
       "       12, 17,  7, 27,  7, 19, 32, 12, 38, 32, 30, 22,  5, 27, 31, 41, 22,\n",
       "       12, 45, 22, 38, 18, 29, 29, 18, 31, 49, 34, 19, 29, 45, 43, 22, 15,\n",
       "        7, 48, 28, 19, 27, 43, 19, 15,  6, 24, 22, 11, 37,  1, 29, 15, 34,\n",
       "       22, 45, 42, 22, 45, 39, 18, 40, 44, 16, 17, 43, 24, 38,  0, 48, 33,\n",
       "       18,  7, 14, 36, 26, 32,  1, 48, 24, 22, 34, 30, 21,  4,  3, 48, 18,\n",
       "       33, 11, 11, 12,  4, 45,  0, 25, 40,  7,  7, 33,  7, 34,  4,  5, 39,\n",
       "       12, 45, 32, 21, 28,  7, 28, 47, 25, 41, 33,  1, 13, 38, 21, 27, 38,\n",
       "       20, 33,  1, 31, 49, 38, 28, 11, 35, 31,  2,  3, 32, 10, 32, 33,  5,\n",
       "        0, 37, 46,  8, 43, 44, 24, 16, 32, 32, 41, 24, 21, 27, 46, 35,  4,\n",
       "       32, 45, 24, 38, 42, 25, 32, 40, 33,  6,  1, 31,  7, 13,  3, 28, 15,\n",
       "       29,  2, 47, 19, 32, 18, 40, 34, 30, 32, 49, 46, 19, 41, 20, 40, 46,\n",
       "        4,  9,  0, 26, 21, 10, 21, 33, 38, 37, 43, 39, 33, 31, 41,  7,  5,\n",
       "        6, 23, 22, 42, 39, 31, 37, 38, 23, 28, 36,  2, 10, 20,  0, 16, 30,\n",
       "        3, 14, 44, 48,  5, 49, 10, 43, 46, 27, 33,  8,  4, 39, 32, 47, 33,\n",
       "        7, 33, 14, 13, 43, 21, 36, 12, 26, 18, 37, 35, 12, 41, 35, 25, 37,\n",
       "        1, 44, 41, 43,  0, 15, 28, 40,  6, 49, 32, 26, 20, 38,  1, 16, 25,\n",
       "       19, 30,  0, 42, 47, 21, 33,  1, 25, 38, 12, 48, 18, 13, 13, 24, 44,\n",
       "       26, 19, 39, 34, 15, 37, 38, 32, 36, 34, 46,  1, 32, 30, 37,  7, 48,\n",
       "       32, 43, 41,  5,  1, 33, 30, 18, 49, 17, 18, 31,  7, 21, 18, 46, 44,\n",
       "       27,  9,  4, 13, 23, 31, 37,  0, 18, 31,  1, 20, 14, 41,  4, 25, 19,\n",
       "       27, 28,  8, 45, 12, 46, 49, 11,  8, 10, 23, 24, 25, 18, 18,  5, 47,\n",
       "       42, 46, 21,  9, 42, 13, 18, 23, 45, 31, 33, 14, 47, 40, 49,  8,  1,\n",
       "       22,  2, 22,  1,  8,  7, 48, 23, 13, 48,  0, 42, 39,  3])"
      ]
     },
     "execution_count": 122,
     "metadata": {},
     "output_type": "execute_result"
    }
   ],
   "source": [
    "x"
   ]
  },
  {
   "cell_type": "code",
   "execution_count": 133,
   "metadata": {},
   "outputs": [
    {
     "data": {
      "text/plain": [
       "array([ 20.91943595,  50.63680457,  26.1899858 ,   4.2567297 ,\n",
       "         4.76682859,  -1.41868013,   0.13974066,  12.68595762,\n",
       "        -2.4644001 ,  23.67966704,  -5.26864647,  44.705657  ,\n",
       "         3.929594  ,  41.15251149,   6.15189145,  16.87380256,\n",
       "        12.12197948,  23.85785176,  19.98609381,  17.29294368,\n",
       "        13.81247183,  29.45979256,  29.23125049,  15.30400214,\n",
       "         7.32581754,   8.57716492,   8.37879784,  25.63585484,\n",
       "        49.04095427,  58.34967036,  32.56479127,  29.70811918,\n",
       "         1.18361352,  25.66966811,  49.05104488,  18.60306431,\n",
       "        11.34949454,  28.80212162,  19.68884019,   1.50705284,\n",
       "        11.31341917,  20.74937886,  31.50733465,  21.09738523,\n",
       "        32.61895129,  58.59052608,  11.11072572,  32.15714494,\n",
       "         2.25252158,  -0.26341235,  -1.10116519,  10.9632299 ,\n",
       "        50.14247927,  13.13755659,  -3.20034693,  19.75343555,\n",
       "        57.20068833,  27.88677104,   7.24892855,   6.40492564,\n",
       "        28.57645233,  42.85817494,  22.3029112 ,   9.07540778,\n",
       "         4.04032835,   6.88512671, -15.47256923,  21.55675046,\n",
       "        56.04958675,  37.04215956,  37.5531938 ,   4.32370447,\n",
       "        46.46708642,  19.36221921,  38.07179091,  11.40758669,\n",
       "        11.0455563 ,  10.93779528,  39.27923438,  38.84744647,\n",
       "        48.28236952,  26.9303542 ,  38.21258512,  11.84762341,\n",
       "        38.2801257 ,  14.94450393,  36.16416505,  30.34334363,\n",
       "        18.41797687,  12.584331  ,  21.4222491 ,  47.5760804 ,\n",
       "        33.75254731,  28.95569068,   4.7065843 ,  22.55516171,\n",
       "        12.65660989,  48.37358832,  15.90478736,  20.03514111,\n",
       "        21.96922439,  15.09364156,  48.79389354,  22.65268095,\n",
       "         0.51269463,  10.89666571,   3.94569341,  22.28426495,\n",
       "         7.19772802,   6.2552853 ,  15.89270735,  15.04182668,\n",
       "        41.66774095,  21.35585673,  21.15764996,  14.15679419,\n",
       "        30.3217737 ,  -2.96214143,   5.57872419,   2.25747518,\n",
       "        39.66031935,   8.03236858,  24.75979109,  21.4421056 ,\n",
       "        48.95352296,   3.52213055,  31.08380573,  10.71134802,\n",
       "        44.81382366,  31.91394396,  18.18264059,   1.39981219,\n",
       "        -0.72923809,  32.15331226,  10.93051776,  16.14013438,\n",
       "        15.83343431,  39.83151325,  31.40276183,   7.4167081 ,\n",
       "        30.74620246,  21.26582662,  -1.04725979,  33.90786616,\n",
       "        56.89090647,  33.47871113,  24.62174421,  31.74240503,\n",
       "        13.62025666,  37.47956801,  23.02469797,  28.76074581,\n",
       "        38.45773564,   2.69140814,  42.6475335 ,  52.25816867,\n",
       "        26.42583785,  11.1981508 ,   1.98045574, -12.54713663,\n",
       "        -7.6019604 ,  26.07470375,  49.61444428,   9.5753136 ,\n",
       "        13.31760063,  32.18088322,  31.62597674,  24.66158672,\n",
       "        48.48097028,  10.10545654,  35.23227823,  15.09932307,\n",
       "        25.0235671 ,  20.4628586 ,   7.50906345,   9.89996548,\n",
       "        19.51535842,  16.73914219,  24.93839297,  43.51793809,\n",
       "        51.15982462,   5.8656281 ,  25.31769231,  37.28363634,\n",
       "        21.61399977,   8.70126305,  31.20640125,  57.40730126,\n",
       "         5.16721427,   2.37506855,   5.20287313,  28.0813205 ,\n",
       "        18.26750029,  21.63625691, -17.95232117,  -5.86482196,\n",
       "        46.85140673,  40.07802622,  25.82542201,  55.26911221,\n",
       "         9.56049387,  13.61977316,  51.65257243,  40.58156646,\n",
       "        48.52443873,   9.71199448,  29.03756642,  29.20917946,\n",
       "        50.93896902,  15.50296183,  27.1059155 ,  21.99686048,\n",
       "        72.64294608,  30.55672405,   3.69085958,  -0.25849026,\n",
       "         1.86055952,  39.30509543, -19.95416915,  17.77500423,\n",
       "        14.98798415,  34.74872782,  41.55992741,  26.79249749,\n",
       "        11.74102848,  21.32091903,   6.29400398,  40.75794193,\n",
       "        32.76913068,  34.14620186,  18.26558296,  23.97923914,\n",
       "        28.68983082,  25.45542211,  14.6142891 ,  -3.25854979,\n",
       "        62.95368605,  30.85189846,  31.71484041,  23.34306113,\n",
       "         8.11331126,  13.97123014,   5.19897046,  37.42232749,\n",
       "        -1.78612917,  61.63002798,  28.91506188,  22.68685968,\n",
       "        24.34002757,  49.49185344,  17.07755687,  42.42191842,\n",
       "        11.14801104,  29.33507428,  27.3139522 ,  -4.6828594 ,\n",
       "        18.99194831,  46.60173766,  37.95334996,  25.92380822,\n",
       "         5.15779368,  27.38126503,  41.32316879,  51.46763519,\n",
       "        26.34554625,  45.77428972,  19.58243351,  18.00914492,\n",
       "        13.42667691,   5.06972476,  27.15872183,  10.96313527,\n",
       "        20.35261681,  20.9455478 ,  39.5798544 ,  47.18541003,\n",
       "        44.12145798,  13.58146136,  14.53259996,  41.27404758,\n",
       "        28.27639731,  30.17987672,  72.5878219 ,   1.94975349,\n",
       "         0.727773  ,  33.42305521,  30.46409258,  35.41014592,\n",
       "         7.90573687,  -7.98468148, -14.83443408,  16.52111942,\n",
       "         8.30281354,  43.17391777,  29.07191574,   3.31649665,\n",
       "        37.31138633,  47.81803115,  40.32791942,  22.92639812,\n",
       "        16.70120197,  -6.68454181,  -6.21423585,  36.84674177,\n",
       "        30.96838367,  59.07996128,  50.9643843 ,  48.59103141,\n",
       "        39.15716177,  15.85757081,  20.32585266,  15.35559948,\n",
       "        29.73656717,  21.21802908,  62.89182435,  24.13351525,\n",
       "        41.35952335,  10.44139836,   1.19911936,  19.66354991,\n",
       "         9.91631183,  19.50096672,  48.84110568,  27.76139629,\n",
       "        12.59677715,  35.80110685,  44.43993087,  26.80726211,\n",
       "        17.37247542,  19.01604168,  23.62410346,  12.71234731,\n",
       "        24.46161964,  11.62284151,  24.2503705 ,  41.53980269,\n",
       "        12.8934052 ,  43.16192359,  40.15579325,  22.75937007,\n",
       "        34.4009724 ,   9.11405092,  -3.14051197,  22.25162584,\n",
       "        13.64448912,  10.93521041,  31.21054239,  54.75803603,\n",
       "        33.92023011,  20.55735893,  50.26845657,  30.91852899,\n",
       "        51.70746187,  15.72791801,  17.64957981,  35.03237984,\n",
       "        50.04932099,  22.12393205,  -1.87645346,   7.76331963,\n",
       "        23.86945229,  28.51308685,  68.19682718,  -2.39044568,\n",
       "        40.82341136,  34.98581897,  27.53033163,  33.28410325,\n",
       "        21.73458325,  39.83384002,  36.21641066,  -3.92454083,\n",
       "         7.60703557,  39.30205761,   6.26073228,  17.00505717,\n",
       "        11.03973188,  41.8845673 ,  54.33748993,  34.78289152,\n",
       "        41.11163985,  49.54553831,  -7.76899755,  14.55311499,\n",
       "        41.90561703,  20.57126853,  32.83964843,   4.69678216,\n",
       "        39.85288498,  45.84609369,  27.42703032,  16.57418951,\n",
       "        44.70912963,  17.68057616,  34.55499392,  27.33074029,\n",
       "         7.33395286,  18.90341184,  47.94734704,   4.81507581,\n",
       "        24.26470845,  42.64393981,  48.12987957,  23.82532049,\n",
       "        52.63132445,  30.33097392,  11.07344956,  24.18689936,\n",
       "        27.64070007,  10.29058274,  18.94716878,  28.31613517,\n",
       "        36.39503841,  42.11264661,  42.50826117,  47.4931267 ,\n",
       "       -11.89292635,  17.60239255,   2.23945674,  47.38125316,\n",
       "        12.32527958,  46.61380187,  22.08324737,  56.09896833,\n",
       "        40.4418105 ,  30.05574063,  42.05545234,  19.4295274 ,\n",
       "        26.50166525,  32.64909615,  30.07087972,  30.33247793,\n",
       "        29.28102671,  50.89653783,  43.79050151,  52.13069041,\n",
       "        -9.85757603,  29.09693413,  31.74253917,  26.04791674,\n",
       "        10.07251255,  61.70200734,  24.43724598,  37.5706723 ,\n",
       "         6.99803786,  14.21622079,  18.87864623,  49.09578648,\n",
       "        38.57247812,  56.65271599,  43.79813691,  50.81879579,\n",
       "        -2.34513275,  25.6135347 ,  15.65514728,  32.7232592 ,\n",
       "        21.43828492,  32.08969527,  20.31959536,  17.43883465,\n",
       "        41.54620037,  35.00195039,  49.92687052,  23.5290403 ,\n",
       "        36.93334061,  50.95487009,   3.90118032,  11.95318677,\n",
       "        36.14776191,   9.40144814,  40.45115762,  19.25095939,\n",
       "        13.98190557,  31.87410579,  18.34163211,  29.92317882,\n",
       "        30.09018002,  48.36285809,  -2.01809983,  17.89417213,\n",
       "         4.48356584,  56.99690012,  25.79564981,   0.30750781,\n",
       "        37.54891857,  25.1554596 ,  29.30650942,  23.18257714,\n",
       "        24.26634478,  42.7109567 ,  25.35726209,  27.78566158,\n",
       "        -8.66802799,  41.68638332,   0.59323223,  38.52407963,\n",
       "        -5.15260555,  24.4999135 ,  29.405792  ,   5.70250015,\n",
       "        25.22873337,  59.81395641,  10.83383577,  18.02431114,\n",
       "         3.29067231,  -3.34003677,  40.15350338,  28.93989172,\n",
       "        -2.85280042,  22.51141761,  14.29349315,  18.92535014,\n",
       "        18.56177673,  38.1745397 ,  16.93606515,  10.32893667,\n",
       "        30.0275312 ,  19.93985078,   1.3061092 ,   9.17330011,\n",
       "        38.87931566,  40.25451864,  -0.95890379,   1.02301626,\n",
       "        10.91746187,  12.28756025,   4.20894675,  40.35331713,\n",
       "        17.13543865,  34.07778157,  26.56559785,   7.02022547,\n",
       "         9.87010202,  16.70515864,  40.64672796,  -3.68379113,\n",
       "        31.61339336,  41.41572015,  16.25960544,  43.18605313,\n",
       "        39.61207774,  26.47158188,  40.54704928,  41.6492764 ,\n",
       "        46.459613  ,  38.83694092,  14.30628216,  34.48989608,\n",
       "        32.59599169,  17.25733631,  33.86365162,  -5.32950277,\n",
       "        51.76504793, -13.40092772,  32.89097524,  38.74750262,\n",
       "        54.98854301,   9.2169722 ,   6.05721388,  54.32779618,\n",
       "        29.60746604,  64.51914832,  15.50657138,  -6.01043391,\n",
       "        26.76266231,  20.40255242,  10.15619522,  44.84104884,\n",
       "        19.76128904,  10.9139653 ,  25.4905348 ,  17.87002188,\n",
       "        31.77701014,  33.66680466,  21.22626782,  21.13836484,\n",
       "        17.29294181,  13.06940061,  37.78650877,  20.22189642,\n",
       "        52.81689929, -10.60867151, -19.95510193,  10.7157366 ,\n",
       "        13.71223683,  44.77982242,  41.01833932,  34.33193742,\n",
       "        40.54896678,  21.25502896,   1.46212832,  43.57562221,\n",
       "        28.54865602,  21.66922761,  15.09672329,  54.88111447,\n",
       "        21.55835775,  30.02241571,  10.71135174,  25.5191429 ,\n",
       "        51.60927145,  40.28710849,  22.00257075,  33.86911258,\n",
       "        34.31238803,  53.11475151,  32.78171642,  37.82465922,\n",
       "        17.35578865,  24.24327264,  14.16656309,  34.37003021,\n",
       "        14.43976214,  21.4441357 ,   6.6383449 ,  22.54425836,\n",
       "         9.83763286,  23.02791293,  42.69069374,   5.86208932,\n",
       "        26.05893092,  21.10039275,  36.30690925,  22.3287223 ,\n",
       "         5.46660577,  37.0396941 ,  45.41810184,  32.2779615 ,\n",
       "        44.39599209,   2.55810117,  38.55610265,  19.40170021,\n",
       "        39.14942662,   4.51200739,  42.24609789,  25.34779907,\n",
       "        14.48869156,  29.51962213,  39.50481713,  20.40598952,\n",
       "        18.6856869 ,  35.18665246,  45.24434233,  24.96931185,\n",
       "        13.86572717,  17.99961284,  12.94811673,  52.36141301,\n",
       "        18.05416906,  -1.91253126,  24.93270979,  39.99610683,\n",
       "        22.06698288,  23.82307473,  -0.12333278,  12.55970283,\n",
       "        20.02947195,  -1.04164204,  43.16723568,  -8.77588591,\n",
       "        39.25138109,  17.02661252,  40.75735452,   8.68601686,\n",
       "        45.1849696 ,  36.68368867,  21.94289646,  42.1471925 ,\n",
       "        25.1819223 ,  27.42086944,  46.13559754,  28.39138232,\n",
       "        30.96259727,   8.17374229,  65.98821495,  23.33110177,\n",
       "        24.62125442,  -9.21034972,  46.53090753,  35.95747531,\n",
       "        21.90854066, -10.12666248,  11.58242892,  22.85923612,\n",
       "        31.46987921,  31.92718887,  -1.38867808,  70.07434242,\n",
       "        38.4586713 ,  33.81872538,  27.28623202,  28.99196339,\n",
       "       -10.82128889,  -2.64188136,  -3.14619457,  55.74773261,\n",
       "         4.01739419,  27.15733621,  15.31575246,   6.6691604 ,\n",
       "         8.65216491,  10.17243024,  32.80253104, -24.94632289,\n",
       "        14.54713159,  43.96918978, -12.12778493,  12.51990236,\n",
       "        27.99739234,  10.95732553,  25.83021741,  -6.035666  ,\n",
       "        -2.42863403,  42.5951528 ,  12.28310445,  42.58114947,\n",
       "        31.51861143,  20.83553112,  33.57594899,  12.48254584,\n",
       "        31.82443343,  55.30702338,  46.60342779,  23.75095388,\n",
       "        52.5521064 ,   1.62440903,  15.20707659,  57.87283161,\n",
       "        21.22802522,  39.95968318,  32.47988777,  28.22010243,\n",
       "        24.28019934,   9.78264563,  36.50105769,  49.98158875,\n",
       "        24.88663321,  33.67049642,  14.86320813,  50.03187955,\n",
       "        23.6271378 ,   5.12423589,   5.16630625,  24.80240939,\n",
       "         1.98192913,  30.24643108,  47.70278693,  -6.0123782 ,\n",
       "        -6.3093154 ,  52.49075946,  37.32526582,  17.97324825,\n",
       "        52.13946326,  27.98314202,  33.65251106,  18.41776434,\n",
       "        40.35502952,  24.29749231,  62.17230217,  20.77631585,\n",
       "        17.44750736,  30.85648176,  42.29109812,  44.73911114,\n",
       "        -9.67856792,  50.18468138,  49.66802814,  13.69909529,\n",
       "        37.88390549,  41.71465698,  34.77458828,  15.94091806,\n",
       "        49.71963537,  37.23639744,   8.11493837,   6.63579802,\n",
       "        12.51571672,  21.26663977,   9.8587708 ,   9.56689966,\n",
       "        47.09275297,  20.0849082 ,  22.64117621,  -3.0434188 ,\n",
       "        61.66212215,  19.42610384,  24.89995429,  21.5854485 ,\n",
       "        39.52627499,  43.369142  ,  30.77221787,  38.45532079,\n",
       "        53.48474991,  53.71470417,  15.92348494,  48.1115537 ,\n",
       "        41.39726712,  43.98378194,  31.83468698,   8.97383651,\n",
       "        -6.42591018,  -4.481535  ,  27.6290771 ,  17.699406  ,\n",
       "        21.02915345,   6.06257431,  40.93772908,  25.28606243,\n",
       "        22.58359485,  33.94647453,  26.03292657,  38.1567264 ,\n",
       "        23.18655525,  47.80548571,   1.84085944,  11.55364436,\n",
       "        20.18543083,  31.85973611,  15.44832613,  56.47134376,\n",
       "        42.44392834,  33.22075036,  28.76694273,  39.75720483,\n",
       "        21.76655623,  26.91941742,  40.84678768,  -1.30446453,\n",
       "        10.75565225,  23.39412615,  -1.27587682,  19.03291847,\n",
       "        35.54721312,   8.33905562,  12.70203884,  55.2731805 ,\n",
       "        46.92623674,   6.90994105,  50.70791981,  16.22901568,\n",
       "        47.86443976,  62.70844973,   9.9178488 ,  32.46252778,\n",
       "        -3.58396766,  -4.00672713,  45.47730423,  25.9318492 ,\n",
       "        38.46876719,  33.04902077,   8.84213388,  48.16362478,\n",
       "        15.09991432,  30.10480079,  44.65731609,  20.65897722,\n",
       "        34.31545798,  18.65369203,  31.33800699,   5.21460994,\n",
       "        41.80054491,  29.90149576,   3.43598959,  30.92650563,\n",
       "        46.18823649,  26.09097921,  19.54737297,  -4.64013642,\n",
       "        61.08064657,  38.44339182,  56.52368291,   8.53560734,\n",
       "        15.93923149,  35.71040495,  24.17903151,  21.60846588,\n",
       "        34.45649292,  41.33905879,  22.78028455,   9.24567185,\n",
       "        42.03663081,  22.56351921,   4.64281971,  19.47730882,\n",
       "        28.38466309,  43.00357176,  17.25977077,  37.56717476,\n",
       "        51.31106081,  30.42329466,  20.45435635, -17.21984157,\n",
       "        32.41725029,  37.69590222,  11.31784091,  59.23512158,\n",
       "        28.40126368,  14.51053661,  14.46384522,  28.72504039,\n",
       "        36.41979093,  38.69644345,  29.80301195,  40.52970262,\n",
       "        37.48822277,  18.95715345,  38.05977104,  27.12908174,\n",
       "        34.03789715,  39.01572665,  37.51121492,  45.4174421 ,\n",
       "        -6.94564492,  20.09861936,  16.58467539,  30.90119823,\n",
       "        17.37339764,  39.10551719,  29.01598054,  60.5042726 ,\n",
       "        52.38895214, -13.11729236,  25.15966247,  49.100733  ,\n",
       "        15.51394958,  34.03046457,  41.53610205,  25.15154732,\n",
       "        21.18897806,  32.07888955,   8.0896471 ,  11.26988273,\n",
       "         4.62497462,  52.60371898,  46.17521758,  34.35983861,\n",
       "        16.40747821,  -3.35738212,  14.32195671,  13.55682111,\n",
       "        32.71375384,  28.42861593,   7.67262734,   5.31964931,\n",
       "        33.03388491,  19.14992878,  30.64306339,  19.35123927,\n",
       "        45.67619953,  16.01508025,   2.88291685,   7.25126798,\n",
       "        30.80682719,  35.02994753,  10.71107654,  32.00536475,\n",
       "        15.31856417,  49.58092987,  43.40923316,  10.99203369,\n",
       "         6.73895143,   5.49147151,  10.80786215,  28.78910491,\n",
       "        47.35231754,  25.51556662,  16.05553914, -10.5257887 ,\n",
       "        62.83156827,  41.46658241,  40.67185219,  43.04834727,\n",
       "         3.46289578,  61.82683905,  34.03672475,  21.41107618,\n",
       "        28.22078313,  39.22179356,  33.60242002,  33.55731936,\n",
       "        12.16106893,  31.86614845,  42.23383128,  57.71307628,\n",
       "         1.91750125,  16.92027118,  25.47534971,   3.43601203,\n",
       "        27.58690521,  -4.44964649,   4.51655121,   4.40723214,\n",
       "        46.66748294,  23.85090858,  24.77994561,  45.97999305,\n",
       "        -9.29398564,  65.39829384,  66.15589166,   7.6492888 ])"
      ]
     },
     "execution_count": 133,
     "metadata": {},
     "output_type": "execute_result"
    }
   ],
   "source": [
    "y"
   ]
  },
  {
   "cell_type": "code",
   "execution_count": 134,
   "metadata": {},
   "outputs": [
    {
     "data": {
      "text/plain": [
       "array([-1.34723141e+01, -2.62379469e+00,  8.31985649e-01, -6.34532837e+00,\n",
       "       -4.02482752e+00,  9.93406119e+00, -1.32637381e+00, -7.58387175e+00,\n",
       "       -1.38452940e+01,  1.89328971e+01,  3.96551937e+00,  7.19064679e+00,\n",
       "        1.96788592e+01, -3.19917646e+00,  5.45312638e+00,  5.57976567e+00,\n",
       "       -8.71388984e+00, -7.16928262e+00,  1.13955138e+01, -2.32232342e+00,\n",
       "        7.21539603e+00, -8.22264565e-01,  1.23992496e+01, -1.52997124e+01,\n",
       "       -4.85384518e-01, -6.05352687e+00,  3.98876886e+00, -2.04818825e+01,\n",
       "       -6.49715880e+00, -3.70239482e+00,  1.22970103e+01,  1.14107534e+01,\n",
       "        5.15242902e+00,  4.70858978e+00, -1.15689618e+01,  5.74570602e+00,\n",
       "       -5.35005334e+00, -1.56608842e+01, -1.45751055e+01,  2.70022471e+01,\n",
       "        1.22979886e+01, -1.17754544e+00,  2.09890517e+00,  2.45240740e+00,\n",
       "        1.89417218e+00,  1.00779244e+01,  9.90295509e-01,  4.31306687e+00,\n",
       "       -1.62150328e+01,  9.32758676e+00, -3.41829720e+00,  1.38250518e+00,\n",
       "       -1.03484311e+01,  4.94687728e+00, -3.55604992e+00, -1.23964072e+00,\n",
       "       -1.19859983e+01,  3.13949164e-01,  6.87683278e+00,  3.56758686e-01,\n",
       "       -2.94769114e+00,  9.98691900e+00,  9.59768007e+00, -7.92561618e+00,\n",
       "       -7.96791659e+00, -8.41363496e+00,  2.06402430e+01, -1.74048248e+01,\n",
       "        8.21177696e+00,  6.55612336e+00, -1.31707640e+01, -2.18872500e+00,\n",
       "        1.06334121e+00,  6.17092582e+00,  2.75861201e+00,  9.53850425e+00,\n",
       "       -8.43894250e+00, -1.02797356e+01,  5.51204362e+00,  3.92726981e-01,\n",
       "        4.25331237e-01, -1.35571578e+01,  1.18976250e+01, -6.89052991e+00,\n",
       "       -3.31833850e+00,  1.33220086e+01, -6.38569973e+00, -8.45495995e+00,\n",
       "        9.83785777e+00,  2.60497002e+00,  1.12677539e+01,  8.52987213e+00,\n",
       "       -4.83785114e-01,  2.78441820e+00,  1.98019582e+01,  3.48978392e+00,\n",
       "       -1.90377593e+01,  1.22015395e+00, -3.12573197e+00, -5.73522132e+00,\n",
       "        6.55570730e+00,  1.25194397e+01,  8.06043836e-01,  1.41868113e+01,\n",
       "        6.22346134e+00, -1.30293846e+01, -1.71385179e+00,  8.68072483e+00,\n",
       "        1.58155958e+01, -4.84260027e+00, -5.17862071e+00, -9.54139252e+00,\n",
       "       -2.96737791e-01, -1.65708600e+01,  2.96529620e+00,  2.71806166e+00,\n",
       "       -1.44232907e+01,  5.31964352e+00,  5.89391081e+00, -7.59184948e+00,\n",
       "        2.36302916e+00, -1.57244071e+01, -8.13205809e+00,  7.45964733e+00,\n",
       "        9.56450125e-01, -9.59150574e-01, -2.17064131e+00, -3.10540342e+00,\n",
       "        2.41199027e-01, -6.39037529e-01, -4.64174085e+00, -1.44125593e+01,\n",
       "       -3.35966877e+00, -9.86970043e+00, -9.11278363e+00, -2.54700867e+01,\n",
       "       -9.02999065e+00, -1.75393133e+00, -4.97966354e+00,  3.74140153e+00,\n",
       "       -1.62486398e+01, -5.39433858e+00,  1.04882930e+01, -1.21046146e+01,\n",
       "       -1.37856075e+01,  7.91192472e-01, -2.07701338e+01, -3.99529655e+00,\n",
       "       -9.88325940e+00,  7.37883700e+00,  9.20064555e-01,  1.21012357e+01,\n",
       "       -1.68284584e+01,  4.23299080e-02, -1.21536107e+00, -1.35351844e+01,\n",
       "        8.88503060e+00, -6.39946580e+00, -1.23697113e+01,  9.21274638e+00,\n",
       "       -7.55139619e+00, -1.74845576e+01,  1.54172694e+01,  7.22485690e+00,\n",
       "        4.25757000e+00,  8.39941930e+00, -6.99654667e+00,  1.02139542e+01,\n",
       "        7.01178619e+00, -3.58775679e+00,  3.22851556e+00, -9.04543606e+00,\n",
       "        8.00765664e+00, -5.44009274e+00,  1.35839526e+01, -7.88592305e+00,\n",
       "       -8.37847994e-01, -1.38894918e+01, -4.28412093e+00,  1.26260898e+01,\n",
       "        4.42637613e+00, -1.00548949e+01, -8.28261171e+00,  9.54562778e+00,\n",
       "        9.19952960e+00, -1.11736600e+00,  3.90068099e+00,  7.00330142e+00,\n",
       "        1.23873245e+01,  3.54782019e+00,  1.22652601e+01, -2.05265375e+01,\n",
       "       -4.00164605e+00,  2.26912918e+00, -1.55034850e+01, -7.05216155e+00,\n",
       "       -7.23873962e-01, -2.73918947e+01, -5.01944795e-01,  2.13394724e+01,\n",
       "        1.25327144e+01,  1.83138777e+01, -5.94985914e+00, -1.01092969e+01,\n",
       "        2.99962226e+00, -1.07327246e+01,  2.04918544e-02,  2.44996882e+01,\n",
       "        1.12727567e+01, -1.31772961e+01, -3.98746440e+00,  1.65820645e+01,\n",
       "       -9.21221174e+00,  5.78669866e+00, -1.66707693e+00, -5.98193441e+00,\n",
       "       -6.24506839e+00,  3.08174274e+00, -2.08636445e+00, -1.37814803e+01,\n",
       "        1.37939304e+01,  6.68117345e+00,  2.71559109e+00, -8.50400757e+00,\n",
       "        1.57881930e+01, -1.04554645e+01,  1.35015629e+00, -1.43358545e+01,\n",
       "       -1.35320963e+01, -5.59145334e-01,  5.71778026e+00,  2.16273594e+01,\n",
       "       -5.26970733e+00,  1.35358779e+01,  8.97029648e-02,  2.88571699e+00,\n",
       "        1.65751480e+01, -1.40715917e+00, -1.91064958e+01,  1.00979516e+01,\n",
       "       -1.37709050e+01, -4.76446836e-01, -3.74200290e+00, -8.47188870e-01,\n",
       "       -1.74531930e+01, -2.89983359e+00, -4.83865478e+00,  2.74614764e-01,\n",
       "       -1.77944636e+01,  4.73540792e+00,  1.60121062e+01,  5.33054001e+00,\n",
       "        1.93127869e+01, -7.06217992e+00, -1.30038874e-01, -1.50977964e+01,\n",
       "        5.64887238e+00,  8.37667504e+00, -5.12644501e+00,  1.76948722e+01,\n",
       "        2.32109812e+00,  1.40483426e+00,  1.22967321e+01, -2.57882850e+01,\n",
       "       -1.62591523e+00, -6.45984809e+00,  9.59926599e+00, -7.95888895e-01,\n",
       "        3.21187396e+00, -5.41166992e+00,  2.22449011e+01,  9.49450941e+00,\n",
       "        8.24905325e+00,  3.76870149e+00,  1.94191146e+01,  2.11306175e+01,\n",
       "       -1.52471068e+01,  8.91971986e+00,  1.06706050e+01, -1.89759216e+01,\n",
       "       -5.40526054e+00,  5.60113052e+00,  1.17343338e+01, -8.33146667e+00,\n",
       "       -3.85621422e+00, -1.35601330e+00, -3.83014084e+00, -4.29941286e+00,\n",
       "        2.28564703e+01, -8.26746879e-01,  1.06909752e+01, -8.13654928e+00,\n",
       "       -8.50555945e+00, -1.40810169e+01, -6.87916240e+00, -1.65204473e+01,\n",
       "       -6.70839828e+00, -1.05726673e+01,  8.17162957e+00,  7.69265537e-02,\n",
       "       -2.82153239e+00,  1.64216464e+01,  6.73597871e+00,  1.33970368e+01,\n",
       "        2.11500227e+00, -1.91627200e+01, -1.00375575e+01,  1.09462968e+01,\n",
       "       -9.53221344e+00,  3.25356120e+00,  1.68535899e+00,  1.61342850e+01,\n",
       "        5.86859948e+00,  4.15450998e+00,  1.52416979e+00,  4.41400411e+00,\n",
       "        4.41018024e+00,  6.44031108e+00,  6.83120046e+00,  4.32389552e+00,\n",
       "       -7.60118670e+00, -1.90495736e+00,  1.50209712e+00,  1.27159512e+01,\n",
       "        1.28839906e+01,  1.66712765e+00,  1.78435612e+01,  1.10126538e+01,\n",
       "       -1.42128882e+01, -7.97051912e+00,  1.01740444e+01,  2.48101582e-01,\n",
       "        1.89876374e+01,  7.59855967e+00,  4.42407651e+00, -5.49293152e-01,\n",
       "       -7.75595463e+00,  1.29636505e+01,  5.72043420e+00,  2.06085902e+01,\n",
       "       -3.44778103e+00,  5.88648842e+00, -5.74715958e-01, -7.29606348e-01,\n",
       "        1.03783317e+01, -3.31094262e+00,  7.77083742e+00, -1.40926225e+01,\n",
       "       -1.29576601e+01,  1.74104663e+01, -7.88629393e+00, -1.58650765e+01,\n",
       "        1.51244093e+01, -1.13487113e+01,  1.02254451e+00, -8.47851876e+00,\n",
       "       -1.66319644e+01,  1.41263076e+01,  4.48491477e+00, -8.04712967e+00,\n",
       "       -2.80036284e+00,  6.24774873e+00, -7.71859560e+00,  9.67965517e+00,\n",
       "        4.17735226e-02,  9.44064548e-02,  6.33193260e+00,  1.83776754e+00,\n",
       "        3.31588277e+00, -1.80783735e+00,  1.09911411e+01,  7.21298858e+00,\n",
       "        1.20743932e+01,  2.59041958e+00, -7.99646890e+00,  4.48668162e+00,\n",
       "       -1.49350093e+01,  7.61106834e+00,  2.01683641e+01, -1.83587953e+01,\n",
       "        8.65838284e+00,  1.57117798e+00, -6.91670817e+00, -2.01136021e+01,\n",
       "        2.45423821e+00,  1.12199494e+01, -1.28974561e+01,  8.96097780e+00,\n",
       "        2.36547302e+01, -2.45024498e+00, -5.88456238e-01, -1.00932374e+01,\n",
       "        6.33485217e-01, -2.38907048e+00, -2.46820110e+00, -3.98832782e+00,\n",
       "       -9.73374988e+00, -1.86243908e+00,  3.03594536e-01,  1.31982090e+00,\n",
       "       -2.90916669e+00, -7.47434320e-01, -9.45185667e+00, -2.19476858e+01,\n",
       "       -1.61763089e+00,  3.14770749e+00,  1.56725294e+01,  1.08914481e+01,\n",
       "        2.50229448e-01, -1.36347484e+01, -1.66659827e+00,  1.18358171e+00,\n",
       "       -3.32975303e+00,  7.44970471e-01,  7.99012758e+00, -3.49098591e-01,\n",
       "       -7.26564502e+00, -1.61468053e+00,  6.06466353e-01,  1.13562455e+01,\n",
       "        1.40202769e+00, -5.48248803e-01, -2.48991008e-01,  4.54716109e-01,\n",
       "        3.92519827e+00, -1.31831433e+01, -4.52048414e+00,  9.48284216e+00,\n",
       "       -1.16346712e+01,  2.97724060e+00,  6.07491096e+00, -7.09937181e+00,\n",
       "       -4.61231572e+00, -6.89408334e+00, -1.18871200e+01, -1.40951151e+01,\n",
       "        1.34514898e+01, -1.37750986e+01, -8.26498551e+00,  3.12728663e+00,\n",
       "        6.69799184e+00, -7.96405076e+00, -4.05492307e+00, -2.52208775e+01,\n",
       "       -1.85440435e+00, -2.68389766e+00, -1.97168384e+00,  1.36987834e+01,\n",
       "       -1.03749880e+01,  4.88204468e+00,  7.93349036e-01, -1.26823443e+01,\n",
       "       -2.61974732e+00,  1.67754733e+01,  3.69943190e+00,  8.52406736e+00,\n",
       "       -8.14829736e+00, -7.71220557e+00,  1.34247752e+01, -6.58919999e+00,\n",
       "       -5.68372701e+00, -1.54459943e+01,  9.22322212e+00,  2.19666480e+01,\n",
       "       -8.38935739e+00, -2.33055815e+00, -4.90611451e+00,  2.52825010e+00,\n",
       "       -1.21427064e+00,  1.86451366e+01, -8.33291757e+00,  1.58025470e+01,\n",
       "        6.06621554e+00,  6.30086288e+00, -4.66844142e+00, -8.82711057e+00,\n",
       "       -1.23373703e+01, -1.41709604e+01, -5.47752061e+00,  7.96514092e-01,\n",
       "       -1.10069262e+01,  5.90134821e+00, -1.29832869e+01, -2.20861184e+01,\n",
       "       -1.19830682e+01, -1.55305196e+01,  2.17871045e+01,  1.16487905e+01,\n",
       "       -4.12594289e+00, -5.43617375e+00,  8.21194196e+00, -5.30385895e+00,\n",
       "        1.77350039e+00, -1.17888790e+01, -1.90080811e+01,  8.27184856e+00,\n",
       "        3.55798605e+00, -1.15767381e+00,  2.00568758e+01,  7.00520234e+00,\n",
       "        2.20880683e+01, -1.39470144e+00, -1.05164024e+01,  3.11943714e+00,\n",
       "       -4.83525906e+00, -2.02032634e+01, -3.32447110e+00, -9.03619487e+00,\n",
       "        5.57129215e+00, -4.35853536e+00, -1.17234029e+01, -6.80230812e+00,\n",
       "        1.68898107e+01, -8.47134512e+00,  1.06435556e+01,  8.19846406e+00,\n",
       "        9.17046256e+00,  2.84774608e+00,  5.25351203e+00, -8.54817770e+00,\n",
       "        2.89505183e+00, -1.58899725e+01,  1.30299908e+01, -1.06542877e+01,\n",
       "        7.69605411e-01, -7.73825936e+00,  8.51974143e-01,  1.02500426e+01,\n",
       "       -6.19300606e+00,  5.60001822e+00, -2.69507289e+00,  3.13080252e+00,\n",
       "       -1.10207948e+00, -6.25005269e+00,  4.59434278e+00,  5.37807620e-01,\n",
       "       -2.54501077e+00, -4.59563928e+00, -2.38471022e+00, -8.59530928e+00,\n",
       "        1.16742306e+00, -1.85193125e+01,  5.83511430e+00, -2.06768256e+00,\n",
       "        4.32167330e+00,  3.47097005e+00,  2.10026118e+00, -1.03655661e+01,\n",
       "        4.21021511e+00, -3.26100243e+00, -1.33081539e+01, -1.68472813e+01,\n",
       "       -4.97085465e+00, -2.74153292e+00, -3.53655561e+00, -7.40643927e+00,\n",
       "       -8.48914212e+00,  8.68113887e+00, -1.29966610e+00, -1.19044368e+01,\n",
       "        8.17510419e+00,  9.14283922e+00, -3.07869097e+00, -2.17848312e+01,\n",
       "        4.13878854e+00,  3.84123430e+00, -1.43791212e+00, -1.76586088e+01,\n",
       "        4.08725028e+00, -3.62632802e+00,  3.38286159e+01,  4.20688954e+00,\n",
       "        1.04653677e+00, -1.84830602e+01, -1.31046506e+01, -9.17341538e+00,\n",
       "        4.54638833e-01, -8.64241256e+00,  2.58620982e+01, -7.47613631e-01,\n",
       "       -7.72583476e+00, -4.60545918e+00,  3.97298312e+00, -6.29438231e+00,\n",
       "       -7.74404166e+00,  5.66268882e+00,  1.72061800e+01, -1.57980380e+01,\n",
       "        2.96149417e+00, -3.88873888e+00,  1.45317592e+01,  1.51334161e+01,\n",
       "        1.08308277e+01,  1.85442767e+00,  1.81563258e+01, -9.55498140e+00,\n",
       "        2.18995751e+00,  5.67346516e+00,  9.15347882e+00, -1.50276079e+01,\n",
       "       -1.34525709e+01, -1.12599977e+01, -1.10366345e+01,  3.58073637e+00,\n",
       "        6.76950385e+00, -2.01445060e-01, -1.19904088e+01, -4.47507491e+00,\n",
       "        1.22588220e+01, -1.12053093e+00,  3.18146746e+00,  3.32573348e+00,\n",
       "        1.47433915e+01, -5.03797465e-01,  3.49244918e+00, -8.12391710e+00,\n",
       "       -1.40066551e+01, -5.46115859e-01, -1.31847639e+00,  1.56733123e+00,\n",
       "        1.32662451e+01,  7.65989799e+00,  2.01065944e+01,  9.78052599e+00,\n",
       "       -3.58387919e+00, -7.11377657e+00, -1.75448279e+01,  1.45952860e+01,\n",
       "        9.11752849e+00,  4.24709004e+00,  5.70948592e+00, -1.50523406e+00,\n",
       "        1.26910546e+01,  5.13522354e+00,  2.95507583e+01,  1.40192453e+01,\n",
       "       -8.13917907e+00, -3.78605103e+00, -1.29005222e+01, -5.25836607e+00,\n",
       "        1.80815683e+00, -1.53800790e+00,  4.75485993e+00,  2.31411609e+00,\n",
       "        7.19252587e-01,  1.81768120e+00, -2.83011936e+00, -1.93960889e+01,\n",
       "       -1.67540577e+01,  1.31841736e+01,  3.77870806e+00,  6.25663820e+00,\n",
       "       -1.31756506e+00,  4.01937450e+00, -3.48466246e-01,  7.28921528e+00,\n",
       "        1.32057444e+01,  7.94210265e+00, -4.15485775e+00,  1.23891211e+01,\n",
       "        1.31145455e+01, -2.15163652e+00,  2.33326369e+00,  1.15145567e+00,\n",
       "        7.50400465e+00, -9.45288014e+00,  6.07909630e+00,  1.45752080e+01,\n",
       "       -3.50862940e+00,  5.33771828e+00, -7.10422948e-01, -2.13018126e+01,\n",
       "        4.68720901e+00, -1.90806354e+01, -1.06426836e+01,  6.94501640e+00,\n",
       "        2.33944607e+00, -6.95812026e-02, -1.49940744e+00, -5.67439179e-01,\n",
       "        1.40494350e-01,  1.34832304e+01,  6.99475306e+00, -1.55588180e+00,\n",
       "       -7.31038192e+00, -1.69163649e+00, -7.35202227e+00, -1.25053959e+01,\n",
       "       -7.27765247e+00,  5.78811319e+00,  1.03236538e+01, -1.90921058e+00,\n",
       "       -9.50413578e+00,  8.08551877e-01,  7.44341762e+00,  1.12310946e+01,\n",
       "        8.95690752e+00, -1.07868549e+01,  3.91178077e+00,  8.22177200e+00,\n",
       "       -6.17495914e+00, -8.43262213e+00,  6.40906481e+00,  4.25183788e+00,\n",
       "       -1.33625862e+01,  3.48451547e+00, -1.05905907e+01, -2.48314536e+00,\n",
       "        1.16025569e+00,  1.83073594e+00, -2.99632833e+01,  6.59214391e+00,\n",
       "       -2.90913230e+00, -6.45213235e+00,  2.81872889e+00, -3.78742167e+00,\n",
       "       -1.51941803e+01,  2.50060349e+00, -7.34744212e+00, -8.45738077e+00,\n",
       "       -9.13743811e+00, -1.55520321e+01,  1.03982747e+01, -1.17241587e+01,\n",
       "       -6.45762016e-01, -1.74665395e+00, -6.19500062e+00,  7.23618053e+00,\n",
       "       -6.79094467e+00, -5.85719015e+00, -3.10373615e+00,  4.52869418e+00,\n",
       "       -8.05507529e+00,  8.70333552e+00, -4.42025951e+00,  2.43253342e+00,\n",
       "        3.70213461e+00, -1.43092091e+00,  6.90649838e+00,  1.51600224e+00,\n",
       "        3.95879742e-01, -1.11417520e+01, -9.30327955e+00,  5.21618329e+00,\n",
       "       -1.31029724e+01,  9.27802675e+00,  2.70430004e-01, -1.75727705e+00,\n",
       "       -8.36615372e+00, -4.61435935e+00,  5.49262632e+00,  3.19437443e+00,\n",
       "       -2.81084555e+00,  3.19339780e+00, -9.06772185e+00,  2.21604964e+00,\n",
       "        2.89972739e+00, -1.23003218e+01, -8.41243507e+00, -1.04548304e+01,\n",
       "       -4.34442249e+00, -4.60480615e+00,  8.37195053e+00, -3.10144961e+01,\n",
       "        1.47846704e+00,  3.44380386e-02,  3.67869935e+00, -5.31914830e+00,\n",
       "        3.89335415e+00,  1.34738930e+01,  9.65726544e+00, -9.14649009e-01,\n",
       "        1.76936689e+01,  1.78650065e+01, -3.83545218e+00,  1.11246831e+01,\n",
       "        1.66865158e+00, -8.35393697e+00, -5.68621001e-01, -1.95495177e+00,\n",
       "        3.84726405e+00, -4.47396276e+00, -5.78227425e-02, -1.54348320e+01,\n",
       "        5.04496994e+00,  9.87215820e+00,  1.72583093e+01,  1.06673483e+01,\n",
       "       -8.64624290e+00,  1.17935406e+01,  1.41299999e+01, -1.54633830e+01,\n",
       "       -1.11414292e+01,  5.89376209e+00, -4.16324254e+00,  1.13307447e+01,\n",
       "        3.39742741e+00,  9.59650748e-01, -1.96559800e+01,  9.02577964e+00,\n",
       "        3.61136838e-01,  2.39607696e+01,  1.69235172e+01, -3.46992225e+00,\n",
       "       -3.93184441e-01,  8.05220368e+00,  1.41538291e+00, -8.36729714e+00,\n",
       "       -6.88829177e+00,  8.73466714e+00, -6.52854196e-01,  1.53410025e+01,\n",
       "       -1.15482529e+01, -1.13054306e+01,  4.36697679e-01, -5.81388583e+00,\n",
       "        7.33270083e-01, -9.81107834e+00,  1.27820791e+01,  1.05108467e+01,\n",
       "       -1.00503439e+00, -4.06122013e-01, -1.42269921e+01, -4.43689495e+00,\n",
       "       -1.26156598e+00,  5.23946665e+00,  4.88413657e+00, -1.81458019e+01,\n",
       "        3.74647157e+00,  4.47055822e+00, -6.66058599e+00,  1.81254264e+01,\n",
       "       -1.02401378e+01,  6.86705878e+00,  9.35530490e+00, -7.27546818e+00,\n",
       "       -1.40168782e+01, -3.31124388e+00,  1.36897262e+01,  9.23743401e+00,\n",
       "       -2.17881828e+00,  7.99314123e+00,  5.41792630e+00,  3.90676701e-01,\n",
       "       -7.66364888e+00,  1.13796995e+01,  7.44652920e-01, -8.56091452e+00,\n",
       "       -5.68404358e+00,  1.33915199e+01,  1.53272328e+01,  4.27443367e+00,\n",
       "        1.51766661e+00,  5.95660149e+00, -6.94329334e+00, -3.28720508e+00,\n",
       "       -2.17141897e+00, -5.13118840e+00,  1.27424258e+01,  1.05019683e+01,\n",
       "        4.54612736e+00, -1.85850023e+01,  1.89067615e+00,  1.62353804e+01,\n",
       "        8.46915335e+00, -1.45278731e+01,  8.28359524e+00, -1.27576186e+01,\n",
       "        4.14944240e+00,  1.02102076e+01, -1.79407224e+01,  6.10540726e+00,\n",
       "        3.82149782e+00,  1.43988525e+01, -4.24265668e+00, -8.22348624e+00,\n",
       "       -1.41457195e+01, -9.05010803e+00,  2.12731408e+01, -1.03925447e+01,\n",
       "       -6.85670382e+00, -7.86627913e+00, -3.37259221e+00, -6.79823641e+00,\n",
       "       -3.81300926e+01, -9.54624398e+00,  4.37136772e+00, -5.87490121e-01,\n",
       "        2.11328464e+00, -1.46776634e+01,  4.95713420e+00, -4.93633454e-01,\n",
       "       -4.57929204e+00,  5.38545580e+00, -1.23588197e+01, -2.25391684e+00,\n",
       "        1.44604332e+01,  1.43317079e+00,  2.00903642e+01,  7.78247264e+00,\n",
       "        1.20765366e+01,  1.22913273e+01,  7.02614807e+00,  1.05749457e+01,\n",
       "       -6.86468519e+00,  4.81292553e+00, -5.16058845e+00,  2.80024694e+00,\n",
       "       -4.70551547e-01,  1.53940430e+01,  6.60159243e+00, -8.51274262e+00,\n",
       "        7.22611464e+00, -3.47067048e+00,  7.57377158e-01,  8.02325168e-01,\n",
       "       -1.89004420e+01, -1.04526055e+01,  2.86775630e+00, -1.66505149e+00,\n",
       "        6.97488196e+00, -1.14796145e+00, -2.64957004e+00,  2.60817542e+00,\n",
       "        1.81475975e+01,  7.76968871e+00,  9.25509807e+00, -4.76943433e+00,\n",
       "        1.33164743e+00,  1.89789885e+01, -2.34507067e+01, -3.40130974e-01,\n",
       "        1.06973094e+01,  3.15054221e+00,  7.45087459e+00, -4.82106903e+00,\n",
       "        3.15861223e-01, -2.67646809e+01, -9.23387508e+00,  8.78783404e+00,\n",
       "        2.23878810e+00,  4.67144168e+00, -1.44837151e+01,  7.58864064e+00,\n",
       "       -1.06925955e+01,  8.62543465e+00,  2.13487734e+00, -1.23104561e+01,\n",
       "       -6.55060440e-01,  1.84932152e+01,  1.55451380e+01, -2.07218244e+00,\n",
       "        2.10376201e+01, -6.66157940e-01, -3.49601178e+00, -2.46336255e+00,\n",
       "        6.52334891e+00, -1.63118310e+01, -1.14165377e+01, -4.23025186e+00,\n",
       "       -1.68966135e+01, -6.76197576e+00, -3.89843229e-01, -1.67307100e+00,\n",
       "       -1.79224788e+01,  7.32054192e+00, -1.44033614e+01,  3.29539690e+00,\n",
       "       -3.99115289e+00, -2.65057225e+00,  5.62558571e+00, -6.67818756e+00,\n",
       "       -5.19519539e+00,  1.74767119e+01,  8.66282485e-01,  1.45333280e+01,\n",
       "       -9.61385537e+00, -2.17131688e+00, -3.45578810e+00,  5.91209972e+00,\n",
       "        1.12444886e+00,  2.69778566e-01, -8.66618905e+00,  3.56469947e+00,\n",
       "        1.82271583e+01,  6.06883830e+00,  1.29756012e+00, -6.72327028e+00,\n",
       "        7.89561180e+00, -3.39710842e+00,  6.51354468e+00,  3.73014586e+00,\n",
       "       -7.12116404e+00, -3.30304786e+00, -4.09318611e+00,  7.60964257e+00,\n",
       "        1.83412427e+01, -1.01317763e+01, -1.38955624e+01,  1.84682415e+01])"
      ]
     },
     "execution_count": 134,
     "metadata": {},
     "output_type": "execute_result"
    }
   ],
   "source": [
    "np.random.normal(0, 10, 1000)"
   ]
  },
  {
   "cell_type": "code",
   "execution_count": 136,
   "metadata": {},
   "outputs": [
    {
     "data": {
      "text/plain": [
       "40.37620531"
      ]
     },
     "execution_count": 136,
     "metadata": {},
     "output_type": "execute_result"
    }
   ],
   "source": [
    "43+(-2.62379469e+00)"
   ]
  },
  {
   "cell_type": "code",
   "execution_count": 135,
   "metadata": {},
   "outputs": [
    {
     "data": {
      "text/plain": [
       "50.4723141"
      ]
     },
     "execution_count": 135,
     "metadata": {},
     "output_type": "execute_result"
    }
   ],
   "source": [
    "37 - -1.34723141e+01"
   ]
  },
  {
   "cell_type": "code",
   "execution_count": 137,
   "metadata": {},
   "outputs": [],
   "source": [
    "list1 = np.array([1, 2, 3])\n",
    "list2 = np.array([10,20,30])"
   ]
  },
  {
   "cell_type": "code",
   "execution_count": 144,
   "metadata": {},
   "outputs": [
    {
     "data": {
      "text/plain": [
       "array([1, 2, 3])"
      ]
     },
     "execution_count": 144,
     "metadata": {},
     "output_type": "execute_result"
    }
   ],
   "source": [
    "list1"
   ]
  },
  {
   "cell_type": "code",
   "execution_count": 145,
   "metadata": {},
   "outputs": [
    {
     "data": {
      "text/plain": [
       "array([10, 20, 30])"
      ]
     },
     "execution_count": 145,
     "metadata": {},
     "output_type": "execute_result"
    }
   ],
   "source": [
    "list2"
   ]
  },
  {
   "cell_type": "code",
   "execution_count": 140,
   "metadata": {},
   "outputs": [
    {
     "data": {
      "text/plain": [
       "array([ -9.34011625,  -2.81821899, -15.60843547])"
      ]
     },
     "execution_count": 140,
     "metadata": {},
     "output_type": "execute_result"
    }
   ],
   "source": [
    "np.random.normal(0, 10, 3)"
   ]
  },
  {
   "cell_type": "code",
   "execution_count": 141,
   "metadata": {},
   "outputs": [
    {
     "data": {
      "text/plain": [
       "array([ 1.97843587,  7.84985774, 11.43820381])"
      ]
     },
     "execution_count": 141,
     "metadata": {},
     "output_type": "execute_result"
    }
   ],
   "source": [
    "np.random.normal(0, 10, 3)"
   ]
  },
  {
   "cell_type": "code",
   "execution_count": null,
   "metadata": {},
   "outputs": [],
   "source": [
    "list1 + -2.62379469e+00"
   ]
  },
  {
   "cell_type": "code",
   "execution_count": 149,
   "metadata": {},
   "outputs": [
    {
     "data": {
      "text/plain": [
       "array([[1., 1.],\n",
       "       [1., 1.]])"
      ]
     },
     "execution_count": 149,
     "metadata": {},
     "output_type": "execute_result"
    }
   ],
   "source": [
    "np.corrcoef(list1,list2)"
   ]
  },
  {
   "cell_type": "code",
   "execution_count": 174,
   "metadata": {},
   "outputs": [],
   "source": [
    "# GGGrrrrr !!"
   ]
  },
  {
   "cell_type": "code",
   "execution_count": 175,
   "metadata": {},
   "outputs": [],
   "source": [
    "import numpy as np"
   ]
  },
  {
   "cell_type": "code",
   "execution_count": 206,
   "metadata": {},
   "outputs": [],
   "source": [
    "a = np.array([1,2,3,4])"
   ]
  },
  {
   "cell_type": "code",
   "execution_count": 207,
   "metadata": {},
   "outputs": [],
   "source": [
    "b = np.array([5,6,7,8])"
   ]
  },
  {
   "cell_type": "code",
   "execution_count": 208,
   "metadata": {},
   "outputs": [
    {
     "data": {
      "text/plain": [
       "array([[1, 5],\n",
       "       [2, 6],\n",
       "       [3, 7],\n",
       "       [4, 8]])"
      ]
     },
     "execution_count": 208,
     "metadata": {},
     "output_type": "execute_result"
    }
   ],
   "source": [
    "np.column_stack((a,b))"
   ]
  },
  {
   "cell_type": "code",
   "execution_count": 209,
   "metadata": {},
   "outputs": [
    {
     "data": {
      "text/plain": [
       "array([5, 6, 7, 8])"
      ]
     },
     "execution_count": 209,
     "metadata": {},
     "output_type": "execute_result"
    }
   ],
   "source": [
    "b"
   ]
  },
  {
   "cell_type": "code",
   "execution_count": 210,
   "metadata": {},
   "outputs": [
    {
     "data": {
      "text/plain": [
       "array([5, 6, 7, 8])"
      ]
     },
     "execution_count": 210,
     "metadata": {},
     "output_type": "execute_result"
    }
   ],
   "source": [
    "b"
   ]
  },
  {
   "cell_type": "code",
   "execution_count": 211,
   "metadata": {},
   "outputs": [
    {
     "data": {
      "text/plain": [
       "array([1, 2, 3, 4, 5, 6, 7, 8])"
      ]
     },
     "execution_count": 211,
     "metadata": {},
     "output_type": "execute_result"
    }
   ],
   "source": [
    "np.concatenate((a, b), axis=0)"
   ]
  },
  {
   "cell_type": "code",
   "execution_count": 213,
   "metadata": {},
   "outputs": [
    {
     "ename": "AxisError",
     "evalue": "axis 1 is out of bounds for array of dimension 1",
     "output_type": "error",
     "traceback": [
      "\u001b[0;31m---------------------------------------------------------------------------\u001b[0m",
      "\u001b[0;31mAxisError\u001b[0m                                 Traceback (most recent call last)",
      "\u001b[0;32m<ipython-input-213-56c9b931b97f>\u001b[0m in \u001b[0;36m<module>\u001b[0;34m()\u001b[0m\n\u001b[0;32m----> 1\u001b[0;31m \u001b[0mnp\u001b[0m\u001b[0;34m.\u001b[0m\u001b[0mconcatenate\u001b[0m\u001b[0;34m(\u001b[0m\u001b[0;34m(\u001b[0m\u001b[0mb\u001b[0m\u001b[0;34m,\u001b[0m \u001b[0ma\u001b[0m\u001b[0;34m)\u001b[0m\u001b[0;34m,\u001b[0m \u001b[0maxis\u001b[0m\u001b[0;34m=\u001b[0m\u001b[0;36m1\u001b[0m\u001b[0;34m)\u001b[0m\u001b[0;34m\u001b[0m\u001b[0m\n\u001b[0m",
      "\u001b[0;31mAxisError\u001b[0m: axis 1 is out of bounds for array of dimension 1"
     ]
    }
   ],
   "source": [
    "np.concatenate((b, a), axis=1)"
   ]
  },
  {
   "cell_type": "code",
   "execution_count": 215,
   "metadata": {},
   "outputs": [],
   "source": [
    "import matplotlib.pyplot as plt"
   ]
  },
  {
   "cell_type": "code",
   "execution_count": 216,
   "metadata": {},
   "outputs": [
    {
     "ename": "NameError",
     "evalue": "name 'year' is not defined",
     "output_type": "error",
     "traceback": [
      "\u001b[0;31m---------------------------------------------------------------------------\u001b[0m",
      "\u001b[0;31mNameError\u001b[0m                                 Traceback (most recent call last)",
      "\u001b[0;32m<ipython-input-216-4bcd9519805f>\u001b[0m in \u001b[0;36m<module>\u001b[0;34m()\u001b[0m\n\u001b[1;32m      2\u001b[0m \u001b[0;31m#Line plot (1)\u001b[0m\u001b[0;34m\u001b[0m\u001b[0;34m\u001b[0m\u001b[0m\n\u001b[1;32m      3\u001b[0m \u001b[0;31m# Print the last item from years and populations\u001b[0m\u001b[0;34m\u001b[0m\u001b[0;34m\u001b[0m\u001b[0m\n\u001b[0;32m----> 4\u001b[0;31m \u001b[0mprint\u001b[0m\u001b[0;34m(\u001b[0m\u001b[0myear\u001b[0m\u001b[0;34m[\u001b[0m\u001b[0;34m-\u001b[0m\u001b[0;36m1\u001b[0m\u001b[0;34m]\u001b[0m\u001b[0;34m)\u001b[0m\u001b[0;34m\u001b[0m\u001b[0m\n\u001b[0m\u001b[1;32m      5\u001b[0m \u001b[0mprint\u001b[0m\u001b[0;34m(\u001b[0m\u001b[0mpop\u001b[0m\u001b[0;34m[\u001b[0m\u001b[0;34m-\u001b[0m\u001b[0;36m1\u001b[0m\u001b[0;34m]\u001b[0m\u001b[0;34m)\u001b[0m\u001b[0;34m\u001b[0m\u001b[0m\n",
      "\u001b[0;31mNameError\u001b[0m: name 'year' is not defined"
     ]
    }
   ],
   "source": [
    "#Matplotlib\n",
    "#Line plot (1)\n",
    "# Print the last item from years and populations\n",
    "print(year[-1])\n",
    "print(pop[-1])"
   ]
  },
  {
   "cell_type": "code",
   "execution_count": null,
   "metadata": {},
   "outputs": [],
   "source": [
    "plt.xscale()"
   ]
  },
  {
   "cell_type": "code",
   "execution_count": 218,
   "metadata": {},
   "outputs": [],
   "source": [
    "x = np.array([5, 10, 15, 20])\n",
    "y = np.array([40, 30, 20, 10])"
   ]
  },
  {
   "cell_type": "code",
   "execution_count": 227,
   "metadata": {},
   "outputs": [
    {
     "name": "stdout",
     "output_type": "stream",
     "text": [
      "[ 5 10 15 20]\n"
     ]
    },
    {
     "data": {
      "text/plain": [
       "array([ 5, 10, 15, 20])"
      ]
     },
     "execution_count": 227,
     "metadata": {},
     "output_type": "execute_result"
    }
   ],
   "source": [
    "print(x)\n",
    "np.transpose(x)"
   ]
  },
  {
   "cell_type": "code",
   "execution_count": 220,
   "metadata": {},
   "outputs": [
    {
     "data": {
      "text/plain": [
       "array([[ 1., -1.],\n",
       "       [-1.,  1.]])"
      ]
     },
     "execution_count": 220,
     "metadata": {},
     "output_type": "execute_result"
    }
   ],
   "source": [
    "np.corrcoef(x, y)"
   ]
  },
  {
   "cell_type": "code",
   "execution_count": null,
   "metadata": {},
   "outputs": [],
   "source": [
    "plt.grid()"
   ]
  },
  {
   "cell_type": "code",
   "execution_count": 223,
   "metadata": {},
   "outputs": [],
   "source": [
    "# Pre-defined lists\n",
    "names = ['United States', 'Australia', 'Japan', 'India', 'Russia', 'Morocco', 'Egypt']\n",
    "dr =  [True, False, False, False, True, True, True]\n",
    "cpc = [809, 731, 588, 18, 200, 70, 45]"
   ]
  },
  {
   "cell_type": "code",
   "execution_count": 224,
   "metadata": {},
   "outputs": [
    {
     "name": "stdout",
     "output_type": "stream",
     "text": [
      "         country  drives_right  cars_per_cap\n",
      "0  United States          True           809\n",
      "1      Australia         False           731\n",
      "2          Japan         False           588\n",
      "3          India         False            18\n",
      "4         Russia          True           200\n",
      "5        Morocco          True            70\n",
      "6          Egypt          True            45\n"
     ]
    }
   ],
   "source": [
    "import pandas as pd\n",
    "# Create dictionary my_dict with three key:value pairs: my_dict\n",
    "my_dict = {'country':names,'drives_right':dr,'cars_per_cap':cpc}\n",
    "\n",
    "# Build a DataFrame cars from my_dict: cars\n",
    "\n",
    "cars=pd.DataFrame(my_dict)\n",
    "# Print cars\n",
    "print(cars)"
   ]
  },
  {
   "cell_type": "code",
   "execution_count": 225,
   "metadata": {},
   "outputs": [
    {
     "name": "stdout",
     "output_type": "stream",
     "text": [
      "         country  drives_right  cars_per_cap\n",
      "0  United States          True           809\n",
      "1      Australia         False           731\n",
      "2          Japan         False           588\n",
      "3          India         False            18\n",
      "4         Russia          True           200\n",
      "5        Morocco          True            70\n",
      "6          Egypt          True            45\n"
     ]
    }
   ],
   "source": [
    "# Build cars DataFrame\n",
    "names = ['United States', 'Australia', 'Japan', 'India', 'Russia', 'Morocco', 'Egypt']\n",
    "dr =  [True, False, False, False, True, True, True]\n",
    "cpc = [809, 731, 588, 18, 200, 70, 45]\n",
    "dict = { 'country':names, 'drives_right':dr, 'cars_per_cap':cpc }\n",
    "cars = pd.DataFrame(dict)\n",
    "print(cars)"
   ]
  },
  {
   "cell_type": "code",
   "execution_count": 226,
   "metadata": {},
   "outputs": [
    {
     "name": "stdout",
     "output_type": "stream",
     "text": [
      "           country  drives_right  cars_per_cap\n",
      "US   United States          True           809\n",
      "AUS      Australia         False           731\n",
      "JAP          Japan         False           588\n",
      "IN           India         False            18\n",
      "RU          Russia          True           200\n",
      "MOR        Morocco          True            70\n",
      "EG           Egypt          True            45\n"
     ]
    }
   ],
   "source": [
    "row_labels = ['US', 'AUS', 'JAP', 'IN', 'RU', 'MOR', 'EG']\n",
    "\n",
    "# Specify row labels of cars\n",
    "cars.index = row_labels\n",
    "\n",
    "# Print cars again\n",
    "print(cars)"
   ]
  },
  {
   "cell_type": "code",
   "execution_count": null,
   "metadata": {},
   "outputs": [],
   "source": []
  },
  {
   "cell_type": "code",
   "execution_count": null,
   "metadata": {},
   "outputs": [],
   "source": []
  },
  {
   "cell_type": "code",
   "execution_count": null,
   "metadata": {},
   "outputs": [],
   "source": []
  },
  {
   "cell_type": "code",
   "execution_count": null,
   "metadata": {},
   "outputs": [],
   "source": []
  },
  {
   "cell_type": "code",
   "execution_count": null,
   "metadata": {},
   "outputs": [],
   "source": []
  },
  {
   "cell_type": "code",
   "execution_count": null,
   "metadata": {},
   "outputs": [],
   "source": []
  },
  {
   "cell_type": "code",
   "execution_count": null,
   "metadata": {},
   "outputs": [],
   "source": []
  },
  {
   "cell_type": "code",
   "execution_count": null,
   "metadata": {},
   "outputs": [],
   "source": []
  },
  {
   "cell_type": "code",
   "execution_count": null,
   "metadata": {},
   "outputs": [],
   "source": []
  },
  {
   "cell_type": "code",
   "execution_count": null,
   "metadata": {},
   "outputs": [],
   "source": []
  },
  {
   "cell_type": "code",
   "execution_count": null,
   "metadata": {},
   "outputs": [],
   "source": []
  }
 ],
 "metadata": {
  "kernelspec": {
   "display_name": "Python 3",
   "language": "python",
   "name": "python3"
  },
  "language_info": {
   "codemirror_mode": {
    "name": "ipython",
    "version": 3
   },
   "file_extension": ".py",
   "mimetype": "text/x-python",
   "name": "python",
   "nbconvert_exporter": "python",
   "pygments_lexer": "ipython3",
   "version": "3.6.5"
  }
 },
 "nbformat": 4,
 "nbformat_minor": 2
}
