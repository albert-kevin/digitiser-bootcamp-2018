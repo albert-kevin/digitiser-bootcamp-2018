{
 "cells": [
  {
   "cell_type": "code",
   "execution_count": null,
   "metadata": {},
   "outputs": [],
   "source": [
    "# Perform the necessary imports\n",
    "from sklearn.decomposition import PCA\n",
    "from sklearn.preprocessing import StandardScaler\n",
    "from sklearn.pipeline import make_pipeline\n",
    "import matplotlib.pyplot as plt\n",
    "%matplotlib inline"
   ]
  },
  {
   "cell_type": "code",
   "execution_count": null,
   "metadata": {},
   "outputs": [],
   "source": [
    "# Create scaler: scaler\n",
    "scaler = StandardScaler()"
   ]
  },
  {
   "cell_type": "code",
   "execution_count": null,
   "metadata": {},
   "outputs": [],
   "source": [
    "# Create a PCA instance: pca\n",
    "pca = PCA()"
   ]
  },
  {
   "cell_type": "code",
   "execution_count": null,
   "metadata": {},
   "outputs": [],
   "source": [
    "# Create pipeline: pipeline\n",
    "pipeline = make_pipeline(scaler, pca)"
   ]
  },
  {
   "cell_type": "code",
   "execution_count": null,
   "metadata": {},
   "outputs": [],
   "source": [
    "# Fit the pipeline to 'samples'\n",
    "pipeline.fit(samples)"
   ]
  },
  {
   "cell_type": "code",
   "execution_count": null,
   "metadata": {},
   "outputs": [],
   "source": [
    "# Plot the explained variances\n",
    "features = range(pca.n_components_)\n",
    "plt.bar(features, pca.explained_variance_)\n",
    "plt.xlabel('PCA feature')\n",
    "plt.ylabel('variance')\n",
    "plt.xticks(features)\n",
    "plt.show()"
   ]
  },
  {
   "cell_type": "code",
   "execution_count": null,
   "metadata": {},
   "outputs": [],
   "source": []
  },
  {
   "cell_type": "code",
   "execution_count": null,
   "metadata": {},
   "outputs": [],
   "source": []
  },
  {
   "cell_type": "code",
   "execution_count": 19,
   "metadata": {},
   "outputs": [],
   "source": [
    "import pandas as pd\n",
    "import numpy as np"
   ]
  },
  {
   "cell_type": "code",
   "execution_count": 32,
   "metadata": {},
   "outputs": [
    {
     "data": {
      "text/plain": [
       "array([ 1.49856930e+00, -7.48941124e-01, -4.37442917e-04, -1.76188783e+00,\n",
       "        1.91731092e-01,  8.86432837e-01, -1.85122987e-01,  6.65200699e-01,\n",
       "       -1.45616561e+00,  6.87431107e-01, -3.99358091e-01, -1.56578548e-01,\n",
       "        9.32636367e-02, -5.69171887e-01,  9.72618105e-01,  9.18848422e-01,\n",
       "        9.80981351e-01, -2.25180046e+00,  1.19667486e+00,  2.30572291e+00,\n",
       "        8.12107813e-01, -5.17580803e-04, -1.44824187e-01,  7.47174568e-01,\n",
       "       -7.24964243e-01, -4.35512916e-01, -8.51956445e-01,  5.62211652e-01,\n",
       "       -2.30113740e+00,  8.12710646e-01, -1.48207053e+00, -1.80211751e+00,\n",
       "        8.69226239e-01, -9.03295135e-02, -5.42479690e-01,  1.11703382e+00,\n",
       "       -1.16229552e+00, -5.75878030e-01, -1.58725761e+00,  4.63208441e-01,\n",
       "        1.38790484e+00, -1.17580463e+00, -1.07125485e+00,  1.21227951e-01,\n",
       "       -3.56431514e-01, -3.30705424e-01,  7.17841812e-01, -1.62745692e+00,\n",
       "        1.05799291e+00,  1.26723041e+00,  8.82066405e-01,  6.35376241e-01,\n",
       "        7.20323242e-01, -2.64718513e+00,  2.23692323e-01,  6.05022074e-01,\n",
       "       -7.22996935e-01, -2.11226761e+00, -2.04437834e-01, -9.02647130e-01,\n",
       "       -1.13317934e+00, -8.19365667e-01, -4.27799616e-02, -8.43568621e-01,\n",
       "        2.58406977e-01,  1.15213261e+00, -1.20722191e+00,  2.38757539e+00,\n",
       "       -7.63186388e-01, -1.34213735e+00,  3.58263112e-02, -1.63924783e+00,\n",
       "        6.99453792e-01, -5.53644456e-01, -2.36728903e+00,  8.86063403e-02,\n",
       "       -4.67374167e-01, -9.67208403e-01,  9.66835291e-01,  2.43812846e-01,\n",
       "       -1.23773688e+00,  8.99965672e-01,  4.58832017e-01,  1.09792597e-01,\n",
       "        9.05267255e-01, -1.74760124e+00,  4.05593821e-02,  8.22043933e-02,\n",
       "        1.97257466e-02,  1.63032669e-01,  3.16842929e-01, -3.67468125e-01,\n",
       "        3.12020333e+00,  1.49136356e-01, -1.40161242e+00, -7.83495803e-01,\n",
       "        1.29680537e-01, -2.27690377e+00, -7.82306415e-01,  9.95696938e-01])"
      ]
     },
     "execution_count": 32,
     "metadata": {},
     "output_type": "execute_result"
    }
   ],
   "source": [
    "np.random.randn(100)"
   ]
  },
  {
   "cell_type": "code",
   "execution_count": 33,
   "metadata": {},
   "outputs": [
    {
     "data": {
      "text/plain": [
       "array([ 0.27168579,  0.19424783,  0.50380909,  0.11487739, -0.70463957,\n",
       "        0.31661781,  0.62276362, -1.85076073, -1.57676174, -0.39167385,\n",
       "        0.04033183,  1.48078331, -0.5503699 ,  0.5367045 , -0.11178041,\n",
       "        0.98042144, -1.64793867, -0.63248271,  2.04316588, -0.03270775,\n",
       "        1.22250713,  0.63267156, -0.9268498 , -0.63740012, -1.26582969,\n",
       "       -0.57079436, -0.24124663,  0.654326  ,  2.28260084, -0.38584543,\n",
       "       -1.69166326,  1.45705495, -0.39909141, -1.89601197,  0.66012562,\n",
       "       -1.2290754 , -0.86403392,  1.3991447 , -0.12490603, -0.71453467,\n",
       "       -0.03430478,  0.06202186, -1.43966229,  0.41524204, -0.86789023,\n",
       "        0.60713755, -0.22607144,  1.2120261 ,  0.50522033,  0.84619061,\n",
       "        2.06806594,  0.08492067, -0.64191426,  0.56031271,  1.62459746,\n",
       "        0.60584781,  0.3024152 , -0.53786417,  0.53096833, -1.84928626,\n",
       "       -1.49751047,  0.78418928, -1.30819664,  0.42389061, -1.3400598 ,\n",
       "        0.6645299 ,  1.06809385, -0.18011332,  1.7508282 ,  0.26467371,\n",
       "       -1.07403679, -0.62913607,  1.97370507, -1.83384404,  0.81746706,\n",
       "        0.42121988,  0.02384708,  0.07306601, -0.97023204, -0.30964994,\n",
       "        1.37350991,  0.77956992, -0.98081983, -1.20245963, -0.39478337,\n",
       "       -0.85841673, -0.3238379 ,  0.4580647 , -0.69965823, -1.1484777 ,\n",
       "       -1.45810668,  0.19818311, -1.22108443, -0.17506911, -0.1515001 ,\n",
       "        1.59369638, -1.94378791, -0.11199531,  1.00823447,  0.56976835])"
      ]
     },
     "execution_count": 33,
     "metadata": {},
     "output_type": "execute_result"
    }
   ],
   "source": [
    "x = np.random.randn(100)\n",
    "x"
   ]
  },
  {
   "cell_type": "code",
   "execution_count": 34,
   "metadata": {},
   "outputs": [
    {
     "data": {
      "text/plain": [
       "array([0.27168579, 0.19424783, 0.50380909, 0.11487739, 0.70463957,\n",
       "       0.31661781, 0.62276362, 1.85076073, 1.57676174, 0.39167385,\n",
       "       0.04033183, 1.48078331, 0.5503699 , 0.5367045 , 0.11178041,\n",
       "       0.98042144, 1.64793867, 0.63248271, 2.04316588, 0.03270775,\n",
       "       1.22250713, 0.63267156, 0.9268498 , 0.63740012, 1.26582969,\n",
       "       0.57079436, 0.24124663, 0.654326  , 2.28260084, 0.38584543,\n",
       "       1.69166326, 1.45705495, 0.39909141, 1.89601197, 0.66012562,\n",
       "       1.2290754 , 0.86403392, 1.3991447 , 0.12490603, 0.71453467,\n",
       "       0.03430478, 0.06202186, 1.43966229, 0.41524204, 0.86789023,\n",
       "       0.60713755, 0.22607144, 1.2120261 , 0.50522033, 0.84619061,\n",
       "       2.06806594, 0.08492067, 0.64191426, 0.56031271, 1.62459746,\n",
       "       0.60584781, 0.3024152 , 0.53786417, 0.53096833, 1.84928626,\n",
       "       1.49751047, 0.78418928, 1.30819664, 0.42389061, 1.3400598 ,\n",
       "       0.6645299 , 1.06809385, 0.18011332, 1.7508282 , 0.26467371,\n",
       "       1.07403679, 0.62913607, 1.97370507, 1.83384404, 0.81746706,\n",
       "       0.42121988, 0.02384708, 0.07306601, 0.97023204, 0.30964994,\n",
       "       1.37350991, 0.77956992, 0.98081983, 1.20245963, 0.39478337,\n",
       "       0.85841673, 0.3238379 , 0.4580647 , 0.69965823, 1.1484777 ,\n",
       "       1.45810668, 0.19818311, 1.22108443, 0.17506911, 0.1515001 ,\n",
       "       1.59369638, 1.94378791, 0.11199531, 1.00823447, 0.56976835])"
      ]
     },
     "execution_count": 34,
     "metadata": {},
     "output_type": "execute_result"
    }
   ],
   "source": [
    "y = np.abs(x)\n",
    "y"
   ]
  },
  {
   "cell_type": "code",
   "execution_count": null,
   "metadata": {},
   "outputs": [],
   "source": []
  },
  {
   "cell_type": "code",
   "execution_count": 36,
   "metadata": {},
   "outputs": [
    {
     "data": {
      "text/plain": [
       "(array([18., 14., 21., 10.,  7.,  9.,  8.,  4.,  7.,  2.]),\n",
       " array([0.02384708, 0.24972246, 0.47559783, 0.70147321, 0.92734859,\n",
       "        1.15322396, 1.37909934, 1.60497471, 1.83085009, 2.05672547,\n",
       "        2.28260084]),\n",
       " <a list of 10 Patch objects>)"
      ]
     },
     "execution_count": 36,
     "metadata": {},
     "output_type": "execute_result"
    },
    {
     "data": {
      "image/png": "[encoded data removed]",
      "text/plain": [
       "<Figure size 432x288 with 1 Axes>"
      ]
     },
     "metadata": {},
     "output_type": "display_data"
    }
   ],
   "source": [
    "plt.hist(x)\n",
    "plt.hist(y)"
   ]
  },
  {
   "cell_type": "code",
   "execution_count": 37,
   "metadata": {},
   "outputs": [],
   "source": [
    "import seaborn as sns"
   ]
  },
  {
   "cell_type": "code",
   "execution_count": 43,
   "metadata": {},
   "outputs": [
    {
     "data": {
      "text/plain": [
       "<matplotlib.collections.PathCollection at 0x7f55a5c7db38>"
      ]
     },
     "execution_count": 43,
     "metadata": {},
     "output_type": "execute_result"
    },
    {
     "data": {
      "image/png": "[encoded data removed]",
      "text/plain": [
       "<Figure size 432x288 with 1 Axes>"
      ]
     },
     "metadata": {},
     "output_type": "display_data"
    }
   ],
   "source": [
    "plt.scatter(range(100), x, alpha=0.5)\n",
    "plt.scatter(range(100), y, alpha=0.5)"
   ]
  },
  {
   "cell_type": "code",
   "execution_count": null,
   "metadata": {},
   "outputs": [],
   "source": []
  },
  {
   "cell_type": "code",
   "execution_count": 51,
   "metadata": {},
   "outputs": [],
   "source": [
    "df = pd.DataFrame({'x':x+y})"
   ]
  },
  {
   "cell_type": "code",
   "execution_count": 52,
   "metadata": {},
   "outputs": [
    {
     "data": {
      "text/html": [
       "<div>\n",
       "<style scoped>\n",
       "    .dataframe tbody tr th:only-of-type {\n",
       "        vertical-align: middle;\n",
       "    }\n",
       "\n",
       "    .dataframe tbody tr th {\n",
       "        vertical-align: top;\n",
       "    }\n",
       "\n",
       "    .dataframe thead th {\n",
       "        text-align: right;\n",
       "    }\n",
       "</style>\n",
       "<table border=\"1\" class=\"dataframe\">\n",
       "  <thead>\n",
       "    <tr style=\"text-align: right;\">\n",
       "      <th></th>\n",
       "      <th>x</th>\n",
       "    </tr>\n",
       "  </thead>\n",
       "  <tbody>\n",
       "    <tr>\n",
       "      <th>0</th>\n",
       "      <td>0.543372</td>\n",
       "    </tr>\n",
       "    <tr>\n",
       "      <th>1</th>\n",
       "      <td>0.388496</td>\n",
       "    </tr>\n",
       "    <tr>\n",
       "      <th>2</th>\n",
       "      <td>1.007618</td>\n",
       "    </tr>\n",
       "    <tr>\n",
       "      <th>3</th>\n",
       "      <td>0.229755</td>\n",
       "    </tr>\n",
       "    <tr>\n",
       "      <th>4</th>\n",
       "      <td>0.000000</td>\n",
       "    </tr>\n",
       "  </tbody>\n",
       "</table>\n",
       "</div>"
      ],
      "text/plain": [
       "          x\n",
       "0  0.543372\n",
       "1  0.388496\n",
       "2  1.007618\n",
       "3  0.229755\n",
       "4  0.000000"
      ]
     },
     "execution_count": 52,
     "metadata": {},
     "output_type": "execute_result"
    }
   ],
   "source": [
    "df.head()"
   ]
  },
  {
   "cell_type": "code",
   "execution_count": 67,
   "metadata": {},
   "outputs": [
    {
     "data": {
      "text/plain": [
       "(100, 1)"
      ]
     },
     "execution_count": 67,
     "metadata": {},
     "output_type": "execute_result"
    }
   ],
   "source": [
    "df.shape"
   ]
  },
  {
   "cell_type": "code",
   "execution_count": 78,
   "metadata": {},
   "outputs": [
    {
     "data": {
      "text/plain": [
       "x    50\n",
       "dtype: int64"
      ]
     },
     "execution_count": 78,
     "metadata": {},
     "output_type": "execute_result"
    }
   ],
   "source": [
    "df.nunique()"
   ]
  },
  {
   "cell_type": "code",
   "execution_count": 85,
   "metadata": {},
   "outputs": [],
   "source": [
    "df1 = df.groupby(['x']).apply(lambda x: np.round(x,1))"
   ]
  },
  {
   "cell_type": "code",
   "execution_count": 88,
   "metadata": {},
   "outputs": [
    {
     "data": {
      "text/plain": [
       "x    26\n",
       "dtype: int64"
      ]
     },
     "execution_count": 88,
     "metadata": {},
     "output_type": "execute_result"
    }
   ],
   "source": [
    "df1.nunique()"
   ]
  },
  {
   "cell_type": "code",
   "execution_count": 116,
   "metadata": {},
   "outputs": [
    {
     "data": {
      "text/plain": [
       "(array([ 57.,  59.,  63.,  67.,  73.,  80.,  83.,  84.,  86.,  87.,  89.,\n",
       "         90.,  92.,  95.,  95.,  96.,  97.,  99.,  99., 100.]),\n",
       " array([0.  , 0.23, 0.46, 0.69, 0.92, 1.15, 1.38, 1.61, 1.84, 2.07, 2.3 ,\n",
       "        2.53, 2.76, 2.99, 3.22, 3.45, 3.68, 3.91, 4.14, 4.37, 4.6 ]),\n",
       " <a list of 1 Patch objects>)"
      ]
     },
     "execution_count": 116,
     "metadata": {},
     "output_type": "execute_result"
    },
    {
     "data": {
      "image/png": "[encoded data removed]",
      "text/plain": [
       "<Figure size 432x288 with 1 Axes>"
      ]
     },
     "metadata": {},
     "output_type": "display_data"
    }
   ],
   "source": [
    "plt.hist(df1[\"x\"], histtype='step', bins=20, cumulative=True)"
   ]
  },
  {
   "cell_type": "code",
   "execution_count": 90,
   "metadata": {},
   "outputs": [
    {
     "data": {
      "text/plain": [
       "<matplotlib.axes._subplots.AxesSubplot at 0x7f55a57b4fd0>"
      ]
     },
     "execution_count": 90,
     "metadata": {},
     "output_type": "execute_result"
    },
    {
     "data": {
      "image/png": "[encoded data removed]",
      "text/plain": [
       "<Figure size 432x288 with 1 Axes>"
      ]
     },
     "metadata": {},
     "output_type": "display_data"
    }
   ],
   "source": [
    "df1.plot.hist()"
   ]
  },
  {
   "cell_type": "code",
   "execution_count": 93,
   "metadata": {},
   "outputs": [
    {
     "data": {
      "text/plain": [
       "x    0.776\n",
       "dtype: float64"
      ]
     },
     "execution_count": 93,
     "metadata": {},
     "output_type": "execute_result"
    }
   ],
   "source": [
    "np.mean(df1)"
   ]
  },
  {
   "cell_type": "code",
   "execution_count": 108,
   "metadata": {},
   "outputs": [],
   "source": [
    "data = df1.groupby([\"x\"], axis=\"rows\")"
   ]
  },
  {
   "cell_type": "code",
   "execution_count": 128,
   "metadata": {},
   "outputs": [
    {
     "data": {
      "text/plain": [
       "-0.34063570520315517"
      ]
     },
     "execution_count": 128,
     "metadata": {},
     "output_type": "execute_result"
    }
   ],
   "source": [
    "np.random.normal()"
   ]
  },
  {
   "cell_type": "code",
   "execution_count": 138,
   "metadata": {},
   "outputs": [],
   "source": [
    "f = (np.random.randint(low=60, high=80, size=1000)) * (np.random.normal(loc=0, scale=1, size=1000))"
   ]
  },
  {
   "cell_type": "code",
   "execution_count": 139,
   "metadata": {},
   "outputs": [
    {
     "data": {
      "text/plain": [
       "(array([  2.,   7.,   9.,  21.,  40.,  66.,  80., 102., 105., 129., 131.,\n",
       "         99.,  84.,  56.,  26.,  18.,  12.,   9.,   2.,   2.]),\n",
       " array([-216.13902046, -193.59968628, -171.0603521 , -148.52101792,\n",
       "        -125.98168374, -103.44234956,  -80.90301538,  -58.3636812 ,\n",
       "         -35.82434702,  -13.28501285,    9.25432133,   31.79365551,\n",
       "          54.33298969,   76.87232387,   99.41165805,  121.95099223,\n",
       "         144.49032641,  167.02966059,  189.56899477,  212.10832895,\n",
       "         234.64766313]),\n",
       " <a list of 20 Patch objects>)"
      ]
     },
     "execution_count": 139,
     "metadata": {},
     "output_type": "execute_result"
    },
    {
     "data": {
      "image/png": "[encoded data removed]",
      "text/plain": [
       "<Figure size 432x288 with 1 Axes>"
      ]
     },
     "metadata": {},
     "output_type": "display_data"
    }
   ],
   "source": [
    "plt.hist(f, bins=20)"
   ]
  },
  {
   "cell_type": "code",
   "execution_count": 133,
   "metadata": {},
   "outputs": [
    {
     "data": {
      "text/plain": [
       "(1000,)"
      ]
     },
     "execution_count": 133,
     "metadata": {},
     "output_type": "execute_result"
    }
   ],
   "source": [
    "f.shape"
   ]
  },
  {
   "cell_type": "code",
   "execution_count": null,
   "metadata": {},
   "outputs": [],
   "source": []
  },
  {
   "cell_type": "code",
   "execution_count": 149,
   "metadata": {},
   "outputs": [
    {
     "data": {
      "image/png": "[encoded data removed]",
      "text/plain": [
       "<Figure size 432x288 with 9 Axes>"
      ]
     },
     "metadata": {},
     "output_type": "display_data"
    }
   ],
   "source": [
    "axes = plt.subplots(3,3)\n",
    "plt.tight_layout()"
   ]
  },
  {
   "cell_type": "code",
   "execution_count": 150,
   "metadata": {},
   "outputs": [
    {
     "data": {
      "image/png": "[encoded data removed]",
      "text/plain": [
       "<Figure size 432x288 with 9 Axes>"
      ]
     },
     "execution_count": 150,
     "metadata": {},
     "output_type": "execute_result"
    }
   ],
   "source": [
    "axes[0]"
   ]
  },
  {
   "cell_type": "code",
   "execution_count": null,
   "metadata": {},
   "outputs": [],
   "source": []
  },
  {
   "cell_type": "code",
   "execution_count": 158,
   "metadata": {},
   "outputs": [
    {
     "data": {
      "text/plain": [
       "0.0    52\n",
       "1.1     4\n",
       "1.3     4\n",
       "1.6     3\n",
       "0.1     3\n",
       "0.8     3\n",
       "1.2     3\n",
       "0.2     2\n",
       "1.0     2\n",
       "2.0     2\n",
       "0.6     2\n",
       "2.4     2\n",
       "4.1     2\n",
       "0.4     2\n",
       "3.2     2\n",
       "0.5     2\n",
       "2.1     1\n",
       "2.9     1\n",
       "1.7     1\n",
       "3.9     1\n",
       "0.9     1\n",
       "2.7     1\n",
       "3.5     1\n",
       "4.6     1\n",
       "3.0     1\n",
       "2.8     1\n",
       "Name: x, dtype: int64"
      ]
     },
     "execution_count": 158,
     "metadata": {},
     "output_type": "execute_result"
    }
   ],
   "source": [
    "df1[\"x\"].value_counts()"
   ]
  },
  {
   "cell_type": "code",
   "execution_count": null,
   "metadata": {},
   "outputs": [],
   "source": []
  },
  {
   "cell_type": "code",
   "execution_count": 161,
   "metadata": {},
   "outputs": [],
   "source": [
    "s = np.array([[1,0,0],[0,0,1],[1,0,1]])"
   ]
  },
  {
   "cell_type": "code",
   "execution_count": 162,
   "metadata": {},
   "outputs": [
    {
     "data": {
      "text/plain": [
       "array([[1, 0, 0],\n",
       "       [0, 0, 1],\n",
       "       [1, 0, 1]])"
      ]
     },
     "execution_count": 162,
     "metadata": {},
     "output_type": "execute_result"
    }
   ],
   "source": [
    "s"
   ]
  },
  {
   "cell_type": "code",
   "execution_count": 167,
   "metadata": {},
   "outputs": [
    {
     "data": {
      "text/plain": [
       "array([0.66666667, 0.        , 0.66666667])"
      ]
     },
     "execution_count": 167,
     "metadata": {},
     "output_type": "execute_result"
    }
   ],
   "source": [
    "np.mean(s, axis=0)"
   ]
  },
  {
   "cell_type": "code",
   "execution_count": 168,
   "metadata": {},
   "outputs": [
    {
     "data": {
      "text/plain": [
       "0.4444444444444444"
      ]
     },
     "execution_count": 168,
     "metadata": {},
     "output_type": "execute_result"
    }
   ],
   "source": [
    "np.mean(s)"
   ]
  },
  {
   "cell_type": "code",
   "execution_count": null,
   "metadata": {},
   "outputs": [],
   "source": []
  },
  {
   "cell_type": "code",
   "execution_count": null,
   "metadata": {},
   "outputs": [],
   "source": []
  },
  {
   "cell_type": "code",
   "execution_count": null,
   "metadata": {},
   "outputs": [],
   "source": []
  },
  {
   "cell_type": "code",
   "execution_count": null,
   "metadata": {},
   "outputs": [],
   "source": []
  },
  {
   "cell_type": "code",
   "execution_count": null,
   "metadata": {},
   "outputs": [],
   "source": []
  },
  {
   "cell_type": "code",
   "execution_count": null,
   "metadata": {},
   "outputs": [],
   "source": []
  },
  {
   "cell_type": "code",
   "execution_count": null,
   "metadata": {},
   "outputs": [],
   "source": []
  }
 ],
 "metadata": {
  "kernelspec": {
   "display_name": "Python 3",
   "language": "python",
   "name": "python3"
  },
  "language_info": {
   "codemirror_mode": {
    "name": "ipython",
    "version": 3
   },
   "file_extension": ".py",
   "mimetype": "text/x-python",
   "name": "python",
   "nbconvert_exporter": "python",
   "pygments_lexer": "ipython3",
   "version": "3.6.5"
  }
 },
 "nbformat": 4,
 "nbformat_minor": 2
}
